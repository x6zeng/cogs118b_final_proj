{
 "cells": [
  {
   "cell_type": "code",
<<<<<<< HEAD
   "execution_count": 86,
=======
   "execution_count": 1,
>>>>>>> d494279b2f085a2815e0584c09f2d1d5066b4fc3
   "id": "556c81a4",
   "metadata": {},
   "outputs": [
    {
     "name": "stderr",
     "output_type": "stream",
     "text": [
      "/opt/conda/lib/python3.9/site-packages/scipy/__init__.py:146: UserWarning: A NumPy version >=1.16.5 and <1.23.0 is required for this version of SciPy (detected version 1.23.5\n",
      "  warnings.warn(f\"A NumPy version >={np_minversion} and <{np_maxversion}\"\n",
      "2022-11-29 02:59:33.599795: I tensorflow/core/platform/cpu_feature_guard.cc:193] This TensorFlow binary is optimized with oneAPI Deep Neural Network Library (oneDNN) to use the following CPU instructions in performance-critical operations:  AVX2 AVX512F AVX512_VNNI FMA\n",
      "To enable them in other operations, rebuild TensorFlow with the appropriate compiler flags.\n",
      "2022-11-29 02:59:34.165956: I tensorflow/core/util/util.cc:169] oneDNN custom operations are on. You may see slightly different numerical results due to floating-point round-off errors from different computation orders. To turn them off, set the environment variable `TF_ENABLE_ONEDNN_OPTS=0`.\n",
      "2022-11-29 02:59:34.332310: W tensorflow/stream_executor/platform/default/dso_loader.cc:64] Could not load dynamic library 'libcudart.so.11.0'; dlerror: libcudart.so.11.0: cannot open shared object file: No such file or directory; LD_LIBRARY_PATH: /usr/local/nvidia/lib:/usr/local/nvidia/lib64\n",
      "2022-11-29 02:59:34.332372: I tensorflow/stream_executor/cuda/cudart_stub.cc:29] Ignore above cudart dlerror if you do not have a GPU set up on your machine.\n",
      "2022-11-29 02:59:34.408110: E tensorflow/stream_executor/cuda/cuda_blas.cc:2981] Unable to register cuBLAS factory: Attempting to register factory for plugin cuBLAS when one has already been registered\n",
      "2022-11-29 02:59:36.394289: W tensorflow/stream_executor/platform/default/dso_loader.cc:64] Could not load dynamic library 'libnvinfer.so.7'; dlerror: libnvinfer.so.7: cannot open shared object file: No such file or directory; LD_LIBRARY_PATH: /usr/local/nvidia/lib:/usr/local/nvidia/lib64\n",
      "2022-11-29 02:59:36.394738: W tensorflow/stream_executor/platform/default/dso_loader.cc:64] Could not load dynamic library 'libnvinfer_plugin.so.7'; dlerror: libnvinfer_plugin.so.7: cannot open shared object file: No such file or directory; LD_LIBRARY_PATH: /usr/local/nvidia/lib:/usr/local/nvidia/lib64\n",
      "2022-11-29 02:59:36.394767: W tensorflow/compiler/tf2tensorrt/utils/py_utils.cc:38] TF-TRT Warning: Cannot dlopen some TensorRT libraries. If you would like to use Nvidia GPU with TensorRT, please make sure the missing libraries mentioned above are installed properly.\n"
     ]
    }
   ],
   "source": [
    "import numpy as np\n",
    "import pandas as pd\n",
    "import os\n",
    "import math\n",
    "from imblearn.over_sampling import SMOTE\n",
    "from sklearn.pipeline import Pipeline\n",
    "from sklearn.impute import SimpleImputer\n",
    "from sklearn.preprocessing import StandardScaler\n",
    "from sklearn.preprocessing import OneHotEncoder\n",
    "from sklearn.ensemble import RandomForestClassifier\n",
    "from sklearn.compose import ColumnTransformer\n",
    "from sklearn.linear_model import LogisticRegression\n",
    "from sklearn.model_selection import train_test_split\n",
    "from sklearn.decomposition import PCA\n",
    "from sklearn.metrics import confusion_matrix, roc_curve\n",
    "import tensorflow as tf\n",
    "from tensorflow import keras\n",
    "import matplotlib.pyplot as plt"
   ]
  },
  {
   "cell_type": "code",
<<<<<<< HEAD
   "execution_count": 87,
=======
   "execution_count": 2,
>>>>>>> d494279b2f085a2815e0584c09f2d1d5066b4fc3
   "id": "8e3e37bc",
   "metadata": {},
   "outputs": [],
   "source": [
    "data = pd.read_csv('healthcare-dataset-stroke-data.csv')"
   ]
  },
  {
   "cell_type": "code",
<<<<<<< HEAD
   "execution_count": 88,
=======
   "execution_count": 3,
>>>>>>> d494279b2f085a2815e0584c09f2d1d5066b4fc3
   "id": "d2da932f",
   "metadata": {},
   "outputs": [
    {
     "data": {
      "text/html": [
       "<div>\n",
       "<style scoped>\n",
       "    .dataframe tbody tr th:only-of-type {\n",
       "        vertical-align: middle;\n",
       "    }\n",
       "\n",
       "    .dataframe tbody tr th {\n",
       "        vertical-align: top;\n",
       "    }\n",
       "\n",
       "    .dataframe thead th {\n",
       "        text-align: right;\n",
       "    }\n",
       "</style>\n",
       "<table border=\"1\" class=\"dataframe\">\n",
       "  <thead>\n",
       "    <tr style=\"text-align: right;\">\n",
       "      <th></th>\n",
       "      <th>id</th>\n",
       "      <th>gender</th>\n",
       "      <th>age</th>\n",
       "      <th>hypertension</th>\n",
       "      <th>heart_disease</th>\n",
       "      <th>ever_married</th>\n",
       "      <th>work_type</th>\n",
       "      <th>Residence_type</th>\n",
       "      <th>avg_glucose_level</th>\n",
       "      <th>bmi</th>\n",
       "      <th>smoking_status</th>\n",
       "      <th>stroke</th>\n",
       "    </tr>\n",
       "  </thead>\n",
       "  <tbody>\n",
       "    <tr>\n",
       "      <th>0</th>\n",
       "      <td>9046</td>\n",
       "      <td>Male</td>\n",
       "      <td>67.0</td>\n",
       "      <td>0</td>\n",
       "      <td>1</td>\n",
       "      <td>Yes</td>\n",
       "      <td>Private</td>\n",
       "      <td>Urban</td>\n",
       "      <td>228.69</td>\n",
       "      <td>36.6</td>\n",
       "      <td>formerly smoked</td>\n",
       "      <td>1</td>\n",
       "    </tr>\n",
       "    <tr>\n",
       "      <th>1</th>\n",
       "      <td>51676</td>\n",
       "      <td>Female</td>\n",
       "      <td>61.0</td>\n",
       "      <td>0</td>\n",
       "      <td>0</td>\n",
       "      <td>Yes</td>\n",
       "      <td>Self-employed</td>\n",
       "      <td>Rural</td>\n",
       "      <td>202.21</td>\n",
       "      <td>NaN</td>\n",
       "      <td>never smoked</td>\n",
       "      <td>1</td>\n",
       "    </tr>\n",
       "    <tr>\n",
       "      <th>2</th>\n",
       "      <td>31112</td>\n",
       "      <td>Male</td>\n",
       "      <td>80.0</td>\n",
       "      <td>0</td>\n",
       "      <td>1</td>\n",
       "      <td>Yes</td>\n",
       "      <td>Private</td>\n",
       "      <td>Rural</td>\n",
       "      <td>105.92</td>\n",
       "      <td>32.5</td>\n",
       "      <td>never smoked</td>\n",
       "      <td>1</td>\n",
       "    </tr>\n",
       "    <tr>\n",
       "      <th>3</th>\n",
       "      <td>60182</td>\n",
       "      <td>Female</td>\n",
       "      <td>49.0</td>\n",
       "      <td>0</td>\n",
       "      <td>0</td>\n",
       "      <td>Yes</td>\n",
       "      <td>Private</td>\n",
       "      <td>Urban</td>\n",
       "      <td>171.23</td>\n",
       "      <td>34.4</td>\n",
       "      <td>smokes</td>\n",
       "      <td>1</td>\n",
       "    </tr>\n",
       "    <tr>\n",
       "      <th>4</th>\n",
       "      <td>1665</td>\n",
       "      <td>Female</td>\n",
       "      <td>79.0</td>\n",
       "      <td>1</td>\n",
       "      <td>0</td>\n",
       "      <td>Yes</td>\n",
       "      <td>Self-employed</td>\n",
       "      <td>Rural</td>\n",
       "      <td>174.12</td>\n",
       "      <td>24.0</td>\n",
       "      <td>never smoked</td>\n",
       "      <td>1</td>\n",
       "    </tr>\n",
       "    <tr>\n",
       "      <th>...</th>\n",
       "      <td>...</td>\n",
       "      <td>...</td>\n",
       "      <td>...</td>\n",
       "      <td>...</td>\n",
       "      <td>...</td>\n",
       "      <td>...</td>\n",
       "      <td>...</td>\n",
       "      <td>...</td>\n",
       "      <td>...</td>\n",
       "      <td>...</td>\n",
       "      <td>...</td>\n",
       "      <td>...</td>\n",
       "    </tr>\n",
       "    <tr>\n",
       "      <th>5105</th>\n",
       "      <td>18234</td>\n",
       "      <td>Female</td>\n",
       "      <td>80.0</td>\n",
       "      <td>1</td>\n",
       "      <td>0</td>\n",
       "      <td>Yes</td>\n",
       "      <td>Private</td>\n",
       "      <td>Urban</td>\n",
       "      <td>83.75</td>\n",
       "      <td>NaN</td>\n",
       "      <td>never smoked</td>\n",
       "      <td>0</td>\n",
       "    </tr>\n",
       "    <tr>\n",
       "      <th>5106</th>\n",
       "      <td>44873</td>\n",
       "      <td>Female</td>\n",
       "      <td>81.0</td>\n",
       "      <td>0</td>\n",
       "      <td>0</td>\n",
       "      <td>Yes</td>\n",
       "      <td>Self-employed</td>\n",
       "      <td>Urban</td>\n",
       "      <td>125.20</td>\n",
       "      <td>40.0</td>\n",
       "      <td>never smoked</td>\n",
       "      <td>0</td>\n",
       "    </tr>\n",
       "    <tr>\n",
       "      <th>5107</th>\n",
       "      <td>19723</td>\n",
       "      <td>Female</td>\n",
       "      <td>35.0</td>\n",
       "      <td>0</td>\n",
       "      <td>0</td>\n",
       "      <td>Yes</td>\n",
       "      <td>Self-employed</td>\n",
       "      <td>Rural</td>\n",
       "      <td>82.99</td>\n",
       "      <td>30.6</td>\n",
       "      <td>never smoked</td>\n",
       "      <td>0</td>\n",
       "    </tr>\n",
       "    <tr>\n",
       "      <th>5108</th>\n",
       "      <td>37544</td>\n",
       "      <td>Male</td>\n",
       "      <td>51.0</td>\n",
       "      <td>0</td>\n",
       "      <td>0</td>\n",
       "      <td>Yes</td>\n",
       "      <td>Private</td>\n",
       "      <td>Rural</td>\n",
       "      <td>166.29</td>\n",
       "      <td>25.6</td>\n",
       "      <td>formerly smoked</td>\n",
       "      <td>0</td>\n",
       "    </tr>\n",
       "    <tr>\n",
       "      <th>5109</th>\n",
       "      <td>44679</td>\n",
       "      <td>Female</td>\n",
       "      <td>44.0</td>\n",
       "      <td>0</td>\n",
       "      <td>0</td>\n",
       "      <td>Yes</td>\n",
       "      <td>Govt_job</td>\n",
       "      <td>Urban</td>\n",
       "      <td>85.28</td>\n",
       "      <td>26.2</td>\n",
       "      <td>Unknown</td>\n",
       "      <td>0</td>\n",
       "    </tr>\n",
       "  </tbody>\n",
       "</table>\n",
       "<p>5110 rows × 12 columns</p>\n",
       "</div>"
      ],
      "text/plain": [
       "         id  gender   age  hypertension  heart_disease ever_married  \\\n",
       "0      9046    Male  67.0             0              1          Yes   \n",
       "1     51676  Female  61.0             0              0          Yes   \n",
       "2     31112    Male  80.0             0              1          Yes   \n",
       "3     60182  Female  49.0             0              0          Yes   \n",
       "4      1665  Female  79.0             1              0          Yes   \n",
       "...     ...     ...   ...           ...            ...          ...   \n",
       "5105  18234  Female  80.0             1              0          Yes   \n",
       "5106  44873  Female  81.0             0              0          Yes   \n",
       "5107  19723  Female  35.0             0              0          Yes   \n",
       "5108  37544    Male  51.0             0              0          Yes   \n",
       "5109  44679  Female  44.0             0              0          Yes   \n",
       "\n",
       "          work_type Residence_type  avg_glucose_level   bmi   smoking_status  \\\n",
       "0           Private          Urban             228.69  36.6  formerly smoked   \n",
       "1     Self-employed          Rural             202.21   NaN     never smoked   \n",
       "2           Private          Rural             105.92  32.5     never smoked   \n",
       "3           Private          Urban             171.23  34.4           smokes   \n",
       "4     Self-employed          Rural             174.12  24.0     never smoked   \n",
       "...             ...            ...                ...   ...              ...   \n",
       "5105        Private          Urban              83.75   NaN     never smoked   \n",
       "5106  Self-employed          Urban             125.20  40.0     never smoked   \n",
       "5107  Self-employed          Rural              82.99  30.6     never smoked   \n",
       "5108        Private          Rural             166.29  25.6  formerly smoked   \n",
       "5109       Govt_job          Urban              85.28  26.2          Unknown   \n",
       "\n",
       "      stroke  \n",
       "0          1  \n",
       "1          1  \n",
       "2          1  \n",
       "3          1  \n",
       "4          1  \n",
       "...      ...  \n",
       "5105       0  \n",
       "5106       0  \n",
       "5107       0  \n",
       "5108       0  \n",
       "5109       0  \n",
       "\n",
       "[5110 rows x 12 columns]"
      ]
     },
<<<<<<< HEAD
     "execution_count": 88,
=======
     "execution_count": 3,
>>>>>>> d494279b2f085a2815e0584c09f2d1d5066b4fc3
     "metadata": {},
     "output_type": "execute_result"
    }
   ],
   "source": [
    "data"
   ]
  },
  {
   "cell_type": "markdown",
   "id": "d7e4ecaa",
   "metadata": {},
   "source": [
    "### EDA"
   ]
  },
  {
   "cell_type": "code",
<<<<<<< HEAD
   "execution_count": 89,
=======
   "execution_count": 4,
>>>>>>> d494279b2f085a2815e0584c09f2d1d5066b4fc3
   "id": "2455a5ca",
   "metadata": {},
   "outputs": [
    {
     "data": {
      "image/png": "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\n",
      "text/plain": [
       "<Figure size 432x288 with 1 Axes>"
      ]
     },
<<<<<<< HEAD
=======
     "execution_count": 4,
>>>>>>> d494279b2f085a2815e0584c09f2d1d5066b4fc3
     "metadata": {},
     "output_type": "display_data"
    }
   ],
   "source": [
    "data.gender.value_counts(normalize=True)\n",
    "y = np.array([2994, 2115, 1])\n",
    "mylabels = [\"Female 58%\", \"Male 41%\", \"Other 0.01%\"]\n",
    "plt.pie(y, labels = mylabels, explode=[0.01, 0.01, 0.01])\n",
    "plt.title(\"Gender distribution of the patients\")\n",
    "plt.show() "
   ]
  },
  {
   "cell_type": "code",
<<<<<<< HEAD
   "execution_count": null,
   "id": "f9151d82",
   "metadata": {},
   "outputs": [],
   "source": []
  },
  {
   "cell_type": "code",
   "execution_count": 90,
=======
   "execution_count": 5,
>>>>>>> d494279b2f085a2815e0584c09f2d1d5066b4fc3
   "id": "35852431",
   "metadata": {},
   "outputs": [
    {
     "data": {
<<<<<<< HEAD
      "image/png": "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\n",
=======
      "text/plain": [
       "<AxesSubplot:>"
      ]
     },
     "execution_count": 5,
     "metadata": {},
     "output_type": "execute_result"
    },
    {
     "data": {
      "image/png": "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\n",
>>>>>>> d494279b2f085a2815e0584c09f2d1d5066b4fc3
      "text/plain": [
       "<Figure size 432x288 with 1 Axes>"
      ]
     },
     "metadata": {
      "needs_background": "light"
     },
     "output_type": "display_data"
    }
   ],
   "source": [
    "plt.hist(data.age, rwidth=0.8, density=False)\n",
    "plt.title(\"Age distribution of the patients\")\n",
    "plt.show()"
   ]
  },
  {
   "cell_type": "code",
<<<<<<< HEAD
   "execution_count": 91,
=======
   "execution_count": 6,
>>>>>>> d494279b2f085a2815e0584c09f2d1d5066b4fc3
   "id": "84ac435c",
   "metadata": {},
   "outputs": [
    {
     "data": {
      "text/plain": [
       "0    0.902544\n",
       "1    0.097456\n",
       "Name: hypertension, dtype: float64"
      ]
     },
<<<<<<< HEAD
     "execution_count": 91,
=======
     "execution_count": 6,
>>>>>>> d494279b2f085a2815e0584c09f2d1d5066b4fc3
     "metadata": {},
     "output_type": "execute_result"
    }
   ],
   "source": [
    "data.hypertension.value_counts(normalize=True)"
   ]
  },
  {
   "cell_type": "code",
<<<<<<< HEAD
   "execution_count": 92,
   "id": "99a41375",
   "metadata": {},
   "outputs": [
    {
     "data": {
      "image/png": "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\n",
      "text/plain": [
       "<Figure size 432x288 with 1 Axes>"
      ]
     },
     "metadata": {},
     "output_type": "display_data"
    }
   ],
   "source": [
    "y = np.array([4612, 498])\n",
    "mylabels = [\"Do not have Hypertension 90%\", \"Have Hypertension 10%\"]\n",
    "plt.pie(y, labels = mylabels, explode=[0.01, 0.01])\n",
    "plt.title(\"Hypertension distribution of the patients\")\n",
    "plt.show() "
   ]
  },
  {
   "cell_type": "code",
   "execution_count": 93,
   "id": "8316bf7a",
=======
   "execution_count": 7,
   "id": "2f51b70f",
>>>>>>> d494279b2f085a2815e0584c09f2d1d5066b4fc3
   "metadata": {},
   "outputs": [
    {
     "data": {
      "text/plain": [
       "0    0.945988\n",
       "1    0.054012\n",
       "Name: heart_disease, dtype: float64"
      ]
     },
<<<<<<< HEAD
     "execution_count": 93,
=======
     "execution_count": 7,
>>>>>>> d494279b2f085a2815e0584c09f2d1d5066b4fc3
     "metadata": {},
     "output_type": "execute_result"
    }
   ],
   "source": [
    "data.heart_disease.value_counts(normalize=True)"
   ]
  },
  {
   "cell_type": "code",
<<<<<<< HEAD
   "execution_count": 94,
   "id": "2f51b70f",
   "metadata": {},
   "outputs": [
    {
     "data": {
      "image/png": "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\n",
      "text/plain": [
       "<Figure size 432x288 with 1 Axes>"
      ]
     },
     "metadata": {},
     "output_type": "display_data"
    }
   ],
   "source": [
    "y = np.array([4834, 276])\n",
    "mylabels = [\"Do not have heart disease 94.59%\", \"Have heart disease 5.4%\"]\n",
    "plt.pie(y, labels = mylabels, explode=[0.01, 0.01])\n",
    "plt.title(\"Heart Disease distribution of the patients\")\n",
    "plt.show() "
   ]
  },
  {
   "cell_type": "code",
   "execution_count": 95,
=======
   "execution_count": 8,
>>>>>>> d494279b2f085a2815e0584c09f2d1d5066b4fc3
   "id": "0048afb5",
   "metadata": {},
   "outputs": [
    {
     "data": {
      "text/plain": [
       "Yes    3353\n",
       "No     1757\n",
       "Name: ever_married, dtype: int64"
      ]
     },
<<<<<<< HEAD
     "execution_count": 95,
=======
     "execution_count": 8,
>>>>>>> d494279b2f085a2815e0584c09f2d1d5066b4fc3
     "metadata": {},
     "output_type": "execute_result"
    }
   ],
   "source": [
    "data.ever_married.value_counts(dropna=False)"
   ]
  },
  {
   "cell_type": "code",
<<<<<<< HEAD
   "execution_count": 96,
=======
   "execution_count": 9,
>>>>>>> d494279b2f085a2815e0584c09f2d1d5066b4fc3
   "id": "b5c06947",
   "metadata": {},
   "outputs": [
    {
     "data": {
      "text/plain": [
       "Private          2925\n",
       "Self-employed     819\n",
       "children          687\n",
       "Govt_job          657\n",
       "Never_worked       22\n",
       "Name: work_type, dtype: int64"
      ]
     },
<<<<<<< HEAD
     "execution_count": 96,
=======
     "execution_count": 9,
>>>>>>> d494279b2f085a2815e0584c09f2d1d5066b4fc3
     "metadata": {},
     "output_type": "execute_result"
    }
   ],
   "source": [
    "data.work_type.value_counts(dropna=False)"
   ]
  },
  {
   "cell_type": "code",
<<<<<<< HEAD
   "execution_count": 97,
=======
   "execution_count": 10,
>>>>>>> d494279b2f085a2815e0584c09f2d1d5066b4fc3
   "id": "a6499cdb",
   "metadata": {},
   "outputs": [
    {
     "data": {
      "text/plain": [
       "Urban    2596\n",
       "Rural    2514\n",
       "Name: Residence_type, dtype: int64"
      ]
     },
<<<<<<< HEAD
     "execution_count": 97,
=======
     "execution_count": 10,
>>>>>>> d494279b2f085a2815e0584c09f2d1d5066b4fc3
     "metadata": {},
     "output_type": "execute_result"
    }
   ],
   "source": [
    "data.Residence_type.value_counts(dropna=False)"
   ]
  },
  {
   "cell_type": "code",
<<<<<<< HEAD
   "execution_count": 98,
=======
   "execution_count": 11,
>>>>>>> d494279b2f085a2815e0584c09f2d1d5066b4fc3
   "id": "0b2b2505",
   "metadata": {},
   "outputs": [
    {
     "data": {
      "text/plain": [
       "<AxesSubplot:>"
      ]
     },
<<<<<<< HEAD
     "execution_count": 98,
=======
     "execution_count": 11,
>>>>>>> d494279b2f085a2815e0584c09f2d1d5066b4fc3
     "metadata": {},
     "output_type": "execute_result"
    },
    {
     "data": {
      "image/png": "iVBORw0KGgoAAAANSUhEUgAAAX0AAAD4CAYAAAAAczaOAAAAOXRFWHRTb2Z0d2FyZQBNYXRwbG90bGliIHZlcnNpb24zLjQuMiwgaHR0cHM6Ly9tYXRwbG90bGliLm9yZy8rg+JYAAAACXBIWXMAAAsTAAALEwEAmpwYAAAT+klEQVR4nO3df6zd9X3f8edr0CKGkzQpyZVr09mZnEiANxZfsUjZomtlK4RMg0zrZoQCLJmcRERqNE+aWSoFLbLEutJoURo6pyBgyXBRKAWJsJWiXtFJMGqnDjYQiglu5x+ylcCAmyIvdt77436dnLnnXPuec32u7/08H9LR+Z7P99fnvPnyut/z+X7PcaoKSVIb/sZid0CSND6GviQ1xNCXpIYY+pLUEENfkhpy/mJ34HQuvvjiWrNmzcD5P/rRj7jooovG16Elwrr0Z136sy6DLdXa7Nq16wdV9e5T28/50F+zZg07d+4cOH96epqpqanxdWiJsC79WZf+rMtgS7U2Sf6iX7vDO5LUEENfkhpi6EtSQwx9SWqIoS9JDTH0Jakhhr4kNcTQl6SGGPqS1JBz/hu5S9GarY8u2r733/6xRdu3pHPfac/0k9yd5GiSvT1tv5dkd/fYn2R3174myVs9836nZ50NSfYk2ZfkK0lyVt6RJGmgMznTvwf4KnDfyYaq+pcnp5PcAbzes/zLVXVFn+3cCWwGnga+DVwNPDbvHkuShnbaM/2qehJ4td+87mz9XwD3z7WNJCuBt1fVUzX7j/LeB1w3795KkkYy6pj+PwSOVNVLPW1rk/wZ8Abw61X1J8Aq4EDPMge6tr6SbGb2UwETExNMT08P7MDMzMyc8xfDlvXHF23fJ2txLtblXGBd+rMugy232owa+tfz/5/lHwZ+uap+mGQD8AdJLgP6jd/XoI1W1XZgO8Dk5GTN9bOm5+LPnt68mBdyb5gCzs26nAusS3/WZbDlVpuhQz/J+cA/AzacbKuqY8CxbnpXkpeB9zF7Zr+6Z/XVwKFh9y1JGs4o9+n/I+B7VfXTYZsk705yXjf9XmAd8P2qOgy8meSD3XWAG4GHR9i3JGkIZ3LL5v3AU8D7kxxI8qlu1ib++gXcDwPPJvku8C3gM1V18iLwZ4HfBfYBL+OdO5I0dqcd3qmq6we039yn7UHgwQHL7wQun2f/JEkLyJ9hkKSGGPqS1BBDX5IaYuhLUkMMfUlqiKEvSQ0x9CWpIYa+JDXE0Jekhhj6ktQQQ1+SGmLoS1JDDH1JaoihL0kNMfQlqSGGviQ1xNCXpIYY+pLUEENfkhpi6EtSQ04b+knuTnI0yd6ettuSHEyyu3tc0zPv1iT7kryY5Kqe9g1J9nTzvpIkC/92JElzOZMz/XuAq/u0f7mqruge3wZIcimwCbisW+drSc7rlr8T2Ays6x79tilJOotOG/pV9STw6hlu71pgR1Udq6pXgH3AlUlWAm+vqqeqqoD7gOuG7LMkaUjnj7Du55LcCOwEtlTVa8Aq4OmeZQ50bT/upk9t7yvJZmY/FTAxMcH09PTATszMzMw5fzFsWX980fZ9shbnYl3OBdalP+sy2HKrzbChfyfwJaC65zuATwL9xulrjva+qmo7sB1gcnKypqamBnZkenqaueYvhpu3Prpo+95/wxRwbtblXGBd+rMugy232gx1905VHamqE1X1E+DrwJXdrAPAJT2LrgYOde2r+7RLksZoqNDvxuhP+jhw8s6eR4BNSS5IspbZC7bPVNVh4M0kH+zu2rkReHiEfkuShnDa4Z0k9wNTwMVJDgBfBKaSXMHsEM1+4NMAVfVckgeA54HjwC1VdaLb1GeZvRPoQuCx7iFJGqPThn5VXd+n+a45lt8GbOvTvhO4fF69kyQtKL+RK0kNMfQlqSGGviQ1xNCXpIYY+pLUEENfkhpi6EtSQwx9SWqIoS9JDTH0Jakhhr4kNcTQl6SGGPqS1BBDX5IaYuhLUkMMfUlqiKEvSQ0x9CWpIYa+JDXE0Jekhpw29JPcneRokr09bf8pyfeSPJvkoSS/0LWvSfJWkt3d43d61tmQZE+SfUm+kiRn5R1JkgY6kzP9e4CrT2l7HLi8qv4O8OfArT3zXq6qK7rHZ3ra7wQ2A+u6x6nblCSdZacN/ap6Enj1lLY/rKrj3cungdVzbSPJSuDtVfVUVRVwH3DdUD2WJA3t/AXYxieB3+t5vTbJnwFvAL9eVX8CrAIO9CxzoGvrK8lmZj8VMDExwfT09MCdz8zMDJy/5+DrZ/QGFtqW9YuyW4Cf1mKuurTMuvRnXQZbbrUZKfSTfAE4DnyzazoM/HJV/TDJBuAPklwG9Bu/r0HbrartwHaAycnJmpqaGtiH6elpBs2/eeujp38Ty8z+G6aAuevSMuvSn3UZbLnVZujQT3IT8E+Aj3RDNlTVMeBYN70rycvA+5g9s+8dAloNHBp235Kk4Qx1y2aSq4F/B/zTqvqrnvZ3Jzmvm34vsxdsv19Vh4E3k3ywu2vnRuDhkXsvSZqX057pJ7kfmAIuTnIA+CKzd+tcADze3Xn5dHenzoeB/5DkOHAC+ExVnbwI/Flm7wS6EHise0iSxui0oV9V1/dpvmvAsg8CDw6YtxO4fF69kyQtKL+RK0kNMfQlqSGGviQ1xNCXpIYY+pLUEENfkhpi6EtSQwx9SWqIoS9JDTH0Jakhhr4kNcTQl6SGGPqS1BBDX5IaYuhLUkMMfUlqiKEvSQ0x9CWpIYa+JDXE0Jekhpw29JPcneRokr09be9K8niSl7rnd/bMuzXJviQvJrmqp31Dkj3dvK8kycK/HUnSXM7kTP8e4OpT2rYCT1TVOuCJ7jVJLgU2AZd163wtyXndOncCm4F13ePUbUqSzrLThn5VPQm8ekrztcC93fS9wHU97Tuq6lhVvQLsA65MshJ4e1U9VVUF3NezjiRpTM4fcr2JqjoMUFWHk7yna18FPN2z3IGu7cfd9KntfSXZzOynAiYmJpienh7YkZmZmYHzt6w/fpq3sfycrMVcdWmZdenPugy23GozbOgP0m+cvuZo76uqtgPbASYnJ2tqamrgDqenpxk0/+atjw7u6TK1/4YpYO66tMy69GddBltutRn27p0j3ZAN3fPRrv0AcEnPcquBQ1376j7tkqQxGjb0HwFu6qZvAh7uad+U5IIka5m9YPtMNxT0ZpIPdnft3NizjiRpTE47vJPkfmAKuDjJAeCLwO3AA0k+Bfwl8KsAVfVckgeA54HjwC1VdaLb1GeZvRPoQuCx7iFJGqPThn5VXT9g1kcGLL8N2NanfSdw+bx6p3lb013H2LL++Fivaey//WNj25ek4fmNXElqiKEvSQ0x9CWpIYa+JDXE0Jekhhj6ktQQQ1+SGmLoS1JDDH1JaoihL0kNMfQlqSGGviQ1xNCXpIYY+pLUEENfkhpi6EtSQwx9SWqIoS9JDTH0Jakhhr4kNWTo0E/y/iS7ex5vJPl8ktuSHOxpv6ZnnVuT7EvyYpKrFuYtSJLO1PnDrlhVLwJXACQ5DzgIPAT8K+DLVfWbvcsnuRTYBFwG/BLwR0neV1Unhu2DJGl+Fmp45yPAy1X1F3Mscy2wo6qOVdUrwD7gygXavyTpDKSqRt9Icjfwnar6apLbgJuBN4CdwJaqei3JV4Gnq+ob3Tp3AY9V1bf6bG8zsBlgYmJiw44dOwbue2ZmhhUrVvSdt+fg66O8rSVt4kI48tb49rd+1TvGt7MRzHW8tMy6DLZUa7Nx48ZdVTV5avvIoZ/k54FDwGVVdSTJBPADoIAvASur6pNJfht46pTQ/3ZVPTjX9icnJ2vnzp0D509PTzM1NdV33pqtjw7xjpaHLeuPc8eeoUfv5m3/7R8b275GMdfx0jLrMthSrU2SvqG/EMM7H2X2LP8IQFUdqaoTVfUT4Ov8bAjnAHBJz3qrmf1jIUkak4UI/euB+0++SLKyZ97Hgb3d9CPApiQXJFkLrAOeWYD9S5LO0Eif/5P8TeAfA5/uaf6NJFcwO7yz/+S8qnouyQPA88Bx4Bbv3JGk8Rop9Kvqr4BfPKXtE3Msvw3YNso+JUnD8xu5ktQQQ1+SGmLoS1JDDH1JaoihL0kNMfQlqSGGviQ1xNCXpIYY+pLUEENfkhpi6EtSQwx9SWqIoS9JDTH0Jakhhr4kNcTQl6SGGPqS1BBDX5IaYuhLUkMMfUlqyEihn2R/kj1JdifZ2bW9K8njSV7qnt/Zs/ytSfYleTHJVaN2XpI0Pwtxpr+xqq6oqsnu9VbgiapaBzzRvSbJpcAm4DLgauBrSc5bgP1Lks7Q2RjeuRa4t5u+F7iup31HVR2rqleAfcCVZ2H/kqQBUlXDr5y8ArwGFPBfqmp7kv9TVb/Qs8xrVfXOJF8Fnq6qb3TtdwGPVdW3+mx3M7AZYGJiYsOOHTsG9mFmZoYVK1b0nbfn4OtDv7elbuJCOPLW+Pa3ftU7xrezEcx1vLTMugy2VGuzcePGXT0jMD91/ojb/VBVHUryHuDxJN+bY9n0aev7F6eqtgPbASYnJ2tqamrgRqenpxk0/+atj87RneVty/rj3LFn1P+8Z27/DVNj29co5jpeWmZdBltutRlpeKeqDnXPR4GHmB2uOZJkJUD3fLRb/ABwSc/qq4FDo+xfkjQ/Q4d+kouSvO3kNPArwF7gEeCmbrGbgIe76UeATUkuSLIWWAc8M+z+JUnzN8rn/wngoSQnt/Pfquq/J/lT4IEknwL+EvhVgKp6LskDwPPAceCWqjoxUu8lSfMydOhX1feBv9un/YfARwassw3YNuw+JUmj8Ru5ktQQQ1+SGmLoS1JDDH1JaoihL0kNMfQlqSGGviQ1xNCXpIYY+pLUEENfkhpi6EtSQwx9SWqIoS9JDTH0Jakhhr4kNcTQl6SGjO9fztaytmYR/xH6/bd/bNH2LS01nulLUkMMfUlqiKEvSQ0ZOvSTXJLkj5O8kOS5JL/Wtd+W5GCS3d3jmp51bk2yL8mLSa5aiDcgSTpzo1zIPQ5sqarvJHkbsCvJ4928L1fVb/YunORSYBNwGfBLwB8leV9VnRihD5KkeRj6TL+qDlfVd7rpN4EXgFVzrHItsKOqjlXVK8A+4Mph9y9Jmr9U1egbSdYATwKXA/8GuBl4A9jJ7KeB15J8FXi6qr7RrXMX8FhVfavP9jYDmwEmJiY27NixY+C+Z2ZmWLFiRd95ew6+PvybWuImLoQjby12L8Zj/ap3nPGycx0vLbMugy3V2mzcuHFXVU2e2j7yffpJVgAPAp+vqjeS3Al8Caju+Q7gk0D6rN73L05VbQe2A0xOTtbU1NTA/U9PTzNo/s2LeO/4Ytuy/jh37Gnjaxj7b5g642XnOl5aZl0GW261GenunSQ/x2zgf7Oqfh+gqo5U1Ymq+gnwdX42hHMAuKRn9dXAoVH2L0man1Hu3glwF/BCVf1WT/vKnsU+Duztph8BNiW5IMlaYB3wzLD7lyTN3yif/z8EfALYk2R31/bvgeuTXMHs0M1+4NMAVfVckgeA55m98+cW79yRlpbF+rkNf2pj4Qwd+lX1P+k/Tv/tOdbZBmwbdp+SZi10+G5Zf7zpa2At8Ru5ktQQQ1+SGmLoS1JDDH1JaoihL0kNaeMrm1rW5nMny0LepeJthFqKPNOXpIYY+pLUEENfkhpi6EtSQ7yQK+mct1i/+QNwz9UXLdq+zwbP9CWpIZ7pS0NazLNPaVie6UtSQwx9SWqIoS9JDTH0Jakhhr4kNcTQl6SGGPqS1JCx36ef5GrgPwPnAb9bVbePuw+SdKb2HHx9Uf7R+LP1091jPdNPch7w28BHgUuB65NcOs4+SFLLxj28cyWwr6q+X1X/F9gBXDvmPkhSs1JV49tZ8s+Bq6vqX3evPwH8/ar63CnLbQY2dy/fD7w4x2YvBn5wFrq71FmX/qxLf9ZlsKVam79VVe8+tXHcY/rp0/bX/upU1XZg+xltMNlZVZOjdmy5sS79WZf+rMtgy6024x7eOQBc0vN6NXBozH2QpGaNO/T/FFiXZG2Snwc2AY+MuQ+S1KyxDu9U1fEknwP+B7O3bN5dVc+NuNkzGgZqkHXpz7r0Z10GW1a1GeuFXEnS4vIbuZLUEENfkhqypEI/yf4ke5LsTrKza3tXkseTvNQ9v3Ox+zkOSe5OcjTJ3p62gbVIcmuSfUleTHLV4vT67BtQl9uSHOyOm91JrumZ10pdLknyx0leSPJckl/r2ps+Zuaoy/I9ZqpqyTyA/cDFp7T9BrC1m94K/MfF7ueYavFh4APA3tPVgtmfvPgucAGwFngZOG+x38MY63Ib8G/7LNtSXVYCH+im3wb8eff+mz5m5qjLsj1mltSZ/gDXAvd20/cC1y1eV8anqp4EXj2leVAtrgV2VNWxqnoF2MfsT2IsOwPqMkhLdTlcVd/ppt8EXgBW0fgxM0ddBlnydVlqoV/AHybZ1f1UA8BEVR2G2f+AwHsWrXeLb1AtVgH/u2e5A8x9YC9Hn0vybDf8c3IIo8m6JFkD/D3gf+Ex81On1AWW6TGz1EL/Q1X1AWZ/pfOWJB9e7A4tEWf08xfL2J3A3wauAA4Dd3TtzdUlyQrgQeDzVfXGXIv2aVu2telTl2V7zCyp0K+qQ93zUeAhZj9WHUmyEqB7Prp4PVx0g2rR9M9fVNWRqjpRVT8Bvs7PPo43VZckP8dssH2zqn6/a27+mOlXl+V8zCyZ0E9yUZK3nZwGfgXYy+zPONzULXYT8PDi9PCcMKgWjwCbklyQZC2wDnhmEfq3KE6GWufjzB430FBdkgS4C3ihqn6rZ1bTx8yguizrY2axryTP4yr7e5m9av5d4DngC137LwJPAC91z+9a7L6OqR73M/ux88fMnn18aq5aAF9g9k6DF4GPLnb/x1yX/wrsAZ5l9n/alQ3W5R8wOwzxLLC7e1zT+jEzR12W7THjzzBIUkOWzPCOJGl0hr4kNcTQl6SGGPqS1BBDX5IaYuhLUkMMfUlqyP8DfJU8/tvVKIcAAAAASUVORK5CYII=\n",
      "text/plain": [
       "<Figure size 432x288 with 1 Axes>"
      ]
     },
     "metadata": {
      "needs_background": "light"
     },
     "output_type": "display_data"
    }
   ],
   "source": [
    "data.avg_glucose_level.hist()"
   ]
  },
  {
   "cell_type": "code",
<<<<<<< HEAD
   "execution_count": 99,
=======
   "execution_count": 12,
>>>>>>> d494279b2f085a2815e0584c09f2d1d5066b4fc3
   "id": "e9242e6f",
   "metadata": {},
   "outputs": [
    {
     "data": {
      "text/plain": [
       "<AxesSubplot:>"
      ]
     },
<<<<<<< HEAD
     "execution_count": 99,
=======
     "execution_count": 12,
>>>>>>> d494279b2f085a2815e0584c09f2d1d5066b4fc3
     "metadata": {},
     "output_type": "execute_result"
    },
    {
     "data": {
      "image/png": "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\n",
      "text/plain": [
       "<Figure size 432x288 with 1 Axes>"
      ]
     },
     "metadata": {
      "needs_background": "light"
     },
     "output_type": "display_data"
    }
   ],
   "source": [
    "data.bmi.hist()"
   ]
  },
  {
   "cell_type": "code",
<<<<<<< HEAD
   "execution_count": 100,
=======
   "execution_count": 13,
>>>>>>> d494279b2f085a2815e0584c09f2d1d5066b4fc3
   "id": "6cc28ba1",
   "metadata": {},
   "outputs": [
    {
     "data": {
      "text/plain": [
       "never smoked       1892\n",
       "Unknown            1544\n",
       "formerly smoked     885\n",
       "smokes              789\n",
       "Name: smoking_status, dtype: int64"
      ]
     },
<<<<<<< HEAD
     "execution_count": 100,
=======
     "execution_count": 13,
>>>>>>> d494279b2f085a2815e0584c09f2d1d5066b4fc3
     "metadata": {},
     "output_type": "execute_result"
    }
   ],
   "source": [
    "data.smoking_status.value_counts(dropna=False)"
   ]
  },
  {
   "cell_type": "code",
<<<<<<< HEAD
   "execution_count": 101,
=======
   "execution_count": 14,
>>>>>>> d494279b2f085a2815e0584c09f2d1d5066b4fc3
   "id": "02f52271",
   "metadata": {},
   "outputs": [
    {
     "data": {
      "text/plain": [
       "0    4861\n",
       "1     249\n",
       "Name: stroke, dtype: int64"
      ]
     },
<<<<<<< HEAD
     "execution_count": 101,
=======
     "execution_count": 14,
>>>>>>> d494279b2f085a2815e0584c09f2d1d5066b4fc3
     "metadata": {},
     "output_type": "execute_result"
    }
   ],
   "source": [
    "data.stroke.value_counts(dropna=False)"
   ]
  },
  {
   "cell_type": "code",
   "execution_count": 102,
   "id": "276a8af6",
   "metadata": {},
   "outputs": [
    {
     "data": {
      "text/html": [
       "<style type=\"text/css\">\n",
       "#T_5de39_row0_col0, #T_5de39_row1_col1, #T_5de39_row2_col2, #T_5de39_row3_col3, #T_5de39_row4_col4, #T_5de39_row5_col5, #T_5de39_row6_col6 {\n",
       "  background-color: #b40426;\n",
       "  color: #f1f1f1;\n",
       "}\n",
       "#T_5de39_row0_col1, #T_5de39_row0_col2, #T_5de39_row0_col3, #T_5de39_row0_col4, #T_5de39_row0_col5, #T_5de39_row0_col6, #T_5de39_row3_col0, #T_5de39_row4_col0 {\n",
       "  background-color: #3b4cc0;\n",
       "  color: #f1f1f1;\n",
       "}\n",
       "#T_5de39_row1_col0, #T_5de39_row2_col0, #T_5de39_row5_col0, #T_5de39_row6_col0 {\n",
       "  background-color: #3c4ec2;\n",
       "  color: #f1f1f1;\n",
       "}\n",
       "#T_5de39_row1_col2, #T_5de39_row2_col1 {\n",
       "  background-color: #96b7ff;\n",
       "  color: #000000;\n",
       "}\n",
       "#T_5de39_row1_col3 {\n",
       "  background-color: #92b4fe;\n",
       "  color: #000000;\n",
       "}\n",
       "#T_5de39_row1_col4, #T_5de39_row4_col1 {\n",
       "  background-color: #88abfd;\n",
       "  color: #000000;\n",
       "}\n",
       "#T_5de39_row1_col5, #T_5de39_row5_col1 {\n",
       "  background-color: #a9c6fd;\n",
       "  color: #000000;\n",
       "}\n",
       "#T_5de39_row1_col6 {\n",
       "  background-color: #89acfd;\n",
       "  color: #000000;\n",
       "}\n",
       "#T_5de39_row2_col3 {\n",
       "  background-color: #5d7ce6;\n",
       "  color: #f1f1f1;\n",
       "}\n",
       "#T_5de39_row2_col4, #T_5de39_row4_col5, #T_5de39_row5_col4 {\n",
       "  background-color: #7295f4;\n",
       "  color: #f1f1f1;\n",
       "}\n",
       "#T_5de39_row2_col5, #T_5de39_row5_col2 {\n",
       "  background-color: #6f92f3;\n",
       "  color: #f1f1f1;\n",
       "}\n",
       "#T_5de39_row2_col6, #T_5de39_row6_col2 {\n",
       "  background-color: #6180e9;\n",
       "  color: #f1f1f1;\n",
       "}\n",
       "#T_5de39_row3_col1 {\n",
       "  background-color: #90b2fe;\n",
       "  color: #000000;\n",
       "}\n",
       "#T_5de39_row3_col2 {\n",
       "  background-color: #5a78e4;\n",
       "  color: #f1f1f1;\n",
       "}\n",
       "#T_5de39_row3_col4, #T_5de39_row4_col3 {\n",
       "  background-color: #6e90f2;\n",
       "  color: #f1f1f1;\n",
       "}\n",
       "#T_5de39_row3_col5, #T_5de39_row5_col6 {\n",
       "  background-color: #455cce;\n",
       "  color: #f1f1f1;\n",
       "}\n",
       "#T_5de39_row3_col6, #T_5de39_row6_col4 {\n",
       "  background-color: #6384eb;\n",
       "  color: #f1f1f1;\n",
       "}\n",
       "#T_5de39_row4_col2 {\n",
       "  background-color: #7093f3;\n",
       "  color: #f1f1f1;\n",
       "}\n",
       "#T_5de39_row4_col6 {\n",
       "  background-color: #6282ea;\n",
       "  color: #f1f1f1;\n",
       "}\n",
       "#T_5de39_row5_col3, #T_5de39_row6_col5 {\n",
       "  background-color: #465ecf;\n",
       "  color: #f1f1f1;\n",
       "}\n",
       "#T_5de39_row6_col1 {\n",
       "  background-color: #8badfd;\n",
       "  color: #000000;\n",
       "}\n",
       "#T_5de39_row6_col3 {\n",
       "  background-color: #6485ec;\n",
       "  color: #f1f1f1;\n",
       "}\n",
       "</style>\n",
       "<table id=\"T_5de39\">\n",
       "  <thead>\n",
       "    <tr>\n",
       "      <th class=\"blank level0\" >&nbsp;</th>\n",
       "      <th id=\"T_5de39_level0_col0\" class=\"col_heading level0 col0\" >id</th>\n",
       "      <th id=\"T_5de39_level0_col1\" class=\"col_heading level0 col1\" >age</th>\n",
       "      <th id=\"T_5de39_level0_col2\" class=\"col_heading level0 col2\" >hypertension</th>\n",
       "      <th id=\"T_5de39_level0_col3\" class=\"col_heading level0 col3\" >heart_disease</th>\n",
       "      <th id=\"T_5de39_level0_col4\" class=\"col_heading level0 col4\" >avg_glucose_level</th>\n",
       "      <th id=\"T_5de39_level0_col5\" class=\"col_heading level0 col5\" >bmi</th>\n",
       "      <th id=\"T_5de39_level0_col6\" class=\"col_heading level0 col6\" >stroke</th>\n",
       "    </tr>\n",
       "  </thead>\n",
       "  <tbody>\n",
       "    <tr>\n",
       "      <th id=\"T_5de39_level0_row0\" class=\"row_heading level0 row0\" >id</th>\n",
       "      <td id=\"T_5de39_row0_col0\" class=\"data row0 col0\" >1.000000</td>\n",
       "      <td id=\"T_5de39_row0_col1\" class=\"data row0 col1\" >0.003538</td>\n",
       "      <td id=\"T_5de39_row0_col2\" class=\"data row0 col2\" >0.003550</td>\n",
       "      <td id=\"T_5de39_row0_col3\" class=\"data row0 col3\" >-0.001296</td>\n",
       "      <td id=\"T_5de39_row0_col4\" class=\"data row0 col4\" >0.001092</td>\n",
       "      <td id=\"T_5de39_row0_col5\" class=\"data row0 col5\" >0.003084</td>\n",
       "      <td id=\"T_5de39_row0_col6\" class=\"data row0 col6\" >0.006388</td>\n",
       "    </tr>\n",
       "    <tr>\n",
       "      <th id=\"T_5de39_level0_row1\" class=\"row_heading level0 row1\" >age</th>\n",
       "      <td id=\"T_5de39_row1_col0\" class=\"data row1 col0\" >0.003538</td>\n",
       "      <td id=\"T_5de39_row1_col1\" class=\"data row1 col1\" >1.000000</td>\n",
       "      <td id=\"T_5de39_row1_col2\" class=\"data row1 col2\" >0.276398</td>\n",
       "      <td id=\"T_5de39_row1_col3\" class=\"data row1 col3\" >0.263796</td>\n",
       "      <td id=\"T_5de39_row1_col4\" class=\"data row1 col4\" >0.238171</td>\n",
       "      <td id=\"T_5de39_row1_col5\" class=\"data row1 col5\" >0.333398</td>\n",
       "      <td id=\"T_5de39_row1_col6\" class=\"data row1 col6\" >0.245257</td>\n",
       "    </tr>\n",
       "    <tr>\n",
       "      <th id=\"T_5de39_level0_row2\" class=\"row_heading level0 row2\" >hypertension</th>\n",
       "      <td id=\"T_5de39_row2_col0\" class=\"data row2 col0\" >0.003550</td>\n",
       "      <td id=\"T_5de39_row2_col1\" class=\"data row2 col1\" >0.276398</td>\n",
       "      <td id=\"T_5de39_row2_col2\" class=\"data row2 col2\" >1.000000</td>\n",
       "      <td id=\"T_5de39_row2_col3\" class=\"data row2 col3\" >0.108306</td>\n",
       "      <td id=\"T_5de39_row2_col4\" class=\"data row2 col4\" >0.174474</td>\n",
       "      <td id=\"T_5de39_row2_col5\" class=\"data row2 col5\" >0.167811</td>\n",
       "      <td id=\"T_5de39_row2_col6\" class=\"data row2 col6\" >0.127904</td>\n",
       "    </tr>\n",
       "    <tr>\n",
       "      <th id=\"T_5de39_level0_row3\" class=\"row_heading level0 row3\" >heart_disease</th>\n",
       "      <td id=\"T_5de39_row3_col0\" class=\"data row3 col0\" >-0.001296</td>\n",
       "      <td id=\"T_5de39_row3_col1\" class=\"data row3 col1\" >0.263796</td>\n",
       "      <td id=\"T_5de39_row3_col2\" class=\"data row3 col2\" >0.108306</td>\n",
       "      <td id=\"T_5de39_row3_col3\" class=\"data row3 col3\" >1.000000</td>\n",
       "      <td id=\"T_5de39_row3_col4\" class=\"data row3 col4\" >0.161857</td>\n",
       "      <td id=\"T_5de39_row3_col5\" class=\"data row3 col5\" >0.041357</td>\n",
       "      <td id=\"T_5de39_row3_col6\" class=\"data row3 col6\" >0.134914</td>\n",
       "    </tr>\n",
       "    <tr>\n",
       "      <th id=\"T_5de39_level0_row4\" class=\"row_heading level0 row4\" >avg_glucose_level</th>\n",
       "      <td id=\"T_5de39_row4_col0\" class=\"data row4 col0\" >0.001092</td>\n",
       "      <td id=\"T_5de39_row4_col1\" class=\"data row4 col1\" >0.238171</td>\n",
       "      <td id=\"T_5de39_row4_col2\" class=\"data row4 col2\" >0.174474</td>\n",
       "      <td id=\"T_5de39_row4_col3\" class=\"data row4 col3\" >0.161857</td>\n",
       "      <td id=\"T_5de39_row4_col4\" class=\"data row4 col4\" >1.000000</td>\n",
       "      <td id=\"T_5de39_row4_col5\" class=\"data row4 col5\" >0.175502</td>\n",
       "      <td id=\"T_5de39_row4_col6\" class=\"data row4 col6\" >0.131945</td>\n",
       "    </tr>\n",
       "    <tr>\n",
       "      <th id=\"T_5de39_level0_row5\" class=\"row_heading level0 row5\" >bmi</th>\n",
       "      <td id=\"T_5de39_row5_col0\" class=\"data row5 col0\" >0.003084</td>\n",
       "      <td id=\"T_5de39_row5_col1\" class=\"data row5 col1\" >0.333398</td>\n",
       "      <td id=\"T_5de39_row5_col2\" class=\"data row5 col2\" >0.167811</td>\n",
       "      <td id=\"T_5de39_row5_col3\" class=\"data row5 col3\" >0.041357</td>\n",
       "      <td id=\"T_5de39_row5_col4\" class=\"data row5 col4\" >0.175502</td>\n",
       "      <td id=\"T_5de39_row5_col5\" class=\"data row5 col5\" >1.000000</td>\n",
       "      <td id=\"T_5de39_row5_col6\" class=\"data row5 col6\" >0.042374</td>\n",
       "    </tr>\n",
       "    <tr>\n",
       "      <th id=\"T_5de39_level0_row6\" class=\"row_heading level0 row6\" >stroke</th>\n",
       "      <td id=\"T_5de39_row6_col0\" class=\"data row6 col0\" >0.006388</td>\n",
       "      <td id=\"T_5de39_row6_col1\" class=\"data row6 col1\" >0.245257</td>\n",
       "      <td id=\"T_5de39_row6_col2\" class=\"data row6 col2\" >0.127904</td>\n",
       "      <td id=\"T_5de39_row6_col3\" class=\"data row6 col3\" >0.134914</td>\n",
       "      <td id=\"T_5de39_row6_col4\" class=\"data row6 col4\" >0.131945</td>\n",
       "      <td id=\"T_5de39_row6_col5\" class=\"data row6 col5\" >0.042374</td>\n",
       "      <td id=\"T_5de39_row6_col6\" class=\"data row6 col6\" >1.000000</td>\n",
       "    </tr>\n",
       "  </tbody>\n",
       "</table>\n"
      ],
      "text/plain": [
       "<pandas.io.formats.style.Styler at 0x1f7724a7790>"
      ]
     },
     "execution_count": 102,
     "metadata": {},
     "output_type": "execute_result"
    }
   ],
   "source": [
    "corr = data.corr()\n",
    "corr.style.background_gradient(cmap='coolwarm')"
   ]
  },
  {
   "cell_type": "code",
   "execution_count": 103,
   "id": "1971ce73",
   "metadata": {},
   "outputs": [],
   "source": [
    "def age_transform(x):\n",
    "    if x < 20:\n",
    "        return '0-20'\n",
    "    elif x < 40:\n",
    "        return '0-40'\n",
    "    elif x < 60:\n",
    "        return '40-60'\n",
    "    elif x < 80:\n",
    "        return '60-80'\n",
    "    else:\n",
    "        return '80+'"
   ]
  },
  {
   "cell_type": "code",
   "execution_count": 104,
   "id": "8fd6ac75",
   "metadata": {},
   "outputs": [],
   "source": [
    "data['age_range'] = data['age'].apply(age_transform)"
   ]
  },
  {
   "cell_type": "code",
   "execution_count": 105,
   "id": "59075cfe",
   "metadata": {},
   "outputs": [],
   "source": [
    "df_summary_table = data.pivot_table(values=['hypertension', 'heart_disease', 'avg_glucose_level', 'bmi'], index=['age_range', 'stroke', 'gender'], aggfunc={\n",
    "    'hypertension': np.mean,\n",
    "    'heart_disease': np.mean,\n",
    "    'avg_glucose_level': np.mean,\n",
    "    'bmi': np.mean\n",
    "})"
   ]
  },
  {
   "cell_type": "code",
   "execution_count": 106,
   "id": "7833a4df",
   "metadata": {},
   "outputs": [
    {
     "data": {
      "text/html": [
       "<style type=\"text/css\">\n",
       "#T_a18b7_row0_col0, #T_a18b7_row0_col1, #T_a18b7_row0_col2, #T_a18b7_row0_col3, #T_a18b7_row1_col0, #T_a18b7_row1_col1, #T_a18b7_row1_col2, #T_a18b7_row1_col3, #T_a18b7_row2_col0, #T_a18b7_row2_col1, #T_a18b7_row2_col2, #T_a18b7_row2_col3, #T_a18b7_row3_col0, #T_a18b7_row3_col1, #T_a18b7_row3_col2, #T_a18b7_row3_col3, #T_a18b7_row4_col0, #T_a18b7_row4_col1, #T_a18b7_row4_col2, #T_a18b7_row4_col3, #T_a18b7_row5_col0, #T_a18b7_row5_col1, #T_a18b7_row5_col2, #T_a18b7_row5_col3, #T_a18b7_row6_col0, #T_a18b7_row6_col1, #T_a18b7_row6_col2, #T_a18b7_row6_col3, #T_a18b7_row7_col0, #T_a18b7_row7_col1, #T_a18b7_row7_col2, #T_a18b7_row7_col3, #T_a18b7_row8_col0, #T_a18b7_row8_col1, #T_a18b7_row8_col2, #T_a18b7_row8_col3, #T_a18b7_row9_col0, #T_a18b7_row9_col2, #T_a18b7_row9_col3, #T_a18b7_row10_col0, #T_a18b7_row10_col2, #T_a18b7_row10_col3, #T_a18b7_row11_col0, #T_a18b7_row11_col1, #T_a18b7_row11_col2, #T_a18b7_row11_col3, #T_a18b7_row12_col0, #T_a18b7_row12_col1, #T_a18b7_row12_col2, #T_a18b7_row12_col3, #T_a18b7_row13_col0, #T_a18b7_row13_col1, #T_a18b7_row13_col2, #T_a18b7_row13_col3, #T_a18b7_row14_col1, #T_a18b7_row15_col0, #T_a18b7_row15_col1, #T_a18b7_row15_col2, #T_a18b7_row15_col3, #T_a18b7_row16_col0, #T_a18b7_row16_col1, #T_a18b7_row16_col2, #T_a18b7_row16_col3, #T_a18b7_row17_col0, #T_a18b7_row17_col1, #T_a18b7_row17_col2, #T_a18b7_row18_col1, #T_a18b7_row18_col3 {\n",
       "  color: black;\n",
       "}\n",
       "#T_a18b7_row9_col1, #T_a18b7_row14_col0, #T_a18b7_row14_col2, #T_a18b7_row14_col3 {\n",
       "  color: orange;\n",
       "}\n",
       "#T_a18b7_row10_col1, #T_a18b7_row17_col3, #T_a18b7_row18_col0, #T_a18b7_row18_col2 {\n",
       "  color: red;\n",
       "}\n",
       "</style>\n",
       "<table id=\"T_a18b7\">\n",
       "  <thead>\n",
       "    <tr>\n",
       "      <th class=\"blank\" >&nbsp;</th>\n",
       "      <th class=\"blank\" >&nbsp;</th>\n",
       "      <th class=\"blank level0\" >&nbsp;</th>\n",
       "      <th id=\"T_a18b7_level0_col0\" class=\"col_heading level0 col0\" >avg_glucose_level</th>\n",
       "      <th id=\"T_a18b7_level0_col1\" class=\"col_heading level0 col1\" >bmi</th>\n",
       "      <th id=\"T_a18b7_level0_col2\" class=\"col_heading level0 col2\" >heart_disease</th>\n",
       "      <th id=\"T_a18b7_level0_col3\" class=\"col_heading level0 col3\" >hypertension</th>\n",
       "    </tr>\n",
       "    <tr>\n",
       "      <th class=\"index_name level0\" >age_range</th>\n",
       "      <th class=\"index_name level1\" >stroke</th>\n",
       "      <th class=\"index_name level2\" >gender</th>\n",
       "      <th class=\"blank col0\" >&nbsp;</th>\n",
       "      <th class=\"blank col1\" >&nbsp;</th>\n",
       "      <th class=\"blank col2\" >&nbsp;</th>\n",
       "      <th class=\"blank col3\" >&nbsp;</th>\n",
       "    </tr>\n",
       "  </thead>\n",
       "  <tbody>\n",
       "    <tr>\n",
       "      <th id=\"T_a18b7_level0_row0\" class=\"row_heading level0 row0\" rowspan=\"3\">0-20</th>\n",
       "      <th id=\"T_a18b7_level1_row0\" class=\"row_heading level1 row0\" rowspan=\"2\">0</th>\n",
       "      <th id=\"T_a18b7_level2_row0\" class=\"row_heading level2 row0\" >Female</th>\n",
       "      <td id=\"T_a18b7_row0_col0\" class=\"data row0 col0\" >93.820272</td>\n",
       "      <td id=\"T_a18b7_row0_col1\" class=\"data row0 col1\" >22.183547</td>\n",
       "      <td id=\"T_a18b7_row0_col2\" class=\"data row0 col2\" >0.000000</td>\n",
       "      <td id=\"T_a18b7_row0_col3\" class=\"data row0 col3\" >0.002092</td>\n",
       "    </tr>\n",
       "    <tr>\n",
       "      <th id=\"T_a18b7_level2_row1\" class=\"row_heading level2 row1\" >Male</th>\n",
       "      <td id=\"T_a18b7_row1_col0\" class=\"data row1 col0\" >95.247181</td>\n",
       "      <td id=\"T_a18b7_row1_col1\" class=\"data row1 col1\" >21.743579</td>\n",
       "      <td id=\"T_a18b7_row1_col2\" class=\"data row1 col2\" >0.002058</td>\n",
       "      <td id=\"T_a18b7_row1_col3\" class=\"data row1 col3\" >0.002058</td>\n",
       "    </tr>\n",
       "    <tr>\n",
       "      <th id=\"T_a18b7_level1_row2\" class=\"row_heading level1 row2\" >1</th>\n",
       "      <th id=\"T_a18b7_level2_row2\" class=\"row_heading level2 row2\" >Female</th>\n",
       "      <td id=\"T_a18b7_row2_col0\" class=\"data row2 col0\" >64.150000</td>\n",
       "      <td id=\"T_a18b7_row2_col1\" class=\"data row2 col1\" >30.900000</td>\n",
       "      <td id=\"T_a18b7_row2_col2\" class=\"data row2 col2\" >0.000000</td>\n",
       "      <td id=\"T_a18b7_row2_col3\" class=\"data row2 col3\" >0.000000</td>\n",
       "    </tr>\n",
       "    <tr>\n",
       "      <th id=\"T_a18b7_level0_row3\" class=\"row_heading level0 row3\" rowspan=\"4\">0-40</th>\n",
       "      <th id=\"T_a18b7_level1_row3\" class=\"row_heading level1 row3\" rowspan=\"3\">0</th>\n",
       "      <th id=\"T_a18b7_level2_row3\" class=\"row_heading level2 row3\" >Female</th>\n",
       "      <td id=\"T_a18b7_row3_col0\" class=\"data row3 col0\" >94.178968</td>\n",
       "      <td id=\"T_a18b7_row3_col1\" class=\"data row3 col1\" >29.687013</td>\n",
       "      <td id=\"T_a18b7_row3_col2\" class=\"data row3 col2\" >0.001274</td>\n",
       "      <td id=\"T_a18b7_row3_col3\" class=\"data row3 col3\" >0.022930</td>\n",
       "    </tr>\n",
       "    <tr>\n",
       "      <th id=\"T_a18b7_level2_row4\" class=\"row_heading level2 row4\" >Male</th>\n",
       "      <td id=\"T_a18b7_row4_col0\" class=\"data row4 col0\" >99.868301</td>\n",
       "      <td id=\"T_a18b7_row4_col1\" class=\"data row4 col1\" >30.015990</td>\n",
       "      <td id=\"T_a18b7_row4_col2\" class=\"data row4 col2\" >0.002427</td>\n",
       "      <td id=\"T_a18b7_row4_col3\" class=\"data row4 col3\" >0.038835</td>\n",
       "    </tr>\n",
       "    <tr>\n",
       "      <th id=\"T_a18b7_level2_row5\" class=\"row_heading level2 row5\" >Other</th>\n",
       "      <td id=\"T_a18b7_row5_col0\" class=\"data row5 col0\" >143.330000</td>\n",
       "      <td id=\"T_a18b7_row5_col1\" class=\"data row5 col1\" >22.400000</td>\n",
       "      <td id=\"T_a18b7_row5_col2\" class=\"data row5 col2\" >0.000000</td>\n",
       "      <td id=\"T_a18b7_row5_col3\" class=\"data row5 col3\" >0.000000</td>\n",
       "    </tr>\n",
       "    <tr>\n",
       "      <th id=\"T_a18b7_level1_row6\" class=\"row_heading level1 row6\" >1</th>\n",
       "      <th id=\"T_a18b7_level2_row6\" class=\"row_heading level2 row6\" >Female</th>\n",
       "      <td id=\"T_a18b7_row6_col0\" class=\"data row6 col0\" >83.158333</td>\n",
       "      <td id=\"T_a18b7_row6_col1\" class=\"data row6 col1\" >29.800000</td>\n",
       "      <td id=\"T_a18b7_row6_col2\" class=\"data row6 col2\" >0.000000</td>\n",
       "      <td id=\"T_a18b7_row6_col3\" class=\"data row6 col3\" >0.166667</td>\n",
       "    </tr>\n",
       "    <tr>\n",
       "      <th id=\"T_a18b7_level0_row7\" class=\"row_heading level0 row7\" rowspan=\"4\">40-60</th>\n",
       "      <th id=\"T_a18b7_level1_row7\" class=\"row_heading level1 row7\" rowspan=\"2\">0</th>\n",
       "      <th id=\"T_a18b7_level2_row7\" class=\"row_heading level2 row7\" >Female</th>\n",
       "      <td id=\"T_a18b7_row7_col0\" class=\"data row7 col0\" >105.316629</td>\n",
       "      <td id=\"T_a18b7_row7_col1\" class=\"data row7 col1\" >31.356372</td>\n",
       "      <td id=\"T_a18b7_row7_col2\" class=\"data row7 col2\" >0.022472</td>\n",
       "      <td id=\"T_a18b7_row7_col3\" class=\"data row7 col3\" >0.085393</td>\n",
       "    </tr>\n",
       "    <tr>\n",
       "      <th id=\"T_a18b7_level2_row8\" class=\"row_heading level2 row8\" >Male</th>\n",
       "      <td id=\"T_a18b7_row8_col0\" class=\"data row8 col0\" >108.103176</td>\n",
       "      <td id=\"T_a18b7_row8_col1\" class=\"data row8 col1\" >31.820990</td>\n",
       "      <td id=\"T_a18b7_row8_col2\" class=\"data row8 col2\" >0.057003</td>\n",
       "      <td id=\"T_a18b7_row8_col3\" class=\"data row8 col3\" >0.125407</td>\n",
       "    </tr>\n",
       "    <tr>\n",
       "      <th id=\"T_a18b7_level1_row9\" class=\"row_heading level1 row9\" rowspan=\"2\">1</th>\n",
       "      <th id=\"T_a18b7_level2_row9\" class=\"row_heading level2 row9\" >Female</th>\n",
       "      <td id=\"T_a18b7_row9_col0\" class=\"data row9 col0\" >125.959688</td>\n",
       "      <td id=\"T_a18b7_row9_col1\" class=\"data row9 col1\" >32.803333</td>\n",
       "      <td id=\"T_a18b7_row9_col2\" class=\"data row9 col2\" >0.062500</td>\n",
       "      <td id=\"T_a18b7_row9_col3\" class=\"data row9 col3\" >0.250000</td>\n",
       "    </tr>\n",
       "    <tr>\n",
       "      <th id=\"T_a18b7_level2_row10\" class=\"row_heading level2 row10\" >Male</th>\n",
       "      <td id=\"T_a18b7_row10_col0\" class=\"data row10 col0\" >127.197143</td>\n",
       "      <td id=\"T_a18b7_row10_col1\" class=\"data row10 col1\" >34.173913</td>\n",
       "      <td id=\"T_a18b7_row10_col2\" class=\"data row10 col2\" >0.071429</td>\n",
       "      <td id=\"T_a18b7_row10_col3\" class=\"data row10 col3\" >0.142857</td>\n",
       "    </tr>\n",
       "    <tr>\n",
       "      <th id=\"T_a18b7_level0_row11\" class=\"row_heading level0 row11\" rowspan=\"4\">60-80</th>\n",
       "      <th id=\"T_a18b7_level1_row11\" class=\"row_heading level1 row11\" rowspan=\"2\">0</th>\n",
       "      <th id=\"T_a18b7_level2_row11\" class=\"row_heading level2 row11\" >Female</th>\n",
       "      <td id=\"T_a18b7_row11_col0\" class=\"data row11 col0\" >117.014368</td>\n",
       "      <td id=\"T_a18b7_row11_col1\" class=\"data row11 col1\" >30.201207</td>\n",
       "      <td id=\"T_a18b7_row11_col2\" class=\"data row11 col2\" >0.090312</td>\n",
       "      <td id=\"T_a18b7_row11_col3\" class=\"data row11 col3\" >0.192118</td>\n",
       "    </tr>\n",
       "    <tr>\n",
       "      <th id=\"T_a18b7_level2_row12\" class=\"row_heading level2 row12\" >Male</th>\n",
       "      <td id=\"T_a18b7_row12_col0\" class=\"data row12 col0\" >122.490455</td>\n",
       "      <td id=\"T_a18b7_row12_col1\" class=\"data row12 col1\" >30.377427</td>\n",
       "      <td id=\"T_a18b7_row12_col2\" class=\"data row12 col2\" >0.190909</td>\n",
       "      <td id=\"T_a18b7_row12_col3\" class=\"data row12 col3\" >0.202273</td>\n",
       "    </tr>\n",
       "    <tr>\n",
       "      <th id=\"T_a18b7_level1_row13\" class=\"row_heading level1 row13\" rowspan=\"2\">1</th>\n",
       "      <th id=\"T_a18b7_level2_row13\" class=\"row_heading level2 row13\" >Female</th>\n",
       "      <td id=\"T_a18b7_row13_col0\" class=\"data row13 col0\" >136.928861</td>\n",
       "      <td id=\"T_a18b7_row13_col1\" class=\"data row13 col1\" >30.044444</td>\n",
       "      <td id=\"T_a18b7_row13_col2\" class=\"data row13 col2\" >0.164557</td>\n",
       "      <td id=\"T_a18b7_row13_col3\" class=\"data row13 col3\" >0.253165</td>\n",
       "    </tr>\n",
       "    <tr>\n",
       "      <th id=\"T_a18b7_level2_row14\" class=\"row_heading level2 row14\" >Male</th>\n",
       "      <td id=\"T_a18b7_row14_col0\" class=\"data row14 col0\" >145.730645</td>\n",
       "      <td id=\"T_a18b7_row14_col1\" class=\"data row14 col1\" >29.966667</td>\n",
       "      <td id=\"T_a18b7_row14_col2\" class=\"data row14 col2\" >0.290323</td>\n",
       "      <td id=\"T_a18b7_row14_col3\" class=\"data row14 col3\" >0.322581</td>\n",
       "    </tr>\n",
       "    <tr>\n",
       "      <th id=\"T_a18b7_level0_row15\" class=\"row_heading level0 row15\" rowspan=\"4\">80+</th>\n",
       "      <th id=\"T_a18b7_level1_row15\" class=\"row_heading level1 row15\" rowspan=\"2\">0</th>\n",
       "      <th id=\"T_a18b7_level2_row15\" class=\"row_heading level2 row15\" >Female</th>\n",
       "      <td id=\"T_a18b7_row15_col0\" class=\"data row15 col0\" >112.489231</td>\n",
       "      <td id=\"T_a18b7_row15_col1\" class=\"data row15 col1\" >28.503409</td>\n",
       "      <td id=\"T_a18b7_row15_col2\" class=\"data row15 col2\" >0.197802</td>\n",
       "      <td id=\"T_a18b7_row15_col3\" class=\"data row15 col3\" >0.274725</td>\n",
       "    </tr>\n",
       "    <tr>\n",
       "      <th id=\"T_a18b7_level2_row16\" class=\"row_heading level2 row16\" >Male</th>\n",
       "      <td id=\"T_a18b7_row16_col0\" class=\"data row16 col0\" >137.345273</td>\n",
       "      <td id=\"T_a18b7_row16_col1\" class=\"data row16 col1\" >28.210909</td>\n",
       "      <td id=\"T_a18b7_row16_col2\" class=\"data row16 col2\" >0.254545</td>\n",
       "      <td id=\"T_a18b7_row16_col3\" class=\"data row16 col3\" >0.218182</td>\n",
       "    </tr>\n",
       "    <tr>\n",
       "      <th id=\"T_a18b7_level1_row17\" class=\"row_heading level1 row17\" rowspan=\"2\">1</th>\n",
       "      <th id=\"T_a18b7_level2_row17\" class=\"row_heading level2 row17\" >Female</th>\n",
       "      <td id=\"T_a18b7_row17_col0\" class=\"data row17 col0\" >93.958636</td>\n",
       "      <td id=\"T_a18b7_row17_col1\" class=\"data row17 col1\" >27.114286</td>\n",
       "      <td id=\"T_a18b7_row17_col2\" class=\"data row17 col2\" >0.181818</td>\n",
       "      <td id=\"T_a18b7_row17_col3\" class=\"data row17 col3\" >0.454545</td>\n",
       "    </tr>\n",
       "    <tr>\n",
       "      <th id=\"T_a18b7_level2_row18\" class=\"row_heading level2 row18\" >Male</th>\n",
       "      <td id=\"T_a18b7_row18_col0\" class=\"data row18 col0\" >159.132778</td>\n",
       "      <td id=\"T_a18b7_row18_col1\" class=\"data row18 col1\" >28.772222</td>\n",
       "      <td id=\"T_a18b7_row18_col2\" class=\"data row18 col2\" >0.444444</td>\n",
       "      <td id=\"T_a18b7_row18_col3\" class=\"data row18 col3\" >0.166667</td>\n",
       "    </tr>\n",
       "  </tbody>\n",
       "</table>\n"
      ],
      "text/plain": [
       "<pandas.io.formats.style.Styler at 0x1f771860df0>"
      ]
     },
     "execution_count": 106,
     "metadata": {},
     "output_type": "execute_result"
    }
   ],
   "source": [
    "def color_negative_red(val):\n",
    "    if round(val, 2) == 159.13:\n",
    "        color = 'red'\n",
    "    elif round(val,2) == 34.17:\n",
    "        color = 'red'\n",
    "    elif round(val, 2) == 0.44:\n",
    "        color = 'red'\n",
    "    elif round(val, 2) == 0.45:\n",
    "        color = 'red'\n",
    "    elif round(val, 2) == 145.73:\n",
    "        color = 'orange'\n",
    "    elif round(val, 2) == 32.80:\n",
    "        color = 'orange'\n",
    "    elif round(val, 4) == 0.2903:\n",
    "        color = 'orange'\n",
    "    elif round(val, 4) == 0.3226:\n",
    "        color = 'orange'\n",
    "    else:\n",
    "        color = 'black'\n",
    "    return 'color: %s' % color\n",
    "\n",
    "s = df_summary_table.style.applymap(color_negative_red)\n",
    "s"
   ]
  },
  {
   "cell_type": "markdown",
   "id": "60c01e6f",
   "metadata": {},
   "source": [
    "### Data Preprocessing"
   ]
  },
  {
   "cell_type": "code",
<<<<<<< HEAD
   "execution_count": 107,
=======
   "execution_count": 15,
>>>>>>> d494279b2f085a2815e0584c09f2d1d5066b4fc3
   "id": "a1e01649",
   "metadata": {},
   "outputs": [
    {
     "data": {
      "text/html": [
       "<div>\n",
       "<style scoped>\n",
       "    .dataframe tbody tr th:only-of-type {\n",
       "        vertical-align: middle;\n",
       "    }\n",
       "\n",
       "    .dataframe tbody tr th {\n",
       "        vertical-align: top;\n",
       "    }\n",
       "\n",
       "    .dataframe thead th {\n",
       "        text-align: right;\n",
       "    }\n",
       "</style>\n",
       "<table border=\"1\" class=\"dataframe\">\n",
       "  <thead>\n",
       "    <tr style=\"text-align: right;\">\n",
       "      <th></th>\n",
       "      <th>id</th>\n",
       "      <th>gender</th>\n",
       "      <th>age</th>\n",
       "      <th>hypertension</th>\n",
       "      <th>heart_disease</th>\n",
       "      <th>ever_married</th>\n",
       "      <th>work_type</th>\n",
       "      <th>Residence_type</th>\n",
       "      <th>avg_glucose_level</th>\n",
       "      <th>bmi</th>\n",
       "      <th>smoking_status</th>\n",
       "      <th>stroke</th>\n",
       "      <th>age_range</th>\n",
       "    </tr>\n",
       "  </thead>\n",
       "  <tbody>\n",
       "    <tr>\n",
       "      <th>0</th>\n",
       "      <td>9046</td>\n",
       "      <td>Male</td>\n",
       "      <td>67.0</td>\n",
       "      <td>0</td>\n",
       "      <td>1</td>\n",
       "      <td>Yes</td>\n",
       "      <td>Private</td>\n",
       "      <td>Urban</td>\n",
       "      <td>228.69</td>\n",
       "      <td>36.6</td>\n",
       "      <td>formerly smoked</td>\n",
       "      <td>1</td>\n",
       "      <td>60-80</td>\n",
       "    </tr>\n",
       "    <tr>\n",
       "      <th>1</th>\n",
       "      <td>51676</td>\n",
       "      <td>Female</td>\n",
       "      <td>61.0</td>\n",
       "      <td>0</td>\n",
       "      <td>0</td>\n",
       "      <td>Yes</td>\n",
       "      <td>Self-employed</td>\n",
       "      <td>Rural</td>\n",
       "      <td>202.21</td>\n",
       "      <td>NaN</td>\n",
       "      <td>never smoked</td>\n",
       "      <td>1</td>\n",
       "      <td>60-80</td>\n",
       "    </tr>\n",
       "    <tr>\n",
       "      <th>2</th>\n",
       "      <td>31112</td>\n",
       "      <td>Male</td>\n",
       "      <td>80.0</td>\n",
       "      <td>0</td>\n",
       "      <td>1</td>\n",
       "      <td>Yes</td>\n",
       "      <td>Private</td>\n",
       "      <td>Rural</td>\n",
       "      <td>105.92</td>\n",
       "      <td>32.5</td>\n",
       "      <td>never smoked</td>\n",
       "      <td>1</td>\n",
       "      <td>80+</td>\n",
       "    </tr>\n",
       "    <tr>\n",
       "      <th>3</th>\n",
       "      <td>60182</td>\n",
       "      <td>Female</td>\n",
       "      <td>49.0</td>\n",
       "      <td>0</td>\n",
       "      <td>0</td>\n",
       "      <td>Yes</td>\n",
       "      <td>Private</td>\n",
       "      <td>Urban</td>\n",
       "      <td>171.23</td>\n",
       "      <td>34.4</td>\n",
       "      <td>smokes</td>\n",
       "      <td>1</td>\n",
       "      <td>40-60</td>\n",
       "    </tr>\n",
       "    <tr>\n",
       "      <th>4</th>\n",
       "      <td>1665</td>\n",
       "      <td>Female</td>\n",
       "      <td>79.0</td>\n",
       "      <td>1</td>\n",
       "      <td>0</td>\n",
       "      <td>Yes</td>\n",
       "      <td>Self-employed</td>\n",
       "      <td>Rural</td>\n",
       "      <td>174.12</td>\n",
       "      <td>24.0</td>\n",
       "      <td>never smoked</td>\n",
       "      <td>1</td>\n",
       "      <td>60-80</td>\n",
       "    </tr>\n",
       "  </tbody>\n",
       "</table>\n",
       "</div>"
      ],
      "text/plain": [
       "      id  gender   age  hypertension  heart_disease ever_married  \\\n",
       "0   9046    Male  67.0             0              1          Yes   \n",
       "1  51676  Female  61.0             0              0          Yes   \n",
       "2  31112    Male  80.0             0              1          Yes   \n",
       "3  60182  Female  49.0             0              0          Yes   \n",
       "4   1665  Female  79.0             1              0          Yes   \n",
       "\n",
       "       work_type Residence_type  avg_glucose_level   bmi   smoking_status  \\\n",
       "0        Private          Urban             228.69  36.6  formerly smoked   \n",
       "1  Self-employed          Rural             202.21   NaN     never smoked   \n",
       "2        Private          Rural             105.92  32.5     never smoked   \n",
       "3        Private          Urban             171.23  34.4           smokes   \n",
       "4  Self-employed          Rural             174.12  24.0     never smoked   \n",
       "\n",
       "   stroke age_range  \n",
       "0       1     60-80  \n",
       "1       1     60-80  \n",
       "2       1       80+  \n",
       "3       1     40-60  \n",
       "4       1     60-80  "
      ]
     },
<<<<<<< HEAD
     "execution_count": 107,
=======
     "execution_count": 15,
>>>>>>> d494279b2f085a2815e0584c09f2d1d5066b4fc3
     "metadata": {},
     "output_type": "execute_result"
    }
   ],
   "source": [
    "data.head()"
   ]
  },
  {
   "cell_type": "code",
<<<<<<< HEAD
   "execution_count": 108,
=======
   "execution_count": 16,
>>>>>>> d494279b2f085a2815e0584c09f2d1d5066b4fc3
   "id": "1518446b",
   "metadata": {},
   "outputs": [],
   "source": [
    "numeric_features = [\"age\", \"avg_glucose_level\", \"bmi\"]\n",
    "\n",
    "numeric_transformer = Pipeline(\n",
    "    steps=[(\"imputer\", SimpleImputer(strategy=\"median\")),  \n",
    "           (\"scaler\", StandardScaler())] #z-score\n",
    ")\n",
    "\n",
    "categorical_features = [\"gender\", \"hypertension\", \"heart_disease\", \"ever_married\", \"work_type\", \"Residence_type\", \"smoking_status\"]\n",
    "\n",
    "categorical_transformer = OneHotEncoder(handle_unknown=\"ignore\")\n",
    "\n",
    "preprocessor = ColumnTransformer(\n",
    "    transformers=[\n",
    "        (\"num\", numeric_transformer, numeric_features),\n",
    "        (\"cat\", categorical_transformer, categorical_features),\n",
    "    ]\n",
    ")\n"
   ]
  },
  {
   "cell_type": "markdown",
<<<<<<< HEAD
   "id": "775d8c03",
   "metadata": {},
   "source": [
    "### Model Training"
   ]
  },
  {
   "cell_type": "code",
   "execution_count": 109,
   "id": "6844c5da",
   "metadata": {},
   "outputs": [],
   "source": [
    "clf = Pipeline(\n",
    "    steps=[(\"preprocessor\", preprocessor), \n",
    "           (\"classifier\", LogisticRegression())]\n",
    ")"
   ]
  },
  {
   "cell_type": "code",
   "execution_count": 110,
   "id": "57a4c496",
   "metadata": {},
   "outputs": [],
   "source": [
    "X = data.iloc[:, 1:-1]"
   ]
  },
  {
   "cell_type": "code",
   "execution_count": 111,
   "id": "05f9f18d",
   "metadata": {},
   "outputs": [],
   "source": [
    "y = data.iloc[:, -1]"
   ]
  },
  {
   "cell_type": "code",
   "execution_count": 112,
   "id": "676d0bd1",
   "metadata": {},
   "outputs": [],
   "source": [
    "X_train, X_test, y_train, y_test = train_test_split(X, y, test_size=0.2, random_state=0)"
   ]
  },
  {
   "cell_type": "code",
   "execution_count": 113,
   "id": "25569634",
   "metadata": {},
   "outputs": [
    {
     "name": "stdout",
     "output_type": "stream",
     "text": [
      "model score: 0.966\n"
     ]
    },
    {
     "name": "stderr",
     "output_type": "stream",
     "text": [
      "C:\\Users\\tony_\\anaconda3\\lib\\site-packages\\sklearn\\linear_model\\_logistic.py:763: ConvergenceWarning: lbfgs failed to converge (status=1):\n",
      "STOP: TOTAL NO. of ITERATIONS REACHED LIMIT.\n",
      "\n",
      "Increase the number of iterations (max_iter) or scale the data as shown in:\n",
      "    https://scikit-learn.org/stable/modules/preprocessing.html\n",
      "Please also refer to the documentation for alternative solver options:\n",
      "    https://scikit-learn.org/stable/modules/linear_model.html#logistic-regression\n",
      "  n_iter_i = _check_optimize_result(\n"
     ]
    }
   ],
   "source": [
    "clf.fit(X_train, y_train)\n",
    "print(\"model score: %.3f\" % clf.score(X_test, y_test))"
   ]
  },
  {
   "cell_type": "markdown",
=======
>>>>>>> d494279b2f085a2815e0584c09f2d1d5066b4fc3
   "id": "6495b6fe",
   "metadata": {},
   "source": [
    "### PCA"
   ]
  },
  {
   "cell_type": "code",
<<<<<<< HEAD
   "execution_count": 114,
=======
   "execution_count": 17,
>>>>>>> d494279b2f085a2815e0584c09f2d1d5066b4fc3
   "id": "88fb35f3",
   "metadata": {},
   "outputs": [],
   "source": [
    "one_hot_encoder = OneHotEncoder(handle_unknown='ignore')"
   ]
  },
  {
   "cell_type": "code",
<<<<<<< HEAD
   "execution_count": 115,
=======
   "execution_count": 18,
>>>>>>> d494279b2f085a2815e0584c09f2d1d5066b4fc3
   "id": "8c2fc23d",
   "metadata": {},
   "outputs": [],
   "source": [
    "cat_col_df = data[categorical_features]"
   ]
  },
  {
   "cell_type": "code",
<<<<<<< HEAD
   "execution_count": 116,
=======
   "execution_count": 19,
>>>>>>> d494279b2f085a2815e0584c09f2d1d5066b4fc3
   "id": "f5f59584",
   "metadata": {},
   "outputs": [
    {
     "data": {
      "text/html": [
       "<style>#sk-container-id-1 {color: black;background-color: white;}#sk-container-id-1 pre{padding: 0;}#sk-container-id-1 div.sk-toggleable {background-color: white;}#sk-container-id-1 label.sk-toggleable__label {cursor: pointer;display: block;width: 100%;margin-bottom: 0;padding: 0.3em;box-sizing: border-box;text-align: center;}#sk-container-id-1 label.sk-toggleable__label-arrow:before {content: \"▸\";float: left;margin-right: 0.25em;color: #696969;}#sk-container-id-1 label.sk-toggleable__label-arrow:hover:before {color: black;}#sk-container-id-1 div.sk-estimator:hover label.sk-toggleable__label-arrow:before {color: black;}#sk-container-id-1 div.sk-toggleable__content {max-height: 0;max-width: 0;overflow: hidden;text-align: left;background-color: #f0f8ff;}#sk-container-id-1 div.sk-toggleable__content pre {margin: 0.2em;color: black;border-radius: 0.25em;background-color: #f0f8ff;}#sk-container-id-1 input.sk-toggleable__control:checked~div.sk-toggleable__content {max-height: 200px;max-width: 100%;overflow: auto;}#sk-container-id-1 input.sk-toggleable__control:checked~label.sk-toggleable__label-arrow:before {content: \"▾\";}#sk-container-id-1 div.sk-estimator input.sk-toggleable__control:checked~label.sk-toggleable__label {background-color: #d4ebff;}#sk-container-id-1 div.sk-label input.sk-toggleable__control:checked~label.sk-toggleable__label {background-color: #d4ebff;}#sk-container-id-1 input.sk-hidden--visually {border: 0;clip: rect(1px 1px 1px 1px);clip: rect(1px, 1px, 1px, 1px);height: 1px;margin: -1px;overflow: hidden;padding: 0;position: absolute;width: 1px;}#sk-container-id-1 div.sk-estimator {font-family: monospace;background-color: #f0f8ff;border: 1px dotted black;border-radius: 0.25em;box-sizing: border-box;margin-bottom: 0.5em;}#sk-container-id-1 div.sk-estimator:hover {background-color: #d4ebff;}#sk-container-id-1 div.sk-parallel-item::after {content: \"\";width: 100%;border-bottom: 1px solid gray;flex-grow: 1;}#sk-container-id-1 div.sk-label:hover label.sk-toggleable__label {background-color: #d4ebff;}#sk-container-id-1 div.sk-serial::before {content: \"\";position: absolute;border-left: 1px solid gray;box-sizing: border-box;top: 0;bottom: 0;left: 50%;z-index: 0;}#sk-container-id-1 div.sk-serial {display: flex;flex-direction: column;align-items: center;background-color: white;padding-right: 0.2em;padding-left: 0.2em;position: relative;}#sk-container-id-1 div.sk-item {position: relative;z-index: 1;}#sk-container-id-1 div.sk-parallel {display: flex;align-items: stretch;justify-content: center;background-color: white;position: relative;}#sk-container-id-1 div.sk-item::before, #sk-container-id-1 div.sk-parallel-item::before {content: \"\";position: absolute;border-left: 1px solid gray;box-sizing: border-box;top: 0;bottom: 0;left: 50%;z-index: -1;}#sk-container-id-1 div.sk-parallel-item {display: flex;flex-direction: column;z-index: 1;position: relative;background-color: white;}#sk-container-id-1 div.sk-parallel-item:first-child::after {align-self: flex-end;width: 50%;}#sk-container-id-1 div.sk-parallel-item:last-child::after {align-self: flex-start;width: 50%;}#sk-container-id-1 div.sk-parallel-item:only-child::after {width: 0;}#sk-container-id-1 div.sk-dashed-wrapped {border: 1px dashed gray;margin: 0 0.4em 0.5em 0.4em;box-sizing: border-box;padding-bottom: 0.4em;background-color: white;}#sk-container-id-1 div.sk-label label {font-family: monospace;font-weight: bold;display: inline-block;line-height: 1.2em;}#sk-container-id-1 div.sk-label-container {text-align: center;}#sk-container-id-1 div.sk-container {/* jupyter's `normalize.less` sets `[hidden] { display: none; }` but bootstrap.min.css set `[hidden] { display: none !important; }` so we also need the `!important` here to be able to override the default hidden behavior on the sphinx rendered scikit-learn.org. See: https://github.com/scikit-learn/scikit-learn/issues/21755 */display: inline-block !important;position: relative;}#sk-container-id-1 div.sk-text-repr-fallback {display: none;}</style><div id=\"sk-container-id-1\" class=\"sk-top-container\"><div class=\"sk-text-repr-fallback\"><pre>OneHotEncoder(handle_unknown=&#x27;ignore&#x27;)</pre><b>In a Jupyter environment, please rerun this cell to show the HTML representation or trust the notebook. <br />On GitHub, the HTML representation is unable to render, please try loading this page with nbviewer.org.</b></div><div class=\"sk-container\" hidden><div class=\"sk-item\"><div class=\"sk-estimator sk-toggleable\"><input class=\"sk-toggleable__control sk-hidden--visually\" id=\"sk-estimator-id-1\" type=\"checkbox\" checked><label for=\"sk-estimator-id-1\" class=\"sk-toggleable__label sk-toggleable__label-arrow\">OneHotEncoder</label><div class=\"sk-toggleable__content\"><pre>OneHotEncoder(handle_unknown=&#x27;ignore&#x27;)</pre></div></div></div></div></div>"
      ],
      "text/plain": [
       "OneHotEncoder(handle_unknown='ignore')"
      ]
     },
<<<<<<< HEAD
     "execution_count": 116,
=======
     "execution_count": 19,
>>>>>>> d494279b2f085a2815e0584c09f2d1d5066b4fc3
     "metadata": {},
     "output_type": "execute_result"
    }
   ],
   "source": [
    "one_hot_encoder.fit(cat_col_df)"
   ]
  },
  {
   "cell_type": "code",
<<<<<<< HEAD
   "execution_count": 117,
=======
   "execution_count": 20,
>>>>>>> d494279b2f085a2815e0584c09f2d1d5066b4fc3
   "id": "b3d29340",
   "metadata": {},
   "outputs": [
    {
     "data": {
      "text/plain": [
       "[array(['Female', 'Male', 'Other'], dtype=object),\n",
       " array([0, 1]),\n",
       " array([0, 1]),\n",
       " array(['No', 'Yes'], dtype=object),\n",
       " array(['Govt_job', 'Never_worked', 'Private', 'Self-employed', 'children'],\n",
       "       dtype=object),\n",
       " array(['Rural', 'Urban'], dtype=object),\n",
       " array(['Unknown', 'formerly smoked', 'never smoked', 'smokes'],\n",
       "       dtype=object)]"
      ]
     },
<<<<<<< HEAD
     "execution_count": 117,
=======
     "execution_count": 20,
>>>>>>> d494279b2f085a2815e0584c09f2d1d5066b4fc3
     "metadata": {},
     "output_type": "execute_result"
    }
   ],
   "source": [
    "one_hot_encoder.categories_"
   ]
  },
  {
   "cell_type": "code",
<<<<<<< HEAD
   "execution_count": 118,
=======
   "execution_count": 21,
>>>>>>> d494279b2f085a2815e0584c09f2d1d5066b4fc3
   "id": "0870c940",
   "metadata": {},
   "outputs": [],
   "source": [
    "one_hot_df = pd.DataFrame(one_hot_encoder.transform(data[categorical_features]).toarray())"
   ]
  },
  {
   "cell_type": "code",
<<<<<<< HEAD
   "execution_count": 119,
=======
   "execution_count": 22,
>>>>>>> d494279b2f085a2815e0584c09f2d1d5066b4fc3
   "id": "fe9a48e9",
   "metadata": {},
   "outputs": [
    {
     "data": {
      "text/plain": [
       "(5110, 20)"
      ]
     },
<<<<<<< HEAD
     "execution_count": 119,
=======
     "execution_count": 22,
>>>>>>> d494279b2f085a2815e0584c09f2d1d5066b4fc3
     "metadata": {},
     "output_type": "execute_result"
    }
   ],
   "source": [
    "one_hot_df.shape"
   ]
  },
  {
   "cell_type": "code",
<<<<<<< HEAD
   "execution_count": 120,
=======
   "execution_count": 23,
>>>>>>> d494279b2f085a2815e0584c09f2d1d5066b4fc3
   "id": "f79626a0",
   "metadata": {},
   "outputs": [],
   "source": [
    "one_hot_df.columns=['Female', 'Male', 'Other', 'hypertension_0', 'hypertension_1', 'heart_disease_0', 'heart_disease_1', 'not_married', 'married', 'Govt_job',\n",
    "                  'Never_worked', 'Private', 'Self-employed', 'children', 'Rural', 'Urban', 'Unknown', 'formerly_smoked', 'never_smoked', 'smokes']"
   ]
  },
  {
   "cell_type": "code",
<<<<<<< HEAD
   "execution_count": 121,
=======
   "execution_count": 24,
>>>>>>> d494279b2f085a2815e0584c09f2d1d5066b4fc3
   "id": "b422cfb2",
   "metadata": {},
   "outputs": [
    {
     "data": {
      "text/html": [
       "<div>\n",
       "<style scoped>\n",
       "    .dataframe tbody tr th:only-of-type {\n",
       "        vertical-align: middle;\n",
       "    }\n",
       "\n",
       "    .dataframe tbody tr th {\n",
       "        vertical-align: top;\n",
       "    }\n",
       "\n",
       "    .dataframe thead th {\n",
       "        text-align: right;\n",
       "    }\n",
       "</style>\n",
       "<table border=\"1\" class=\"dataframe\">\n",
       "  <thead>\n",
       "    <tr style=\"text-align: right;\">\n",
       "      <th></th>\n",
       "      <th>Female</th>\n",
       "      <th>Male</th>\n",
       "      <th>Other</th>\n",
       "      <th>hypertension_0</th>\n",
       "      <th>hypertension_1</th>\n",
       "      <th>heart_disease_0</th>\n",
       "      <th>heart_disease_1</th>\n",
       "      <th>not_married</th>\n",
       "      <th>married</th>\n",
       "      <th>Govt_job</th>\n",
       "      <th>Never_worked</th>\n",
       "      <th>Private</th>\n",
       "      <th>Self-employed</th>\n",
       "      <th>children</th>\n",
       "      <th>Rural</th>\n",
       "      <th>Urban</th>\n",
       "      <th>Unknown</th>\n",
       "      <th>formerly_smoked</th>\n",
       "      <th>never_smoked</th>\n",
       "      <th>smokes</th>\n",
       "    </tr>\n",
       "  </thead>\n",
       "  <tbody>\n",
       "    <tr>\n",
       "      <th>0</th>\n",
       "      <td>0.0</td>\n",
       "      <td>1.0</td>\n",
       "      <td>0.0</td>\n",
       "      <td>1.0</td>\n",
       "      <td>0.0</td>\n",
       "      <td>0.0</td>\n",
       "      <td>1.0</td>\n",
       "      <td>0.0</td>\n",
       "      <td>1.0</td>\n",
       "      <td>0.0</td>\n",
       "      <td>0.0</td>\n",
       "      <td>1.0</td>\n",
       "      <td>0.0</td>\n",
       "      <td>0.0</td>\n",
       "      <td>0.0</td>\n",
       "      <td>1.0</td>\n",
       "      <td>0.0</td>\n",
       "      <td>1.0</td>\n",
       "      <td>0.0</td>\n",
       "      <td>0.0</td>\n",
       "    </tr>\n",
       "    <tr>\n",
       "      <th>1</th>\n",
       "      <td>1.0</td>\n",
       "      <td>0.0</td>\n",
       "      <td>0.0</td>\n",
       "      <td>1.0</td>\n",
       "      <td>0.0</td>\n",
       "      <td>1.0</td>\n",
       "      <td>0.0</td>\n",
       "      <td>0.0</td>\n",
       "      <td>1.0</td>\n",
       "      <td>0.0</td>\n",
       "      <td>0.0</td>\n",
       "      <td>0.0</td>\n",
       "      <td>1.0</td>\n",
       "      <td>0.0</td>\n",
       "      <td>1.0</td>\n",
       "      <td>0.0</td>\n",
       "      <td>0.0</td>\n",
       "      <td>0.0</td>\n",
       "      <td>1.0</td>\n",
       "      <td>0.0</td>\n",
       "    </tr>\n",
       "    <tr>\n",
       "      <th>2</th>\n",
       "      <td>0.0</td>\n",
       "      <td>1.0</td>\n",
       "      <td>0.0</td>\n",
       "      <td>1.0</td>\n",
       "      <td>0.0</td>\n",
       "      <td>0.0</td>\n",
       "      <td>1.0</td>\n",
       "      <td>0.0</td>\n",
       "      <td>1.0</td>\n",
       "      <td>0.0</td>\n",
       "      <td>0.0</td>\n",
       "      <td>1.0</td>\n",
       "      <td>0.0</td>\n",
       "      <td>0.0</td>\n",
       "      <td>1.0</td>\n",
       "      <td>0.0</td>\n",
       "      <td>0.0</td>\n",
       "      <td>0.0</td>\n",
       "      <td>1.0</td>\n",
       "      <td>0.0</td>\n",
       "    </tr>\n",
       "    <tr>\n",
       "      <th>3</th>\n",
       "      <td>1.0</td>\n",
       "      <td>0.0</td>\n",
       "      <td>0.0</td>\n",
       "      <td>1.0</td>\n",
       "      <td>0.0</td>\n",
       "      <td>1.0</td>\n",
       "      <td>0.0</td>\n",
       "      <td>0.0</td>\n",
       "      <td>1.0</td>\n",
       "      <td>0.0</td>\n",
       "      <td>0.0</td>\n",
       "      <td>1.0</td>\n",
       "      <td>0.0</td>\n",
       "      <td>0.0</td>\n",
       "      <td>0.0</td>\n",
       "      <td>1.0</td>\n",
       "      <td>0.0</td>\n",
       "      <td>0.0</td>\n",
       "      <td>0.0</td>\n",
       "      <td>1.0</td>\n",
       "    </tr>\n",
       "    <tr>\n",
       "      <th>4</th>\n",
       "      <td>1.0</td>\n",
       "      <td>0.0</td>\n",
       "      <td>0.0</td>\n",
       "      <td>0.0</td>\n",
       "      <td>1.0</td>\n",
       "      <td>1.0</td>\n",
       "      <td>0.0</td>\n",
       "      <td>0.0</td>\n",
       "      <td>1.0</td>\n",
       "      <td>0.0</td>\n",
       "      <td>0.0</td>\n",
       "      <td>0.0</td>\n",
       "      <td>1.0</td>\n",
       "      <td>0.0</td>\n",
       "      <td>1.0</td>\n",
       "      <td>0.0</td>\n",
       "      <td>0.0</td>\n",
       "      <td>0.0</td>\n",
       "      <td>1.0</td>\n",
       "      <td>0.0</td>\n",
       "    </tr>\n",
       "    <tr>\n",
       "      <th>...</th>\n",
       "      <td>...</td>\n",
       "      <td>...</td>\n",
       "      <td>...</td>\n",
       "      <td>...</td>\n",
       "      <td>...</td>\n",
       "      <td>...</td>\n",
       "      <td>...</td>\n",
       "      <td>...</td>\n",
       "      <td>...</td>\n",
       "      <td>...</td>\n",
       "      <td>...</td>\n",
       "      <td>...</td>\n",
       "      <td>...</td>\n",
       "      <td>...</td>\n",
       "      <td>...</td>\n",
       "      <td>...</td>\n",
       "      <td>...</td>\n",
       "      <td>...</td>\n",
       "      <td>...</td>\n",
       "      <td>...</td>\n",
       "    </tr>\n",
       "    <tr>\n",
       "      <th>5105</th>\n",
       "      <td>1.0</td>\n",
       "      <td>0.0</td>\n",
       "      <td>0.0</td>\n",
       "      <td>0.0</td>\n",
       "      <td>1.0</td>\n",
       "      <td>1.0</td>\n",
       "      <td>0.0</td>\n",
       "      <td>0.0</td>\n",
       "      <td>1.0</td>\n",
       "      <td>0.0</td>\n",
       "      <td>0.0</td>\n",
       "      <td>1.0</td>\n",
       "      <td>0.0</td>\n",
       "      <td>0.0</td>\n",
       "      <td>0.0</td>\n",
       "      <td>1.0</td>\n",
       "      <td>0.0</td>\n",
       "      <td>0.0</td>\n",
       "      <td>1.0</td>\n",
       "      <td>0.0</td>\n",
       "    </tr>\n",
       "    <tr>\n",
       "      <th>5106</th>\n",
       "      <td>1.0</td>\n",
       "      <td>0.0</td>\n",
       "      <td>0.0</td>\n",
       "      <td>1.0</td>\n",
       "      <td>0.0</td>\n",
       "      <td>1.0</td>\n",
       "      <td>0.0</td>\n",
       "      <td>0.0</td>\n",
       "      <td>1.0</td>\n",
       "      <td>0.0</td>\n",
       "      <td>0.0</td>\n",
       "      <td>0.0</td>\n",
       "      <td>1.0</td>\n",
       "      <td>0.0</td>\n",
       "      <td>0.0</td>\n",
       "      <td>1.0</td>\n",
       "      <td>0.0</td>\n",
       "      <td>0.0</td>\n",
       "      <td>1.0</td>\n",
       "      <td>0.0</td>\n",
       "    </tr>\n",
       "    <tr>\n",
       "      <th>5107</th>\n",
       "      <td>1.0</td>\n",
       "      <td>0.0</td>\n",
       "      <td>0.0</td>\n",
       "      <td>1.0</td>\n",
       "      <td>0.0</td>\n",
       "      <td>1.0</td>\n",
       "      <td>0.0</td>\n",
       "      <td>0.0</td>\n",
       "      <td>1.0</td>\n",
       "      <td>0.0</td>\n",
       "      <td>0.0</td>\n",
       "      <td>0.0</td>\n",
       "      <td>1.0</td>\n",
       "      <td>0.0</td>\n",
       "      <td>1.0</td>\n",
       "      <td>0.0</td>\n",
       "      <td>0.0</td>\n",
       "      <td>0.0</td>\n",
       "      <td>1.0</td>\n",
       "      <td>0.0</td>\n",
       "    </tr>\n",
       "    <tr>\n",
       "      <th>5108</th>\n",
       "      <td>0.0</td>\n",
       "      <td>1.0</td>\n",
       "      <td>0.0</td>\n",
       "      <td>1.0</td>\n",
       "      <td>0.0</td>\n",
       "      <td>1.0</td>\n",
       "      <td>0.0</td>\n",
       "      <td>0.0</td>\n",
       "      <td>1.0</td>\n",
       "      <td>0.0</td>\n",
       "      <td>0.0</td>\n",
       "      <td>1.0</td>\n",
       "      <td>0.0</td>\n",
       "      <td>0.0</td>\n",
       "      <td>1.0</td>\n",
       "      <td>0.0</td>\n",
       "      <td>0.0</td>\n",
       "      <td>1.0</td>\n",
       "      <td>0.0</td>\n",
       "      <td>0.0</td>\n",
       "    </tr>\n",
       "    <tr>\n",
       "      <th>5109</th>\n",
       "      <td>1.0</td>\n",
       "      <td>0.0</td>\n",
       "      <td>0.0</td>\n",
       "      <td>1.0</td>\n",
       "      <td>0.0</td>\n",
       "      <td>1.0</td>\n",
       "      <td>0.0</td>\n",
       "      <td>0.0</td>\n",
       "      <td>1.0</td>\n",
       "      <td>1.0</td>\n",
       "      <td>0.0</td>\n",
       "      <td>0.0</td>\n",
       "      <td>0.0</td>\n",
       "      <td>0.0</td>\n",
       "      <td>0.0</td>\n",
       "      <td>1.0</td>\n",
       "      <td>1.0</td>\n",
       "      <td>0.0</td>\n",
       "      <td>0.0</td>\n",
       "      <td>0.0</td>\n",
       "    </tr>\n",
       "  </tbody>\n",
       "</table>\n",
       "<p>5110 rows × 20 columns</p>\n",
       "</div>"
      ],
      "text/plain": [
       "      Female  Male  Other  hypertension_0  hypertension_1  heart_disease_0  \\\n",
       "0        0.0   1.0    0.0             1.0             0.0              0.0   \n",
       "1        1.0   0.0    0.0             1.0             0.0              1.0   \n",
       "2        0.0   1.0    0.0             1.0             0.0              0.0   \n",
       "3        1.0   0.0    0.0             1.0             0.0              1.0   \n",
       "4        1.0   0.0    0.0             0.0             1.0              1.0   \n",
       "...      ...   ...    ...             ...             ...              ...   \n",
       "5105     1.0   0.0    0.0             0.0             1.0              1.0   \n",
       "5106     1.0   0.0    0.0             1.0             0.0              1.0   \n",
       "5107     1.0   0.0    0.0             1.0             0.0              1.0   \n",
       "5108     0.0   1.0    0.0             1.0             0.0              1.0   \n",
       "5109     1.0   0.0    0.0             1.0             0.0              1.0   \n",
       "\n",
       "      heart_disease_1  not_married  married  Govt_job  Never_worked  Private  \\\n",
       "0                 1.0          0.0      1.0       0.0           0.0      1.0   \n",
       "1                 0.0          0.0      1.0       0.0           0.0      0.0   \n",
       "2                 1.0          0.0      1.0       0.0           0.0      1.0   \n",
       "3                 0.0          0.0      1.0       0.0           0.0      1.0   \n",
       "4                 0.0          0.0      1.0       0.0           0.0      0.0   \n",
       "...               ...          ...      ...       ...           ...      ...   \n",
       "5105              0.0          0.0      1.0       0.0           0.0      1.0   \n",
       "5106              0.0          0.0      1.0       0.0           0.0      0.0   \n",
       "5107              0.0          0.0      1.0       0.0           0.0      0.0   \n",
       "5108              0.0          0.0      1.0       0.0           0.0      1.0   \n",
       "5109              0.0          0.0      1.0       1.0           0.0      0.0   \n",
       "\n",
       "      Self-employed  children  Rural  Urban  Unknown  formerly_smoked  \\\n",
       "0               0.0       0.0    0.0    1.0      0.0              1.0   \n",
       "1               1.0       0.0    1.0    0.0      0.0              0.0   \n",
       "2               0.0       0.0    1.0    0.0      0.0              0.0   \n",
       "3               0.0       0.0    0.0    1.0      0.0              0.0   \n",
       "4               1.0       0.0    1.0    0.0      0.0              0.0   \n",
       "...             ...       ...    ...    ...      ...              ...   \n",
       "5105            0.0       0.0    0.0    1.0      0.0              0.0   \n",
       "5106            1.0       0.0    0.0    1.0      0.0              0.0   \n",
       "5107            1.0       0.0    1.0    0.0      0.0              0.0   \n",
       "5108            0.0       0.0    1.0    0.0      0.0              1.0   \n",
       "5109            0.0       0.0    0.0    1.0      1.0              0.0   \n",
       "\n",
       "      never_smoked  smokes  \n",
       "0              0.0     0.0  \n",
       "1              1.0     0.0  \n",
       "2              1.0     0.0  \n",
       "3              0.0     1.0  \n",
       "4              1.0     0.0  \n",
       "...            ...     ...  \n",
       "5105           1.0     0.0  \n",
       "5106           1.0     0.0  \n",
       "5107           1.0     0.0  \n",
       "5108           0.0     0.0  \n",
       "5109           0.0     0.0  \n",
       "\n",
       "[5110 rows x 20 columns]"
      ]
     },
<<<<<<< HEAD
     "execution_count": 121,
=======
     "execution_count": 24,
>>>>>>> d494279b2f085a2815e0584c09f2d1d5066b4fc3
     "metadata": {},
     "output_type": "execute_result"
    }
   ],
   "source": [
    "one_hot_df"
   ]
  },
  {
   "cell_type": "code",
<<<<<<< HEAD
   "execution_count": 122,
=======
   "execution_count": 25,
>>>>>>> d494279b2f085a2815e0584c09f2d1d5066b4fc3
   "id": "4ffb299e",
   "metadata": {},
   "outputs": [],
   "source": [
    "num_col_df = data[numeric_features]"
   ]
  },
  {
   "cell_type": "code",
<<<<<<< HEAD
   "execution_count": 123,
=======
   "execution_count": 26,
>>>>>>> d494279b2f085a2815e0584c09f2d1d5066b4fc3
   "id": "3ea93dc1",
   "metadata": {},
   "outputs": [
    {
     "data": {
      "text/html": [
       "<div>\n",
       "<style scoped>\n",
       "    .dataframe tbody tr th:only-of-type {\n",
       "        vertical-align: middle;\n",
       "    }\n",
       "\n",
       "    .dataframe tbody tr th {\n",
       "        vertical-align: top;\n",
       "    }\n",
       "\n",
       "    .dataframe thead th {\n",
       "        text-align: right;\n",
       "    }\n",
       "</style>\n",
       "<table border=\"1\" class=\"dataframe\">\n",
       "  <thead>\n",
       "    <tr style=\"text-align: right;\">\n",
       "      <th></th>\n",
       "      <th>age</th>\n",
       "      <th>avg_glucose_level</th>\n",
       "      <th>bmi</th>\n",
       "    </tr>\n",
       "  </thead>\n",
       "  <tbody>\n",
       "    <tr>\n",
       "      <th>0</th>\n",
       "      <td>67.0</td>\n",
       "      <td>228.69</td>\n",
       "      <td>36.6</td>\n",
       "    </tr>\n",
       "    <tr>\n",
       "      <th>1</th>\n",
       "      <td>61.0</td>\n",
       "      <td>202.21</td>\n",
       "      <td>NaN</td>\n",
       "    </tr>\n",
       "    <tr>\n",
       "      <th>2</th>\n",
       "      <td>80.0</td>\n",
       "      <td>105.92</td>\n",
       "      <td>32.5</td>\n",
       "    </tr>\n",
       "    <tr>\n",
       "      <th>3</th>\n",
       "      <td>49.0</td>\n",
       "      <td>171.23</td>\n",
       "      <td>34.4</td>\n",
       "    </tr>\n",
       "    <tr>\n",
       "      <th>4</th>\n",
       "      <td>79.0</td>\n",
       "      <td>174.12</td>\n",
       "      <td>24.0</td>\n",
       "    </tr>\n",
       "    <tr>\n",
       "      <th>...</th>\n",
       "      <td>...</td>\n",
       "      <td>...</td>\n",
       "      <td>...</td>\n",
       "    </tr>\n",
       "    <tr>\n",
       "      <th>5105</th>\n",
       "      <td>80.0</td>\n",
       "      <td>83.75</td>\n",
       "      <td>NaN</td>\n",
       "    </tr>\n",
       "    <tr>\n",
       "      <th>5106</th>\n",
       "      <td>81.0</td>\n",
       "      <td>125.20</td>\n",
       "      <td>40.0</td>\n",
       "    </tr>\n",
       "    <tr>\n",
       "      <th>5107</th>\n",
       "      <td>35.0</td>\n",
       "      <td>82.99</td>\n",
       "      <td>30.6</td>\n",
       "    </tr>\n",
       "    <tr>\n",
       "      <th>5108</th>\n",
       "      <td>51.0</td>\n",
       "      <td>166.29</td>\n",
       "      <td>25.6</td>\n",
       "    </tr>\n",
       "    <tr>\n",
       "      <th>5109</th>\n",
       "      <td>44.0</td>\n",
       "      <td>85.28</td>\n",
       "      <td>26.2</td>\n",
       "    </tr>\n",
       "  </tbody>\n",
       "</table>\n",
       "<p>5110 rows × 3 columns</p>\n",
       "</div>"
      ],
      "text/plain": [
       "       age  avg_glucose_level   bmi\n",
       "0     67.0             228.69  36.6\n",
       "1     61.0             202.21   NaN\n",
       "2     80.0             105.92  32.5\n",
       "3     49.0             171.23  34.4\n",
       "4     79.0             174.12  24.0\n",
       "...    ...                ...   ...\n",
       "5105  80.0              83.75   NaN\n",
       "5106  81.0             125.20  40.0\n",
       "5107  35.0              82.99  30.6\n",
       "5108  51.0             166.29  25.6\n",
       "5109  44.0              85.28  26.2\n",
       "\n",
       "[5110 rows x 3 columns]"
      ]
     },
<<<<<<< HEAD
     "execution_count": 123,
=======
     "execution_count": 26,
>>>>>>> d494279b2f085a2815e0584c09f2d1d5066b4fc3
     "metadata": {},
     "output_type": "execute_result"
    }
   ],
   "source": [
    "num_col_df"
   ]
  },
  {
   "cell_type": "code",
<<<<<<< HEAD
   "execution_count": 124,
=======
   "execution_count": 27,
>>>>>>> d494279b2f085a2815e0584c09f2d1d5066b4fc3
   "id": "605d3655",
   "metadata": {},
   "outputs": [],
   "source": [
    "scaler = StandardScaler()\n",
    "median_imputer = SimpleImputer(strategy=\"median\")\n",
    "median_imputer.fit(num_col_df)\n",
    "imputed_df = pd.DataFrame(median_imputer.transform(num_col_df))\n",
    "scaler.fit(imputed_df)\n",
    "scaler_df = pd.DataFrame(scaler.transform(imputed_df))"
   ]
  },
  {
   "cell_type": "code",
<<<<<<< HEAD
   "execution_count": 125,
=======
   "execution_count": 28,
>>>>>>> d494279b2f085a2815e0584c09f2d1d5066b4fc3
   "id": "ddf67082",
   "metadata": {},
   "outputs": [],
   "source": [
    "scaler_df.columns = ['age_std', 'avg_glucose_level_std', 'bmi_std']"
   ]
  },
  {
   "cell_type": "code",
<<<<<<< HEAD
   "execution_count": 126,
=======
   "execution_count": 29,
>>>>>>> d494279b2f085a2815e0584c09f2d1d5066b4fc3
   "id": "59cda354",
   "metadata": {},
   "outputs": [],
   "source": [
    "full_data = one_hot_df.merge(scaler_df, left_index=True, right_index=True)"
   ]
  },
  {
   "cell_type": "code",
<<<<<<< HEAD
   "execution_count": 127,
=======
   "execution_count": 30,
>>>>>>> d494279b2f085a2815e0584c09f2d1d5066b4fc3
   "id": "43ae6026",
   "metadata": {},
   "outputs": [],
   "source": [
    "pca = PCA()\n",
    "X_pca = pca.fit_transform(full_data)\n",
    "total_explained_variance = pca.explained_variance_ratio_.cumsum()\n",
    "n_over_95 = len(total_explained_variance[total_explained_variance >= .95])\n",
    "n_to_reach_95 = X_pca.shape[1] - n_over_95 + 1"
   ]
  },
  {
   "cell_type": "code",
<<<<<<< HEAD
   "execution_count": 128,
=======
   "execution_count": 31,
>>>>>>> d494279b2f085a2815e0584c09f2d1d5066b4fc3
   "id": "6c14e59e",
   "metadata": {},
   "outputs": [
    {
     "name": "stdout",
     "output_type": "stream",
     "text": [
      "Number features: 11, Total Variance Explained: 0.9526782238274881\n"
     ]
    }
   ],
   "source": [
    "print(\"Number features: {0}, Total Variance Explained: {1}\".format(n_to_reach_95, total_explained_variance[n_to_reach_95-1]))"
   ]
  },
  {
   "cell_type": "code",
<<<<<<< HEAD
   "execution_count": 129,
   "id": "9ba457e1",
   "metadata": {},
   "outputs": [
    {
     "data": {
      "image/png": "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\n",
      "text/plain": [
       "<Figure size 432x288 with 1 Axes>"
      ]
     },
     "metadata": {
      "needs_background": "light"
     },
     "output_type": "display_data"
    }
   ],
   "source": [
    "pca = PCA(n_components=11)\n",
    "pca_fit = pca.fit(full_data)\n",
    "PC_values = np.arange(pca.n_components_) + 1\n",
    "plt.plot(PC_values, pca.explained_variance_ratio_, 'o-', linewidth=2, color='blue')\n",
    "plt.title('Scree Plot')\n",
    "plt.xlabel('Principal Component')\n",
    "plt.ylabel('Variance Explained')\n",
    "plt.show()"
   ]
  },
  {
   "cell_type": "code",
   "execution_count": 130,
   "id": "45761258",
   "metadata": {},
   "outputs": [
    {
     "name": "stdout",
     "output_type": "stream",
     "text": [
      "[0.30214532 0.14754053 0.12097061 0.08280621 0.08063472 0.05532417\n",
      " 0.04758203 0.0332673  0.03070709 0.02678073 0.02491951]\n"
     ]
    }
   ],
   "source": [
    "print(pca.explained_variance_ratio_)"
   ]
  },
  {
   "cell_type": "code",
   "execution_count": 387,
=======
   "execution_count": 32,
>>>>>>> d494279b2f085a2815e0584c09f2d1d5066b4fc3
   "id": "d94031ae",
   "metadata": {},
   "outputs": [],
   "source": [
    "X_pca = full_data"
   ]
  },
  {
   "cell_type": "code",
   "execution_count": 33,
   "id": "1531e9b6",
   "metadata": {},
   "outputs": [],
   "source": [
    "y_pca = data.iloc[:, -1]"
   ]
  },
  {
   "cell_type": "code",
   "execution_count": 34,
   "id": "ed918fbf",
   "metadata": {},
   "outputs": [],
   "source": [
    "X_train_pca, X_test_pca, y_train_pca, y_test_pca = train_test_split(X_pca, y_pca, test_size=0.2, random_state=0)"
   ]
  },
  {
   "cell_type": "code",
   "execution_count": 35,
   "id": "f26a00f9",
   "metadata": {},
   "outputs": [
    {
     "data": {
      "text/html": [
       "<style>#sk-container-id-2 {color: black;background-color: white;}#sk-container-id-2 pre{padding: 0;}#sk-container-id-2 div.sk-toggleable {background-color: white;}#sk-container-id-2 label.sk-toggleable__label {cursor: pointer;display: block;width: 100%;margin-bottom: 0;padding: 0.3em;box-sizing: border-box;text-align: center;}#sk-container-id-2 label.sk-toggleable__label-arrow:before {content: \"▸\";float: left;margin-right: 0.25em;color: #696969;}#sk-container-id-2 label.sk-toggleable__label-arrow:hover:before {color: black;}#sk-container-id-2 div.sk-estimator:hover label.sk-toggleable__label-arrow:before {color: black;}#sk-container-id-2 div.sk-toggleable__content {max-height: 0;max-width: 0;overflow: hidden;text-align: left;background-color: #f0f8ff;}#sk-container-id-2 div.sk-toggleable__content pre {margin: 0.2em;color: black;border-radius: 0.25em;background-color: #f0f8ff;}#sk-container-id-2 input.sk-toggleable__control:checked~div.sk-toggleable__content {max-height: 200px;max-width: 100%;overflow: auto;}#sk-container-id-2 input.sk-toggleable__control:checked~label.sk-toggleable__label-arrow:before {content: \"▾\";}#sk-container-id-2 div.sk-estimator input.sk-toggleable__control:checked~label.sk-toggleable__label {background-color: #d4ebff;}#sk-container-id-2 div.sk-label input.sk-toggleable__control:checked~label.sk-toggleable__label {background-color: #d4ebff;}#sk-container-id-2 input.sk-hidden--visually {border: 0;clip: rect(1px 1px 1px 1px);clip: rect(1px, 1px, 1px, 1px);height: 1px;margin: -1px;overflow: hidden;padding: 0;position: absolute;width: 1px;}#sk-container-id-2 div.sk-estimator {font-family: monospace;background-color: #f0f8ff;border: 1px dotted black;border-radius: 0.25em;box-sizing: border-box;margin-bottom: 0.5em;}#sk-container-id-2 div.sk-estimator:hover {background-color: #d4ebff;}#sk-container-id-2 div.sk-parallel-item::after {content: \"\";width: 100%;border-bottom: 1px solid gray;flex-grow: 1;}#sk-container-id-2 div.sk-label:hover label.sk-toggleable__label {background-color: #d4ebff;}#sk-container-id-2 div.sk-serial::before {content: \"\";position: absolute;border-left: 1px solid gray;box-sizing: border-box;top: 0;bottom: 0;left: 50%;z-index: 0;}#sk-container-id-2 div.sk-serial {display: flex;flex-direction: column;align-items: center;background-color: white;padding-right: 0.2em;padding-left: 0.2em;position: relative;}#sk-container-id-2 div.sk-item {position: relative;z-index: 1;}#sk-container-id-2 div.sk-parallel {display: flex;align-items: stretch;justify-content: center;background-color: white;position: relative;}#sk-container-id-2 div.sk-item::before, #sk-container-id-2 div.sk-parallel-item::before {content: \"\";position: absolute;border-left: 1px solid gray;box-sizing: border-box;top: 0;bottom: 0;left: 50%;z-index: -1;}#sk-container-id-2 div.sk-parallel-item {display: flex;flex-direction: column;z-index: 1;position: relative;background-color: white;}#sk-container-id-2 div.sk-parallel-item:first-child::after {align-self: flex-end;width: 50%;}#sk-container-id-2 div.sk-parallel-item:last-child::after {align-self: flex-start;width: 50%;}#sk-container-id-2 div.sk-parallel-item:only-child::after {width: 0;}#sk-container-id-2 div.sk-dashed-wrapped {border: 1px dashed gray;margin: 0 0.4em 0.5em 0.4em;box-sizing: border-box;padding-bottom: 0.4em;background-color: white;}#sk-container-id-2 div.sk-label label {font-family: monospace;font-weight: bold;display: inline-block;line-height: 1.2em;}#sk-container-id-2 div.sk-label-container {text-align: center;}#sk-container-id-2 div.sk-container {/* jupyter's `normalize.less` sets `[hidden] { display: none; }` but bootstrap.min.css set `[hidden] { display: none !important; }` so we also need the `!important` here to be able to override the default hidden behavior on the sphinx rendered scikit-learn.org. See: https://github.com/scikit-learn/scikit-learn/issues/21755 */display: inline-block !important;position: relative;}#sk-container-id-2 div.sk-text-repr-fallback {display: none;}</style><div id=\"sk-container-id-2\" class=\"sk-top-container\"><div class=\"sk-text-repr-fallback\"><pre>Pipeline(steps=[(&#x27;scaler&#x27;, StandardScaler()), (&#x27;pca&#x27;, PCA(n_components=11)),\n",
       "                (&#x27;clf&#x27;, RandomForestClassifier())])</pre><b>In a Jupyter environment, please rerun this cell to show the HTML representation or trust the notebook. <br />On GitHub, the HTML representation is unable to render, please try loading this page with nbviewer.org.</b></div><div class=\"sk-container\" hidden><div class=\"sk-item sk-dashed-wrapped\"><div class=\"sk-label-container\"><div class=\"sk-label sk-toggleable\"><input class=\"sk-toggleable__control sk-hidden--visually\" id=\"sk-estimator-id-2\" type=\"checkbox\" ><label for=\"sk-estimator-id-2\" class=\"sk-toggleable__label sk-toggleable__label-arrow\">Pipeline</label><div class=\"sk-toggleable__content\"><pre>Pipeline(steps=[(&#x27;scaler&#x27;, StandardScaler()), (&#x27;pca&#x27;, PCA(n_components=11)),\n",
       "                (&#x27;clf&#x27;, RandomForestClassifier())])</pre></div></div></div><div class=\"sk-serial\"><div class=\"sk-item\"><div class=\"sk-estimator sk-toggleable\"><input class=\"sk-toggleable__control sk-hidden--visually\" id=\"sk-estimator-id-3\" type=\"checkbox\" ><label for=\"sk-estimator-id-3\" class=\"sk-toggleable__label sk-toggleable__label-arrow\">StandardScaler</label><div class=\"sk-toggleable__content\"><pre>StandardScaler()</pre></div></div></div><div class=\"sk-item\"><div class=\"sk-estimator sk-toggleable\"><input class=\"sk-toggleable__control sk-hidden--visually\" id=\"sk-estimator-id-4\" type=\"checkbox\" ><label for=\"sk-estimator-id-4\" class=\"sk-toggleable__label sk-toggleable__label-arrow\">PCA</label><div class=\"sk-toggleable__content\"><pre>PCA(n_components=11)</pre></div></div></div><div class=\"sk-item\"><div class=\"sk-estimator sk-toggleable\"><input class=\"sk-toggleable__control sk-hidden--visually\" id=\"sk-estimator-id-5\" type=\"checkbox\" ><label for=\"sk-estimator-id-5\" class=\"sk-toggleable__label sk-toggleable__label-arrow\">RandomForestClassifier</label><div class=\"sk-toggleable__content\"><pre>RandomForestClassifier()</pre></div></div></div></div></div></div></div>"
      ],
      "text/plain": [
       "Pipeline(steps=[('scaler', StandardScaler()), ('pca', PCA(n_components=11)),\n",
       "                ('clf', RandomForestClassifier())])"
      ]
     },
     "execution_count": 35,
     "metadata": {},
     "output_type": "execute_result"
    }
   ],
   "source": [
    "pipe = Pipeline([('scaler', StandardScaler()),\n",
    "                 ('pca', PCA(n_components=n_to_reach_95)),\n",
    "                 ('clf', RandomForestClassifier())])\n",
    "\n",
    "pipe.fit(X_train_pca,y_train_pca)"
   ]
  },
  {
   "cell_type": "code",
   "execution_count": 36,
   "id": "2b2e92a3",
   "metadata": {},
   "outputs": [],
   "source": [
    "model = pipe.steps[1][1]\n",
    "n_pcs= model.components_.shape[0]\n",
    "initial_feature_names = X_train_pca.columns\n",
    "most_important = [np.abs(model.components_[i]).argmax() for i in range(n_pcs)]"
   ]
  },
  {
   "cell_type": "code",
   "execution_count": 37,
   "id": "f7717fb5",
   "metadata": {},
   "outputs": [],
   "source": [
    "most_important_names = [initial_feature_names[most_important[i]] for i in range(n_pcs)]"
   ]
  },
  {
   "cell_type": "code",
   "execution_count": 38,
   "id": "b5acf670",
   "metadata": {},
   "outputs": [
    {
     "data": {
      "image/png": "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\n",
      "text/plain": [
       "<Figure size 432x288 with 1 Axes>"
      ]
     },
     "metadata": {
      "needs_background": "light"
     },
     "output_type": "display_data"
    }
   ],
   "source": [
    "zipped_feats = zip(most_important_names, pipe.steps[2][1].feature_importances_)\n",
    "zipped_feats = sorted(zipped_feats, key=lambda x: x[1], reverse=True)\n",
    "features, importances = zip(*zipped_feats)\n",
    "top_features = features[:5]\n",
    "top_importances = importances[:5]\n",
    "plt.title('Feature Importances')\n",
    "plt.barh(range(len(top_importances)), top_importances, color='b', align='center')\n",
    "plt.yticks(range(len(top_importances)), top_features)\n",
    "plt.xlabel('Relative Importance')\n",
    "plt.show()"
   ]
  },
  {
   "cell_type": "code",
   "execution_count": 39,
   "id": "ef4e0d9e",
   "metadata": {},
   "outputs": [
    {
     "name": "stdout",
     "output_type": "stream",
     "text": [
      "model score: 0.947\n"
     ]
    }
   ],
   "source": [
    "print(\"model score: %.3f\" % pipe.score(X_test_pca,y_test_pca))"
   ]
<<<<<<< HEAD
=======
  },
  {
   "cell_type": "markdown",
   "id": "40b715d7",
   "metadata": {},
   "source": [
    "## Logistic Regression"
   ]
  },
  {
   "cell_type": "code",
   "execution_count": 40,
   "id": "d3bac9bd",
   "metadata": {},
   "outputs": [],
   "source": [
    "clf = Pipeline(\n",
    "    steps=[(\"preprocessor\", preprocessor), \n",
    "           (\"classifier\", LogisticRegression())]\n",
    ")"
   ]
  },
  {
   "cell_type": "code",
   "execution_count": 41,
   "id": "01667b5a",
   "metadata": {},
   "outputs": [],
   "source": [
    "X = data.iloc[:, 1:-1]"
   ]
  },
  {
   "cell_type": "code",
   "execution_count": 42,
   "id": "f36c0eec",
   "metadata": {},
   "outputs": [],
   "source": [
    "y = data.iloc[:, -1]"
   ]
  },
  {
   "cell_type": "code",
   "execution_count": 43,
   "id": "dfd0fc7b",
   "metadata": {},
   "outputs": [],
   "source": [
    "X_train, X_test, y_train, y_test = train_test_split(X, y, test_size=0.25, random_state=0)"
   ]
  },
  {
   "cell_type": "code",
   "execution_count": 44,
   "id": "126a7ecb",
   "metadata": {},
   "outputs": [
    {
     "name": "stdout",
     "output_type": "stream",
     "text": [
      "model score: 0.948\n"
     ]
    }
   ],
   "source": [
    "clf.fit(X_train, y_train)\n",
    "print(\"model score: %.3f\" % clf.score(X_test, y_test))"
   ]
  },
  {
   "cell_type": "code",
   "execution_count": 45,
   "id": "b439fa5b",
   "metadata": {},
   "outputs": [],
   "source": [
    "def conf_matrix(y,pred):\n",
    "    ((tn, fp), (fn, tp)) = confusion_matrix(y, pred)\n",
    "    ((tnr,fpr),(fnr,tpr))= confusion_matrix(y, pred, \n",
    "            normalize='true')\n",
    "    return pd.DataFrame([[f'TN = {tn} (TNR = {tnr:1.2%})', \n",
    "                                f'FP = {fp} (FPR = {fpr:1.2%})'], \n",
    "                         [f'FN = {fn} (FNR = {fnr:1.2%})', \n",
    "                                f'TP = {tp} (TPR = {tpr:1.2%})']],\n",
    "            index=['True 0', 'True 1'], \n",
    "            columns=['Pred 0', 'Pred 1'])"
   ]
  },
  {
   "cell_type": "markdown",
   "id": "22b566f8",
   "metadata": {},
   "source": [
    "High accuracy because the model predicts 0 all the time."
   ]
  },
  {
   "cell_type": "code",
   "execution_count": 46,
   "id": "d26df92f",
   "metadata": {},
   "outputs": [
    {
     "data": {
      "text/html": [
       "<div>\n",
       "<style scoped>\n",
       "    .dataframe tbody tr th:only-of-type {\n",
       "        vertical-align: middle;\n",
       "    }\n",
       "\n",
       "    .dataframe tbody tr th {\n",
       "        vertical-align: top;\n",
       "    }\n",
       "\n",
       "    .dataframe thead th {\n",
       "        text-align: right;\n",
       "    }\n",
       "</style>\n",
       "<table border=\"1\" class=\"dataframe\">\n",
       "  <thead>\n",
       "    <tr style=\"text-align: right;\">\n",
       "      <th></th>\n",
       "      <th>Pred 0</th>\n",
       "      <th>Pred 1</th>\n",
       "    </tr>\n",
       "  </thead>\n",
       "  <tbody>\n",
       "    <tr>\n",
       "      <th>True 0</th>\n",
       "      <td>TN = 968 (TNR = 100.00%)</td>\n",
       "      <td>FP = 0 (FPR = 0.00%)</td>\n",
       "    </tr>\n",
       "    <tr>\n",
       "      <th>True 1</th>\n",
       "      <td>FN = 53 (FNR = 98.15%)</td>\n",
       "      <td>TP = 1 (TPR = 1.85%)</td>\n",
       "    </tr>\n",
       "  </tbody>\n",
       "</table>\n",
       "</div>"
      ],
      "text/plain": [
       "                          Pred 0                Pred 1\n",
       "True 0  TN = 968 (TNR = 100.00%)  FP = 0 (FPR = 0.00%)\n",
       "True 1    FN = 53 (FNR = 98.15%)  TP = 1 (TPR = 1.85%)"
      ]
     },
     "execution_count": 46,
     "metadata": {},
     "output_type": "execute_result"
    }
   ],
   "source": [
    "ypred_ls = clf.predict(X_test)\n",
    "conf_matrix(y_test, ypred_ls)"
   ]
  },
  {
   "cell_type": "markdown",
   "id": "0f4e37f6",
   "metadata": {},
   "source": [
    "### Over Sampling"
   ]
  },
  {
   "cell_type": "code",
   "execution_count": 47,
   "id": "78bac175",
   "metadata": {},
   "outputs": [
    {
     "name": "stderr",
     "output_type": "stream",
     "text": [
      "Exception ignored on calling ctypes callback function: <function _ThreadpoolInfo._find_modules_with_dl_iterate_phdr.<locals>.match_module_callback at 0x7f2007d2ef70>\n",
      "Traceback (most recent call last):\n",
      "  File \"/opt/conda/lib/python3.9/site-packages/threadpoolctl.py\", line 400, in match_module_callback\n",
      "    self._make_module_from_path(filepath)\n",
      "  File \"/opt/conda/lib/python3.9/site-packages/threadpoolctl.py\", line 515, in _make_module_from_path\n",
      "    module = module_class(filepath, prefix, user_api, internal_api)\n",
      "  File \"/opt/conda/lib/python3.9/site-packages/threadpoolctl.py\", line 606, in __init__\n",
      "    self.version = self.get_version()\n",
      "  File \"/opt/conda/lib/python3.9/site-packages/threadpoolctl.py\", line 646, in get_version\n",
      "    config = get_config().split()\n",
      "AttributeError: 'NoneType' object has no attribute 'split'\n"
     ]
    }
   ],
   "source": [
    "X, y = full_data, data.iloc[:, -1]\n",
    "sm = SMOTE(random_state=42)\n",
    "X_sampled, y_sampled = sm.fit_resample(X, y)"
   ]
  },
  {
   "cell_type": "code",
   "execution_count": 48,
   "id": "bb09d617",
   "metadata": {},
   "outputs": [],
   "source": [
    "X_train1, X_test1, y_train1, y_test1 = train_test_split(X_sampled, y_sampled, test_size=0.25, random_state=0)"
   ]
  },
  {
   "cell_type": "code",
   "execution_count": 49,
   "id": "2d66f2df",
   "metadata": {},
   "outputs": [
    {
     "name": "stdout",
     "output_type": "stream",
     "text": [
      "model score: 0.794\n"
     ]
    }
   ],
   "source": [
    "ls = LogisticRegression()\n",
    "\n",
    "ls.fit(X_train1, y_train1)\n",
    "print(\"model score: %.3f\" % ls.score(X_test1, y_test1))"
   ]
  },
  {
   "cell_type": "code",
   "execution_count": 50,
   "id": "b3143c0c",
   "metadata": {},
   "outputs": [
    {
     "data": {
      "text/html": [
       "<div>\n",
       "<style scoped>\n",
       "    .dataframe tbody tr th:only-of-type {\n",
       "        vertical-align: middle;\n",
       "    }\n",
       "\n",
       "    .dataframe tbody tr th {\n",
       "        vertical-align: top;\n",
       "    }\n",
       "\n",
       "    .dataframe thead th {\n",
       "        text-align: right;\n",
       "    }\n",
       "</style>\n",
       "<table border=\"1\" class=\"dataframe\">\n",
       "  <thead>\n",
       "    <tr style=\"text-align: right;\">\n",
       "      <th></th>\n",
       "      <th>Pred 0</th>\n",
       "      <th>Pred 1</th>\n",
       "    </tr>\n",
       "  </thead>\n",
       "  <tbody>\n",
       "    <tr>\n",
       "      <th>True 0</th>\n",
       "      <td>TN = 910 (TNR = 74.84%)</td>\n",
       "      <td>FP = 306 (FPR = 25.16%)</td>\n",
       "    </tr>\n",
       "    <tr>\n",
       "      <th>True 1</th>\n",
       "      <td>FN = 194 (FNR = 15.97%)</td>\n",
       "      <td>TP = 1021 (TPR = 84.03%)</td>\n",
       "    </tr>\n",
       "  </tbody>\n",
       "</table>\n",
       "</div>"
      ],
      "text/plain": [
       "                         Pred 0                    Pred 1\n",
       "True 0  TN = 910 (TNR = 74.84%)   FP = 306 (FPR = 25.16%)\n",
       "True 1  FN = 194 (FNR = 15.97%)  TP = 1021 (TPR = 84.03%)"
      ]
     },
     "execution_count": 50,
     "metadata": {},
     "output_type": "execute_result"
    }
   ],
   "source": [
    "ypred_ls1 = ls.predict(X_test1)\n",
    "conf_matrix(y_test1, ypred_ls1)"
   ]
  },
  {
   "cell_type": "markdown",
   "id": "92cc2b3f",
   "metadata": {},
   "source": [
    "## Random Forest (On the oversampled data)"
   ]
  },
  {
   "cell_type": "code",
   "execution_count": 51,
   "id": "73283f82",
   "metadata": {},
   "outputs": [],
   "source": [
    "rf = RandomForestClassifier(random_state=0)"
   ]
  },
  {
   "cell_type": "code",
   "execution_count": 52,
   "id": "55c58785",
   "metadata": {},
   "outputs": [
    {
     "name": "stdout",
     "output_type": "stream",
     "text": [
      "model score: 0.961\n"
     ]
    }
   ],
   "source": [
    "rf.fit(X_train1, y_train1)\n",
    "print(\"model score: %.3f\" % rf.score(X_test1, y_test1))\n",
    "ypred_rf = rf.predict(X_test1)"
   ]
  },
  {
   "cell_type": "code",
   "execution_count": 53,
   "id": "bbe25286",
   "metadata": {},
   "outputs": [
    {
     "data": {
      "text/html": [
       "<div>\n",
       "<style scoped>\n",
       "    .dataframe tbody tr th:only-of-type {\n",
       "        vertical-align: middle;\n",
       "    }\n",
       "\n",
       "    .dataframe tbody tr th {\n",
       "        vertical-align: top;\n",
       "    }\n",
       "\n",
       "    .dataframe thead th {\n",
       "        text-align: right;\n",
       "    }\n",
       "</style>\n",
       "<table border=\"1\" class=\"dataframe\">\n",
       "  <thead>\n",
       "    <tr style=\"text-align: right;\">\n",
       "      <th></th>\n",
       "      <th>Pred 0</th>\n",
       "      <th>Pred 1</th>\n",
       "    </tr>\n",
       "  </thead>\n",
       "  <tbody>\n",
       "    <tr>\n",
       "      <th>True 0</th>\n",
       "      <td>TN = 1157 (TNR = 95.15%)</td>\n",
       "      <td>FP = 59 (FPR = 4.85%)</td>\n",
       "    </tr>\n",
       "    <tr>\n",
       "      <th>True 1</th>\n",
       "      <td>FN = 35 (FNR = 2.88%)</td>\n",
       "      <td>TP = 1180 (TPR = 97.12%)</td>\n",
       "    </tr>\n",
       "  </tbody>\n",
       "</table>\n",
       "</div>"
      ],
      "text/plain": [
       "                          Pred 0                    Pred 1\n",
       "True 0  TN = 1157 (TNR = 95.15%)     FP = 59 (FPR = 4.85%)\n",
       "True 1     FN = 35 (FNR = 2.88%)  TP = 1180 (TPR = 97.12%)"
      ]
     },
     "execution_count": 53,
     "metadata": {},
     "output_type": "execute_result"
    }
   ],
   "source": [
    "conf_matrix(y_test1,ypred_rf)"
   ]
  },
  {
   "cell_type": "markdown",
   "id": "707daf48",
   "metadata": {},
   "source": [
    "## ANN"
   ]
  },
  {
   "cell_type": "code",
   "execution_count": 65,
   "id": "9265b1e0",
   "metadata": {},
   "outputs": [],
   "source": [
    "X1 = np.asarray(X_sampled).astype(np.float32)\n",
    "y1 = np.asarray(y_sampled).astype(np.float32)"
   ]
  },
  {
   "cell_type": "code",
   "execution_count": 75,
   "id": "25e1d5e2",
   "metadata": {},
   "outputs": [],
   "source": [
    "X_train2, X_test2, y_train2, y_test2 = train_test_split(X1, y1, test_size=0.25, random_state=0)"
   ]
  },
  {
   "cell_type": "code",
   "execution_count": 68,
   "id": "3cb08a85",
   "metadata": {},
   "outputs": [
    {
     "name": "stdout",
     "output_type": "stream",
     "text": [
      "Epoch 1/50\n",
      "1823/1823 [==============================] - 7s 4ms/step - loss: 0.4528 - accuracy: 0.7875\n",
      "Epoch 2/50\n",
      "1823/1823 [==============================] - 7s 4ms/step - loss: 0.3927 - accuracy: 0.8249\n",
      "Epoch 3/50\n",
      "1823/1823 [==============================] - 7s 4ms/step - loss: 0.3539 - accuracy: 0.8483\n",
      "Epoch 4/50\n",
      "1823/1823 [==============================] - 6s 4ms/step - loss: 0.3228 - accuracy: 0.8591\n",
      "Epoch 5/50\n",
      "1823/1823 [==============================] - 7s 4ms/step - loss: 0.3079 - accuracy: 0.8681\n",
      "Epoch 6/50\n",
      "1823/1823 [==============================] - 7s 4ms/step - loss: 0.2876 - accuracy: 0.8767\n",
      "Epoch 7/50\n",
      "1823/1823 [==============================] - 6s 4ms/step - loss: 0.2731 - accuracy: 0.8808\n",
      "Epoch 8/50\n",
      "1823/1823 [==============================] - 6s 4ms/step - loss: 0.2592 - accuracy: 0.8952\n",
      "Epoch 9/50\n",
      "1823/1823 [==============================] - 7s 4ms/step - loss: 0.2536 - accuracy: 0.8937\n",
      "Epoch 10/50\n",
      "1823/1823 [==============================] - 7s 4ms/step - loss: 0.2385 - accuracy: 0.9010\n",
      "Epoch 11/50\n",
      "1823/1823 [==============================] - 7s 4ms/step - loss: 0.2282 - accuracy: 0.9080\n",
      "Epoch 12/50\n",
      "1823/1823 [==============================] - 6s 4ms/step - loss: 0.2244 - accuracy: 0.9098\n",
      "Epoch 13/50\n",
      "1823/1823 [==============================] - 7s 4ms/step - loss: 0.2207 - accuracy: 0.9124\n",
      "Epoch 14/50\n",
      "1823/1823 [==============================] - 7s 4ms/step - loss: 0.2124 - accuracy: 0.9180\n",
      "Epoch 15/50\n",
      "1823/1823 [==============================] - 7s 4ms/step - loss: 0.2040 - accuracy: 0.9196\n",
      "Epoch 16/50\n",
      "1823/1823 [==============================] - 7s 4ms/step - loss: 0.2024 - accuracy: 0.9194\n",
      "Epoch 17/50\n",
      "1823/1823 [==============================] - 7s 4ms/step - loss: 0.1978 - accuracy: 0.9200\n",
      "Epoch 18/50\n",
      "1823/1823 [==============================] - 6s 4ms/step - loss: 0.1887 - accuracy: 0.9243\n",
      "Epoch 19/50\n",
      "1823/1823 [==============================] - 7s 4ms/step - loss: 0.1920 - accuracy: 0.9244\n",
      "Epoch 20/50\n",
      "1823/1823 [==============================] - 7s 4ms/step - loss: 0.1830 - accuracy: 0.9298\n",
      "Epoch 21/50\n",
      "1823/1823 [==============================] - 6s 4ms/step - loss: 0.1824 - accuracy: 0.9321\n",
      "Epoch 22/50\n",
      "1823/1823 [==============================] - 7s 4ms/step - loss: 0.1790 - accuracy: 0.9318\n",
      "Epoch 23/50\n",
      "1823/1823 [==============================] - 7s 4ms/step - loss: 0.1742 - accuracy: 0.9317\n",
      "Epoch 24/50\n",
      "1823/1823 [==============================] - 6s 3ms/step - loss: 0.1721 - accuracy: 0.9351\n",
      "Epoch 25/50\n",
      "1823/1823 [==============================] - 7s 4ms/step - loss: 0.1660 - accuracy: 0.9339\n",
      "Epoch 26/50\n",
      "1823/1823 [==============================] - 7s 4ms/step - loss: 0.1627 - accuracy: 0.9355\n",
      "Epoch 27/50\n",
      "1823/1823 [==============================] - 6s 3ms/step - loss: 0.1676 - accuracy: 0.9350\n",
      "Epoch 28/50\n",
      "1823/1823 [==============================] - 6s 4ms/step - loss: 0.1627 - accuracy: 0.9386\n",
      "Epoch 29/50\n",
      "1823/1823 [==============================] - 7s 4ms/step - loss: 0.1583 - accuracy: 0.9372\n",
      "Epoch 30/50\n",
      "1823/1823 [==============================] - 7s 4ms/step - loss: 0.1582 - accuracy: 0.9407\n",
      "Epoch 31/50\n",
      "  45/1823 [..............................] - ETA: 6s - loss: 0.1953 - accuracy: 0.9222"
     ]
    },
    {
     "ename": "KeyboardInterrupt",
     "evalue": "",
     "output_type": "error",
     "traceback": [
      "\u001b[0;31m---------------------------------------------------------------------------\u001b[0m",
      "\u001b[0;31mKeyboardInterrupt\u001b[0m                         Traceback (most recent call last)",
      "\u001b[0;32m/tmp/ipykernel_977/2573915229.py\u001b[0m in \u001b[0;36m<module>\u001b[0;34m\u001b[0m\n\u001b[1;32m      7\u001b[0m ])\n\u001b[1;32m      8\u001b[0m \u001b[0mmodel\u001b[0m\u001b[0;34m.\u001b[0m\u001b[0mcompile\u001b[0m\u001b[0;34m(\u001b[0m\u001b[0mloss\u001b[0m\u001b[0;34m=\u001b[0m\u001b[0;34m'binary_crossentropy'\u001b[0m\u001b[0;34m,\u001b[0m \u001b[0moptimizer\u001b[0m\u001b[0;34m=\u001b[0m\u001b[0;34m'adam'\u001b[0m\u001b[0;34m,\u001b[0m\u001b[0mmetrics\u001b[0m\u001b[0;34m=\u001b[0m\u001b[0;34m[\u001b[0m\u001b[0;34m'accuracy'\u001b[0m\u001b[0;34m]\u001b[0m\u001b[0;34m)\u001b[0m\u001b[0;34m\u001b[0m\u001b[0;34m\u001b[0m\u001b[0m\n\u001b[0;32m----> 9\u001b[0;31m \u001b[0mmodel\u001b[0m\u001b[0;34m.\u001b[0m\u001b[0mfit\u001b[0m\u001b[0;34m(\u001b[0m\u001b[0mX_train2\u001b[0m\u001b[0;34m,\u001b[0m \u001b[0my_train2\u001b[0m\u001b[0;34m,\u001b[0m \u001b[0mepochs\u001b[0m\u001b[0;34m=\u001b[0m\u001b[0;36m50\u001b[0m\u001b[0;34m,\u001b[0m \u001b[0mbatch_size\u001b[0m\u001b[0;34m=\u001b[0m\u001b[0;36m4\u001b[0m\u001b[0;34m)\u001b[0m\u001b[0;34m\u001b[0m\u001b[0;34m\u001b[0m\u001b[0m\n\u001b[0m",
      "\u001b[0;32m~/.local/lib/python3.9/site-packages/keras/utils/traceback_utils.py\u001b[0m in \u001b[0;36merror_handler\u001b[0;34m(*args, **kwargs)\u001b[0m\n\u001b[1;32m     63\u001b[0m         \u001b[0mfiltered_tb\u001b[0m \u001b[0;34m=\u001b[0m \u001b[0;32mNone\u001b[0m\u001b[0;34m\u001b[0m\u001b[0;34m\u001b[0m\u001b[0m\n\u001b[1;32m     64\u001b[0m         \u001b[0;32mtry\u001b[0m\u001b[0;34m:\u001b[0m\u001b[0;34m\u001b[0m\u001b[0;34m\u001b[0m\u001b[0m\n\u001b[0;32m---> 65\u001b[0;31m             \u001b[0;32mreturn\u001b[0m \u001b[0mfn\u001b[0m\u001b[0;34m(\u001b[0m\u001b[0;34m*\u001b[0m\u001b[0margs\u001b[0m\u001b[0;34m,\u001b[0m \u001b[0;34m**\u001b[0m\u001b[0mkwargs\u001b[0m\u001b[0;34m)\u001b[0m\u001b[0;34m\u001b[0m\u001b[0;34m\u001b[0m\u001b[0m\n\u001b[0m\u001b[1;32m     66\u001b[0m         \u001b[0;32mexcept\u001b[0m \u001b[0mException\u001b[0m \u001b[0;32mas\u001b[0m \u001b[0me\u001b[0m\u001b[0;34m:\u001b[0m\u001b[0;34m\u001b[0m\u001b[0;34m\u001b[0m\u001b[0m\n\u001b[1;32m     67\u001b[0m             \u001b[0mfiltered_tb\u001b[0m \u001b[0;34m=\u001b[0m \u001b[0m_process_traceback_frames\u001b[0m\u001b[0;34m(\u001b[0m\u001b[0me\u001b[0m\u001b[0;34m.\u001b[0m\u001b[0m__traceback__\u001b[0m\u001b[0;34m)\u001b[0m\u001b[0;34m\u001b[0m\u001b[0;34m\u001b[0m\u001b[0m\n",
      "\u001b[0;32m~/.local/lib/python3.9/site-packages/keras/engine/training.py\u001b[0m in \u001b[0;36mfit\u001b[0;34m(self, x, y, batch_size, epochs, verbose, callbacks, validation_split, validation_data, shuffle, class_weight, sample_weight, initial_epoch, steps_per_epoch, validation_steps, validation_batch_size, validation_freq, max_queue_size, workers, use_multiprocessing)\u001b[0m\n\u001b[1;32m   1568\u001b[0m                             \u001b[0mlogs\u001b[0m \u001b[0;34m=\u001b[0m \u001b[0mtmp_logs\u001b[0m\u001b[0;34m\u001b[0m\u001b[0;34m\u001b[0m\u001b[0m\n\u001b[1;32m   1569\u001b[0m                             \u001b[0mend_step\u001b[0m \u001b[0;34m=\u001b[0m \u001b[0mstep\u001b[0m \u001b[0;34m+\u001b[0m \u001b[0mdata_handler\u001b[0m\u001b[0;34m.\u001b[0m\u001b[0mstep_increment\u001b[0m\u001b[0;34m\u001b[0m\u001b[0;34m\u001b[0m\u001b[0m\n\u001b[0;32m-> 1570\u001b[0;31m                             \u001b[0mcallbacks\u001b[0m\u001b[0;34m.\u001b[0m\u001b[0mon_train_batch_end\u001b[0m\u001b[0;34m(\u001b[0m\u001b[0mend_step\u001b[0m\u001b[0;34m,\u001b[0m \u001b[0mlogs\u001b[0m\u001b[0;34m)\u001b[0m\u001b[0;34m\u001b[0m\u001b[0;34m\u001b[0m\u001b[0m\n\u001b[0m\u001b[1;32m   1571\u001b[0m                             \u001b[0;32mif\u001b[0m \u001b[0mself\u001b[0m\u001b[0;34m.\u001b[0m\u001b[0mstop_training\u001b[0m\u001b[0;34m:\u001b[0m\u001b[0;34m\u001b[0m\u001b[0;34m\u001b[0m\u001b[0m\n\u001b[1;32m   1572\u001b[0m                                 \u001b[0;32mbreak\u001b[0m\u001b[0;34m\u001b[0m\u001b[0;34m\u001b[0m\u001b[0m\n",
      "\u001b[0;32m~/.local/lib/python3.9/site-packages/keras/callbacks.py\u001b[0m in \u001b[0;36mon_train_batch_end\u001b[0;34m(self, batch, logs)\u001b[0m\n\u001b[1;32m    468\u001b[0m         \"\"\"\n\u001b[1;32m    469\u001b[0m         \u001b[0;32mif\u001b[0m \u001b[0mself\u001b[0m\u001b[0;34m.\u001b[0m\u001b[0m_should_call_train_batch_hooks\u001b[0m\u001b[0;34m:\u001b[0m\u001b[0;34m\u001b[0m\u001b[0;34m\u001b[0m\u001b[0m\n\u001b[0;32m--> 470\u001b[0;31m             \u001b[0mself\u001b[0m\u001b[0;34m.\u001b[0m\u001b[0m_call_batch_hook\u001b[0m\u001b[0;34m(\u001b[0m\u001b[0mModeKeys\u001b[0m\u001b[0;34m.\u001b[0m\u001b[0mTRAIN\u001b[0m\u001b[0;34m,\u001b[0m \u001b[0;34m\"end\"\u001b[0m\u001b[0;34m,\u001b[0m \u001b[0mbatch\u001b[0m\u001b[0;34m,\u001b[0m \u001b[0mlogs\u001b[0m\u001b[0;34m=\u001b[0m\u001b[0mlogs\u001b[0m\u001b[0;34m)\u001b[0m\u001b[0;34m\u001b[0m\u001b[0;34m\u001b[0m\u001b[0m\n\u001b[0m\u001b[1;32m    471\u001b[0m \u001b[0;34m\u001b[0m\u001b[0m\n\u001b[1;32m    472\u001b[0m     \u001b[0;32mdef\u001b[0m \u001b[0mon_test_batch_begin\u001b[0m\u001b[0;34m(\u001b[0m\u001b[0mself\u001b[0m\u001b[0;34m,\u001b[0m \u001b[0mbatch\u001b[0m\u001b[0;34m,\u001b[0m \u001b[0mlogs\u001b[0m\u001b[0;34m=\u001b[0m\u001b[0;32mNone\u001b[0m\u001b[0;34m)\u001b[0m\u001b[0;34m:\u001b[0m\u001b[0;34m\u001b[0m\u001b[0;34m\u001b[0m\u001b[0m\n",
      "\u001b[0;32m~/.local/lib/python3.9/site-packages/keras/callbacks.py\u001b[0m in \u001b[0;36m_call_batch_hook\u001b[0;34m(self, mode, hook, batch, logs)\u001b[0m\n\u001b[1;32m    315\u001b[0m             \u001b[0mself\u001b[0m\u001b[0;34m.\u001b[0m\u001b[0m_call_batch_begin_hook\u001b[0m\u001b[0;34m(\u001b[0m\u001b[0mmode\u001b[0m\u001b[0;34m,\u001b[0m \u001b[0mbatch\u001b[0m\u001b[0;34m,\u001b[0m \u001b[0mlogs\u001b[0m\u001b[0;34m)\u001b[0m\u001b[0;34m\u001b[0m\u001b[0;34m\u001b[0m\u001b[0m\n\u001b[1;32m    316\u001b[0m         \u001b[0;32melif\u001b[0m \u001b[0mhook\u001b[0m \u001b[0;34m==\u001b[0m \u001b[0;34m\"end\"\u001b[0m\u001b[0;34m:\u001b[0m\u001b[0;34m\u001b[0m\u001b[0;34m\u001b[0m\u001b[0m\n\u001b[0;32m--> 317\u001b[0;31m             \u001b[0mself\u001b[0m\u001b[0;34m.\u001b[0m\u001b[0m_call_batch_end_hook\u001b[0m\u001b[0;34m(\u001b[0m\u001b[0mmode\u001b[0m\u001b[0;34m,\u001b[0m \u001b[0mbatch\u001b[0m\u001b[0;34m,\u001b[0m \u001b[0mlogs\u001b[0m\u001b[0;34m)\u001b[0m\u001b[0;34m\u001b[0m\u001b[0;34m\u001b[0m\u001b[0m\n\u001b[0m\u001b[1;32m    318\u001b[0m         \u001b[0;32melse\u001b[0m\u001b[0;34m:\u001b[0m\u001b[0;34m\u001b[0m\u001b[0;34m\u001b[0m\u001b[0m\n\u001b[1;32m    319\u001b[0m             raise ValueError(\n",
      "\u001b[0;32m~/.local/lib/python3.9/site-packages/keras/callbacks.py\u001b[0m in \u001b[0;36m_call_batch_end_hook\u001b[0;34m(self, mode, batch, logs)\u001b[0m\n\u001b[1;32m    338\u001b[0m             \u001b[0mself\u001b[0m\u001b[0;34m.\u001b[0m\u001b[0m_batch_times\u001b[0m\u001b[0;34m.\u001b[0m\u001b[0mappend\u001b[0m\u001b[0;34m(\u001b[0m\u001b[0mbatch_time\u001b[0m\u001b[0;34m)\u001b[0m\u001b[0;34m\u001b[0m\u001b[0;34m\u001b[0m\u001b[0m\n\u001b[1;32m    339\u001b[0m \u001b[0;34m\u001b[0m\u001b[0m\n\u001b[0;32m--> 340\u001b[0;31m         \u001b[0mself\u001b[0m\u001b[0;34m.\u001b[0m\u001b[0m_call_batch_hook_helper\u001b[0m\u001b[0;34m(\u001b[0m\u001b[0mhook_name\u001b[0m\u001b[0;34m,\u001b[0m \u001b[0mbatch\u001b[0m\u001b[0;34m,\u001b[0m \u001b[0mlogs\u001b[0m\u001b[0;34m)\u001b[0m\u001b[0;34m\u001b[0m\u001b[0;34m\u001b[0m\u001b[0m\n\u001b[0m\u001b[1;32m    341\u001b[0m \u001b[0;34m\u001b[0m\u001b[0m\n\u001b[1;32m    342\u001b[0m         \u001b[0;32mif\u001b[0m \u001b[0mlen\u001b[0m\u001b[0;34m(\u001b[0m\u001b[0mself\u001b[0m\u001b[0;34m.\u001b[0m\u001b[0m_batch_times\u001b[0m\u001b[0;34m)\u001b[0m \u001b[0;34m>=\u001b[0m \u001b[0mself\u001b[0m\u001b[0;34m.\u001b[0m\u001b[0m_num_batches_for_timing_check\u001b[0m\u001b[0;34m:\u001b[0m\u001b[0;34m\u001b[0m\u001b[0;34m\u001b[0m\u001b[0m\n",
      "\u001b[0;32m~/.local/lib/python3.9/site-packages/keras/callbacks.py\u001b[0m in \u001b[0;36m_call_batch_hook_helper\u001b[0;34m(self, hook_name, batch, logs)\u001b[0m\n\u001b[1;32m    386\u001b[0m         \u001b[0;32mfor\u001b[0m \u001b[0mcallback\u001b[0m \u001b[0;32min\u001b[0m \u001b[0mself\u001b[0m\u001b[0;34m.\u001b[0m\u001b[0mcallbacks\u001b[0m\u001b[0;34m:\u001b[0m\u001b[0;34m\u001b[0m\u001b[0;34m\u001b[0m\u001b[0m\n\u001b[1;32m    387\u001b[0m             \u001b[0mhook\u001b[0m \u001b[0;34m=\u001b[0m \u001b[0mgetattr\u001b[0m\u001b[0;34m(\u001b[0m\u001b[0mcallback\u001b[0m\u001b[0;34m,\u001b[0m \u001b[0mhook_name\u001b[0m\u001b[0;34m)\u001b[0m\u001b[0;34m\u001b[0m\u001b[0;34m\u001b[0m\u001b[0m\n\u001b[0;32m--> 388\u001b[0;31m             \u001b[0mhook\u001b[0m\u001b[0;34m(\u001b[0m\u001b[0mbatch\u001b[0m\u001b[0;34m,\u001b[0m \u001b[0mlogs\u001b[0m\u001b[0;34m)\u001b[0m\u001b[0;34m\u001b[0m\u001b[0;34m\u001b[0m\u001b[0m\n\u001b[0m\u001b[1;32m    389\u001b[0m \u001b[0;34m\u001b[0m\u001b[0m\n\u001b[1;32m    390\u001b[0m         \u001b[0;32mif\u001b[0m \u001b[0mself\u001b[0m\u001b[0;34m.\u001b[0m\u001b[0m_check_timing\u001b[0m\u001b[0;34m:\u001b[0m\u001b[0;34m\u001b[0m\u001b[0;34m\u001b[0m\u001b[0m\n",
      "\u001b[0;32m~/.local/lib/python3.9/site-packages/keras/callbacks.py\u001b[0m in \u001b[0;36mon_train_batch_end\u001b[0;34m(self, batch, logs)\u001b[0m\n\u001b[1;32m   1079\u001b[0m \u001b[0;34m\u001b[0m\u001b[0m\n\u001b[1;32m   1080\u001b[0m     \u001b[0;32mdef\u001b[0m \u001b[0mon_train_batch_end\u001b[0m\u001b[0;34m(\u001b[0m\u001b[0mself\u001b[0m\u001b[0;34m,\u001b[0m \u001b[0mbatch\u001b[0m\u001b[0;34m,\u001b[0m \u001b[0mlogs\u001b[0m\u001b[0;34m=\u001b[0m\u001b[0;32mNone\u001b[0m\u001b[0;34m)\u001b[0m\u001b[0;34m:\u001b[0m\u001b[0;34m\u001b[0m\u001b[0;34m\u001b[0m\u001b[0m\n\u001b[0;32m-> 1081\u001b[0;31m         \u001b[0mself\u001b[0m\u001b[0;34m.\u001b[0m\u001b[0m_batch_update_progbar\u001b[0m\u001b[0;34m(\u001b[0m\u001b[0mbatch\u001b[0m\u001b[0;34m,\u001b[0m \u001b[0mlogs\u001b[0m\u001b[0;34m)\u001b[0m\u001b[0;34m\u001b[0m\u001b[0;34m\u001b[0m\u001b[0m\n\u001b[0m\u001b[1;32m   1082\u001b[0m \u001b[0;34m\u001b[0m\u001b[0m\n\u001b[1;32m   1083\u001b[0m     \u001b[0;32mdef\u001b[0m \u001b[0mon_test_batch_end\u001b[0m\u001b[0;34m(\u001b[0m\u001b[0mself\u001b[0m\u001b[0;34m,\u001b[0m \u001b[0mbatch\u001b[0m\u001b[0;34m,\u001b[0m \u001b[0mlogs\u001b[0m\u001b[0;34m=\u001b[0m\u001b[0;32mNone\u001b[0m\u001b[0;34m)\u001b[0m\u001b[0;34m:\u001b[0m\u001b[0;34m\u001b[0m\u001b[0;34m\u001b[0m\u001b[0m\n",
      "\u001b[0;32m~/.local/lib/python3.9/site-packages/keras/callbacks.py\u001b[0m in \u001b[0;36m_batch_update_progbar\u001b[0;34m(self, batch, logs)\u001b[0m\n\u001b[1;32m   1156\u001b[0m             \u001b[0;31m# Only block async when verbose = 1.\u001b[0m\u001b[0;34m\u001b[0m\u001b[0;34m\u001b[0m\u001b[0;34m\u001b[0m\u001b[0m\n\u001b[1;32m   1157\u001b[0m             \u001b[0mlogs\u001b[0m \u001b[0;34m=\u001b[0m \u001b[0mtf_utils\u001b[0m\u001b[0;34m.\u001b[0m\u001b[0msync_to_numpy_or_python_type\u001b[0m\u001b[0;34m(\u001b[0m\u001b[0mlogs\u001b[0m\u001b[0;34m)\u001b[0m\u001b[0;34m\u001b[0m\u001b[0;34m\u001b[0m\u001b[0m\n\u001b[0;32m-> 1158\u001b[0;31m             \u001b[0mself\u001b[0m\u001b[0;34m.\u001b[0m\u001b[0mprogbar\u001b[0m\u001b[0;34m.\u001b[0m\u001b[0mupdate\u001b[0m\u001b[0;34m(\u001b[0m\u001b[0mself\u001b[0m\u001b[0;34m.\u001b[0m\u001b[0mseen\u001b[0m\u001b[0;34m,\u001b[0m \u001b[0mlist\u001b[0m\u001b[0;34m(\u001b[0m\u001b[0mlogs\u001b[0m\u001b[0;34m.\u001b[0m\u001b[0mitems\u001b[0m\u001b[0;34m(\u001b[0m\u001b[0;34m)\u001b[0m\u001b[0;34m)\u001b[0m\u001b[0;34m,\u001b[0m \u001b[0mfinalize\u001b[0m\u001b[0;34m=\u001b[0m\u001b[0;32mFalse\u001b[0m\u001b[0;34m)\u001b[0m\u001b[0;34m\u001b[0m\u001b[0;34m\u001b[0m\u001b[0m\n\u001b[0m\u001b[1;32m   1159\u001b[0m \u001b[0;34m\u001b[0m\u001b[0m\n\u001b[1;32m   1160\u001b[0m     \u001b[0;32mdef\u001b[0m \u001b[0m_finalize_progbar\u001b[0m\u001b[0;34m(\u001b[0m\u001b[0mself\u001b[0m\u001b[0;34m,\u001b[0m \u001b[0mlogs\u001b[0m\u001b[0;34m,\u001b[0m \u001b[0mcounter\u001b[0m\u001b[0;34m)\u001b[0m\u001b[0;34m:\u001b[0m\u001b[0;34m\u001b[0m\u001b[0;34m\u001b[0m\u001b[0m\n",
      "\u001b[0;32m~/.local/lib/python3.9/site-packages/keras/utils/generic_utils.py\u001b[0m in \u001b[0;36mupdate\u001b[0;34m(self, current, values, finalize)\u001b[0m\n\u001b[1;32m   1049\u001b[0m \u001b[0;34m\u001b[0m\u001b[0m\n\u001b[1;32m   1050\u001b[0m             \u001b[0mmessage\u001b[0m \u001b[0;34m+=\u001b[0m \u001b[0minfo\u001b[0m\u001b[0;34m\u001b[0m\u001b[0;34m\u001b[0m\u001b[0m\n\u001b[0;32m-> 1051\u001b[0;31m             \u001b[0mio_utils\u001b[0m\u001b[0;34m.\u001b[0m\u001b[0mprint_msg\u001b[0m\u001b[0;34m(\u001b[0m\u001b[0mmessage\u001b[0m\u001b[0;34m,\u001b[0m \u001b[0mline_break\u001b[0m\u001b[0;34m=\u001b[0m\u001b[0;32mFalse\u001b[0m\u001b[0;34m)\u001b[0m\u001b[0;34m\u001b[0m\u001b[0;34m\u001b[0m\u001b[0m\n\u001b[0m\u001b[1;32m   1052\u001b[0m             \u001b[0mmessage\u001b[0m \u001b[0;34m=\u001b[0m \u001b[0;34m\"\"\u001b[0m\u001b[0;34m\u001b[0m\u001b[0;34m\u001b[0m\u001b[0m\n\u001b[1;32m   1053\u001b[0m \u001b[0;34m\u001b[0m\u001b[0m\n",
      "\u001b[0;32m~/.local/lib/python3.9/site-packages/keras/utils/io_utils.py\u001b[0m in \u001b[0;36mprint_msg\u001b[0;34m(message, line_break)\u001b[0m\n\u001b[1;32m     78\u001b[0m         \u001b[0;32melse\u001b[0m\u001b[0;34m:\u001b[0m\u001b[0;34m\u001b[0m\u001b[0;34m\u001b[0m\u001b[0m\n\u001b[1;32m     79\u001b[0m             \u001b[0msys\u001b[0m\u001b[0;34m.\u001b[0m\u001b[0mstdout\u001b[0m\u001b[0;34m.\u001b[0m\u001b[0mwrite\u001b[0m\u001b[0;34m(\u001b[0m\u001b[0mmessage\u001b[0m\u001b[0;34m)\u001b[0m\u001b[0;34m\u001b[0m\u001b[0;34m\u001b[0m\u001b[0m\n\u001b[0;32m---> 80\u001b[0;31m         \u001b[0msys\u001b[0m\u001b[0;34m.\u001b[0m\u001b[0mstdout\u001b[0m\u001b[0;34m.\u001b[0m\u001b[0mflush\u001b[0m\u001b[0;34m(\u001b[0m\u001b[0;34m)\u001b[0m\u001b[0;34m\u001b[0m\u001b[0;34m\u001b[0m\u001b[0m\n\u001b[0m\u001b[1;32m     81\u001b[0m     \u001b[0;32melse\u001b[0m\u001b[0;34m:\u001b[0m\u001b[0;34m\u001b[0m\u001b[0;34m\u001b[0m\u001b[0m\n\u001b[1;32m     82\u001b[0m         \u001b[0mlogging\u001b[0m\u001b[0;34m.\u001b[0m\u001b[0minfo\u001b[0m\u001b[0;34m(\u001b[0m\u001b[0mmessage\u001b[0m\u001b[0;34m)\u001b[0m\u001b[0;34m\u001b[0m\u001b[0;34m\u001b[0m\u001b[0m\n",
      "\u001b[0;32m/opt/conda/lib/python3.9/site-packages/ipykernel/iostream.py\u001b[0m in \u001b[0;36mflush\u001b[0;34m(self)\u001b[0m\n\u001b[1;32m    454\u001b[0m                 \u001b[0mself\u001b[0m\u001b[0;34m.\u001b[0m\u001b[0mpub_thread\u001b[0m\u001b[0;34m.\u001b[0m\u001b[0mschedule\u001b[0m\u001b[0;34m(\u001b[0m\u001b[0mevt\u001b[0m\u001b[0;34m.\u001b[0m\u001b[0mset\u001b[0m\u001b[0;34m)\u001b[0m\u001b[0;34m\u001b[0m\u001b[0;34m\u001b[0m\u001b[0m\n\u001b[1;32m    455\u001b[0m                 \u001b[0;31m# and give a timeout to avoid\u001b[0m\u001b[0;34m\u001b[0m\u001b[0;34m\u001b[0m\u001b[0;34m\u001b[0m\u001b[0m\n\u001b[0;32m--> 456\u001b[0;31m                 \u001b[0;32mif\u001b[0m \u001b[0;32mnot\u001b[0m \u001b[0mevt\u001b[0m\u001b[0;34m.\u001b[0m\u001b[0mwait\u001b[0m\u001b[0;34m(\u001b[0m\u001b[0mself\u001b[0m\u001b[0;34m.\u001b[0m\u001b[0mflush_timeout\u001b[0m\u001b[0;34m)\u001b[0m\u001b[0;34m:\u001b[0m\u001b[0;34m\u001b[0m\u001b[0;34m\u001b[0m\u001b[0m\n\u001b[0m\u001b[1;32m    457\u001b[0m                     \u001b[0;31m# write directly to __stderr__ instead of warning because\u001b[0m\u001b[0;34m\u001b[0m\u001b[0;34m\u001b[0m\u001b[0;34m\u001b[0m\u001b[0m\n\u001b[1;32m    458\u001b[0m                     \u001b[0;31m# if this is happening sys.stderr may be the problem.\u001b[0m\u001b[0;34m\u001b[0m\u001b[0;34m\u001b[0m\u001b[0;34m\u001b[0m\u001b[0m\n",
      "\u001b[0;32m/opt/conda/lib/python3.9/threading.py\u001b[0m in \u001b[0;36mwait\u001b[0;34m(self, timeout)\u001b[0m\n\u001b[1;32m    572\u001b[0m             \u001b[0msignaled\u001b[0m \u001b[0;34m=\u001b[0m \u001b[0mself\u001b[0m\u001b[0;34m.\u001b[0m\u001b[0m_flag\u001b[0m\u001b[0;34m\u001b[0m\u001b[0;34m\u001b[0m\u001b[0m\n\u001b[1;32m    573\u001b[0m             \u001b[0;32mif\u001b[0m \u001b[0;32mnot\u001b[0m \u001b[0msignaled\u001b[0m\u001b[0;34m:\u001b[0m\u001b[0;34m\u001b[0m\u001b[0;34m\u001b[0m\u001b[0m\n\u001b[0;32m--> 574\u001b[0;31m                 \u001b[0msignaled\u001b[0m \u001b[0;34m=\u001b[0m \u001b[0mself\u001b[0m\u001b[0;34m.\u001b[0m\u001b[0m_cond\u001b[0m\u001b[0;34m.\u001b[0m\u001b[0mwait\u001b[0m\u001b[0;34m(\u001b[0m\u001b[0mtimeout\u001b[0m\u001b[0;34m)\u001b[0m\u001b[0;34m\u001b[0m\u001b[0;34m\u001b[0m\u001b[0m\n\u001b[0m\u001b[1;32m    575\u001b[0m             \u001b[0;32mreturn\u001b[0m \u001b[0msignaled\u001b[0m\u001b[0;34m\u001b[0m\u001b[0;34m\u001b[0m\u001b[0m\n\u001b[1;32m    576\u001b[0m \u001b[0;34m\u001b[0m\u001b[0m\n",
      "\u001b[0;32m/opt/conda/lib/python3.9/threading.py\u001b[0m in \u001b[0;36mwait\u001b[0;34m(self, timeout)\u001b[0m\n\u001b[1;32m    314\u001b[0m             \u001b[0;32melse\u001b[0m\u001b[0;34m:\u001b[0m\u001b[0;34m\u001b[0m\u001b[0;34m\u001b[0m\u001b[0m\n\u001b[1;32m    315\u001b[0m                 \u001b[0;32mif\u001b[0m \u001b[0mtimeout\u001b[0m \u001b[0;34m>\u001b[0m \u001b[0;36m0\u001b[0m\u001b[0;34m:\u001b[0m\u001b[0;34m\u001b[0m\u001b[0;34m\u001b[0m\u001b[0m\n\u001b[0;32m--> 316\u001b[0;31m                     \u001b[0mgotit\u001b[0m \u001b[0;34m=\u001b[0m \u001b[0mwaiter\u001b[0m\u001b[0;34m.\u001b[0m\u001b[0macquire\u001b[0m\u001b[0;34m(\u001b[0m\u001b[0;32mTrue\u001b[0m\u001b[0;34m,\u001b[0m \u001b[0mtimeout\u001b[0m\u001b[0;34m)\u001b[0m\u001b[0;34m\u001b[0m\u001b[0;34m\u001b[0m\u001b[0m\n\u001b[0m\u001b[1;32m    317\u001b[0m                 \u001b[0;32melse\u001b[0m\u001b[0;34m:\u001b[0m\u001b[0;34m\u001b[0m\u001b[0;34m\u001b[0m\u001b[0m\n\u001b[1;32m    318\u001b[0m                     \u001b[0mgotit\u001b[0m \u001b[0;34m=\u001b[0m \u001b[0mwaiter\u001b[0m\u001b[0;34m.\u001b[0m\u001b[0macquire\u001b[0m\u001b[0;34m(\u001b[0m\u001b[0;32mFalse\u001b[0m\u001b[0;34m)\u001b[0m\u001b[0;34m\u001b[0m\u001b[0;34m\u001b[0m\u001b[0m\n",
      "\u001b[0;31mKeyboardInterrupt\u001b[0m: "
     ]
    }
   ],
   "source": [
    "model=keras.Sequential([\n",
    "    keras.layers.Dense(100,input_shape=[23], activation='relu'),\n",
    "    keras.layers.Dropout(0.2),\n",
    "    keras.layers.Dense(200, input_shape=[10], activation='relu'),\n",
    "    keras.layers.Dropout(0.2),\n",
    "    keras.layers.Dense(1,activation=\"sigmoid\")\n",
    "])\n",
    "model.compile(loss='binary_crossentropy', optimizer='adam',metrics=['accuracy'])\n",
    "model.fit(X_train2, y_train2, epochs=30, batch_size=4)"
   ]
  },
  {
   "cell_type": "code",
   "execution_count": 76,
   "id": "31080b3f",
   "metadata": {},
   "outputs": [
    {
     "name": "stdout",
     "output_type": "stream",
     "text": [
      "76/76 [==============================] - 0s 1ms/step\n"
     ]
    }
   ],
   "source": [
    "ypred_ann=model.predict(X_test2).flatten()\n",
    "ypred_ann = np.round(ypred_ann)"
   ]
  },
  {
   "cell_type": "code",
   "execution_count": 77,
   "id": "bba5186e",
   "metadata": {},
   "outputs": [
    {
     "data": {
      "text/html": [
       "<div>\n",
       "<style scoped>\n",
       "    .dataframe tbody tr th:only-of-type {\n",
       "        vertical-align: middle;\n",
       "    }\n",
       "\n",
       "    .dataframe tbody tr th {\n",
       "        vertical-align: top;\n",
       "    }\n",
       "\n",
       "    .dataframe thead th {\n",
       "        text-align: right;\n",
       "    }\n",
       "</style>\n",
       "<table border=\"1\" class=\"dataframe\">\n",
       "  <thead>\n",
       "    <tr style=\"text-align: right;\">\n",
       "      <th></th>\n",
       "      <th>Pred 0</th>\n",
       "      <th>Pred 1</th>\n",
       "    </tr>\n",
       "  </thead>\n",
       "  <tbody>\n",
       "    <tr>\n",
       "      <th>True 0</th>\n",
       "      <td>TN = 1075 (TNR = 88.40%)</td>\n",
       "      <td>FP = 141 (FPR = 11.60%)</td>\n",
       "    </tr>\n",
       "    <tr>\n",
       "      <th>True 1</th>\n",
       "      <td>FN = 28 (FNR = 2.30%)</td>\n",
       "      <td>TP = 1187 (TPR = 97.70%)</td>\n",
       "    </tr>\n",
       "  </tbody>\n",
       "</table>\n",
       "</div>"
      ],
      "text/plain": [
       "                          Pred 0                    Pred 1\n",
       "True 0  TN = 1075 (TNR = 88.40%)   FP = 141 (FPR = 11.60%)\n",
       "True 1     FN = 28 (FNR = 2.30%)  TP = 1187 (TPR = 97.70%)"
      ]
     },
     "execution_count": 77,
     "metadata": {},
     "output_type": "execute_result"
    }
   ],
   "source": [
    "conf_matrix(y_test2, ypred_ann)"
   ]
  },
  {
   "cell_type": "code",
   "execution_count": null,
   "id": "2c95454d",
   "metadata": {},
   "outputs": [],
   "source": []
>>>>>>> d494279b2f085a2815e0584c09f2d1d5066b4fc3
  }
 ],
 "metadata": {
  "kernelspec": {
   "display_name": "Python 3 (ipykernel)",
   "language": "python",
   "name": "python3"
  },
  "language_info": {
   "codemirror_mode": {
    "name": "ipython",
    "version": 3
   },
   "file_extension": ".py",
   "mimetype": "text/x-python",
   "name": "python",
   "nbconvert_exporter": "python",
   "pygments_lexer": "ipython3",
   "version": "3.9.5"
  }
 },
 "nbformat": 4,
 "nbformat_minor": 5
}
