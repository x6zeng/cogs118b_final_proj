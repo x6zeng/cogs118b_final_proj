{
 "cells": [
  {
   "cell_type": "code",
   "execution_count": 86,
   "id": "556c81a4",
   "metadata": {},
   "outputs": [],
   "source": [
    "import numpy as np\n",
    "import pandas as pd\n",
    "import os\n",
    "import math\n",
    "from sklearn.pipeline import Pipeline\n",
    "from sklearn.impute import SimpleImputer\n",
    "from sklearn.preprocessing import StandardScaler\n",
    "from sklearn.preprocessing import OneHotEncoder\n",
    "from sklearn.ensemble import RandomForestClassifier\n",
    "from sklearn.compose import ColumnTransformer\n",
    "from sklearn.linear_model import LogisticRegression\n",
    "from sklearn.model_selection import train_test_split\n",
    "from sklearn.decomposition import PCA\n",
    "import matplotlib.pyplot as plt"
   ]
  },
  {
   "cell_type": "code",
   "execution_count": 87,
   "id": "8e3e37bc",
   "metadata": {},
   "outputs": [],
   "source": [
    "data = pd.read_csv('healthcare-dataset-stroke-data.csv')"
   ]
  },
  {
   "cell_type": "code",
   "execution_count": 88,
   "id": "d2da932f",
   "metadata": {},
   "outputs": [
    {
     "data": {
      "text/html": [
       "<div>\n",
       "<style scoped>\n",
       "    .dataframe tbody tr th:only-of-type {\n",
       "        vertical-align: middle;\n",
       "    }\n",
       "\n",
       "    .dataframe tbody tr th {\n",
       "        vertical-align: top;\n",
       "    }\n",
       "\n",
       "    .dataframe thead th {\n",
       "        text-align: right;\n",
       "    }\n",
       "</style>\n",
       "<table border=\"1\" class=\"dataframe\">\n",
       "  <thead>\n",
       "    <tr style=\"text-align: right;\">\n",
       "      <th></th>\n",
       "      <th>id</th>\n",
       "      <th>gender</th>\n",
       "      <th>age</th>\n",
       "      <th>hypertension</th>\n",
       "      <th>heart_disease</th>\n",
       "      <th>ever_married</th>\n",
       "      <th>work_type</th>\n",
       "      <th>Residence_type</th>\n",
       "      <th>avg_glucose_level</th>\n",
       "      <th>bmi</th>\n",
       "      <th>smoking_status</th>\n",
       "      <th>stroke</th>\n",
       "    </tr>\n",
       "  </thead>\n",
       "  <tbody>\n",
       "    <tr>\n",
       "      <th>0</th>\n",
       "      <td>9046</td>\n",
       "      <td>Male</td>\n",
       "      <td>67.0</td>\n",
       "      <td>0</td>\n",
       "      <td>1</td>\n",
       "      <td>Yes</td>\n",
       "      <td>Private</td>\n",
       "      <td>Urban</td>\n",
       "      <td>228.69</td>\n",
       "      <td>36.6</td>\n",
       "      <td>formerly smoked</td>\n",
       "      <td>1</td>\n",
       "    </tr>\n",
       "    <tr>\n",
       "      <th>1</th>\n",
       "      <td>51676</td>\n",
       "      <td>Female</td>\n",
       "      <td>61.0</td>\n",
       "      <td>0</td>\n",
       "      <td>0</td>\n",
       "      <td>Yes</td>\n",
       "      <td>Self-employed</td>\n",
       "      <td>Rural</td>\n",
       "      <td>202.21</td>\n",
       "      <td>NaN</td>\n",
       "      <td>never smoked</td>\n",
       "      <td>1</td>\n",
       "    </tr>\n",
       "    <tr>\n",
       "      <th>2</th>\n",
       "      <td>31112</td>\n",
       "      <td>Male</td>\n",
       "      <td>80.0</td>\n",
       "      <td>0</td>\n",
       "      <td>1</td>\n",
       "      <td>Yes</td>\n",
       "      <td>Private</td>\n",
       "      <td>Rural</td>\n",
       "      <td>105.92</td>\n",
       "      <td>32.5</td>\n",
       "      <td>never smoked</td>\n",
       "      <td>1</td>\n",
       "    </tr>\n",
       "    <tr>\n",
       "      <th>3</th>\n",
       "      <td>60182</td>\n",
       "      <td>Female</td>\n",
       "      <td>49.0</td>\n",
       "      <td>0</td>\n",
       "      <td>0</td>\n",
       "      <td>Yes</td>\n",
       "      <td>Private</td>\n",
       "      <td>Urban</td>\n",
       "      <td>171.23</td>\n",
       "      <td>34.4</td>\n",
       "      <td>smokes</td>\n",
       "      <td>1</td>\n",
       "    </tr>\n",
       "    <tr>\n",
       "      <th>4</th>\n",
       "      <td>1665</td>\n",
       "      <td>Female</td>\n",
       "      <td>79.0</td>\n",
       "      <td>1</td>\n",
       "      <td>0</td>\n",
       "      <td>Yes</td>\n",
       "      <td>Self-employed</td>\n",
       "      <td>Rural</td>\n",
       "      <td>174.12</td>\n",
       "      <td>24.0</td>\n",
       "      <td>never smoked</td>\n",
       "      <td>1</td>\n",
       "    </tr>\n",
       "    <tr>\n",
       "      <th>...</th>\n",
       "      <td>...</td>\n",
       "      <td>...</td>\n",
       "      <td>...</td>\n",
       "      <td>...</td>\n",
       "      <td>...</td>\n",
       "      <td>...</td>\n",
       "      <td>...</td>\n",
       "      <td>...</td>\n",
       "      <td>...</td>\n",
       "      <td>...</td>\n",
       "      <td>...</td>\n",
       "      <td>...</td>\n",
       "    </tr>\n",
       "    <tr>\n",
       "      <th>5105</th>\n",
       "      <td>18234</td>\n",
       "      <td>Female</td>\n",
       "      <td>80.0</td>\n",
       "      <td>1</td>\n",
       "      <td>0</td>\n",
       "      <td>Yes</td>\n",
       "      <td>Private</td>\n",
       "      <td>Urban</td>\n",
       "      <td>83.75</td>\n",
       "      <td>NaN</td>\n",
       "      <td>never smoked</td>\n",
       "      <td>0</td>\n",
       "    </tr>\n",
       "    <tr>\n",
       "      <th>5106</th>\n",
       "      <td>44873</td>\n",
       "      <td>Female</td>\n",
       "      <td>81.0</td>\n",
       "      <td>0</td>\n",
       "      <td>0</td>\n",
       "      <td>Yes</td>\n",
       "      <td>Self-employed</td>\n",
       "      <td>Urban</td>\n",
       "      <td>125.20</td>\n",
       "      <td>40.0</td>\n",
       "      <td>never smoked</td>\n",
       "      <td>0</td>\n",
       "    </tr>\n",
       "    <tr>\n",
       "      <th>5107</th>\n",
       "      <td>19723</td>\n",
       "      <td>Female</td>\n",
       "      <td>35.0</td>\n",
       "      <td>0</td>\n",
       "      <td>0</td>\n",
       "      <td>Yes</td>\n",
       "      <td>Self-employed</td>\n",
       "      <td>Rural</td>\n",
       "      <td>82.99</td>\n",
       "      <td>30.6</td>\n",
       "      <td>never smoked</td>\n",
       "      <td>0</td>\n",
       "    </tr>\n",
       "    <tr>\n",
       "      <th>5108</th>\n",
       "      <td>37544</td>\n",
       "      <td>Male</td>\n",
       "      <td>51.0</td>\n",
       "      <td>0</td>\n",
       "      <td>0</td>\n",
       "      <td>Yes</td>\n",
       "      <td>Private</td>\n",
       "      <td>Rural</td>\n",
       "      <td>166.29</td>\n",
       "      <td>25.6</td>\n",
       "      <td>formerly smoked</td>\n",
       "      <td>0</td>\n",
       "    </tr>\n",
       "    <tr>\n",
       "      <th>5109</th>\n",
       "      <td>44679</td>\n",
       "      <td>Female</td>\n",
       "      <td>44.0</td>\n",
       "      <td>0</td>\n",
       "      <td>0</td>\n",
       "      <td>Yes</td>\n",
       "      <td>Govt_job</td>\n",
       "      <td>Urban</td>\n",
       "      <td>85.28</td>\n",
       "      <td>26.2</td>\n",
       "      <td>Unknown</td>\n",
       "      <td>0</td>\n",
       "    </tr>\n",
       "  </tbody>\n",
       "</table>\n",
       "<p>5110 rows × 12 columns</p>\n",
       "</div>"
      ],
      "text/plain": [
       "         id  gender   age  hypertension  heart_disease ever_married  \\\n",
       "0      9046    Male  67.0             0              1          Yes   \n",
       "1     51676  Female  61.0             0              0          Yes   \n",
       "2     31112    Male  80.0             0              1          Yes   \n",
       "3     60182  Female  49.0             0              0          Yes   \n",
       "4      1665  Female  79.0             1              0          Yes   \n",
       "...     ...     ...   ...           ...            ...          ...   \n",
       "5105  18234  Female  80.0             1              0          Yes   \n",
       "5106  44873  Female  81.0             0              0          Yes   \n",
       "5107  19723  Female  35.0             0              0          Yes   \n",
       "5108  37544    Male  51.0             0              0          Yes   \n",
       "5109  44679  Female  44.0             0              0          Yes   \n",
       "\n",
       "          work_type Residence_type  avg_glucose_level   bmi   smoking_status  \\\n",
       "0           Private          Urban             228.69  36.6  formerly smoked   \n",
       "1     Self-employed          Rural             202.21   NaN     never smoked   \n",
       "2           Private          Rural             105.92  32.5     never smoked   \n",
       "3           Private          Urban             171.23  34.4           smokes   \n",
       "4     Self-employed          Rural             174.12  24.0     never smoked   \n",
       "...             ...            ...                ...   ...              ...   \n",
       "5105        Private          Urban              83.75   NaN     never smoked   \n",
       "5106  Self-employed          Urban             125.20  40.0     never smoked   \n",
       "5107  Self-employed          Rural              82.99  30.6     never smoked   \n",
       "5108        Private          Rural             166.29  25.6  formerly smoked   \n",
       "5109       Govt_job          Urban              85.28  26.2          Unknown   \n",
       "\n",
       "      stroke  \n",
       "0          1  \n",
       "1          1  \n",
       "2          1  \n",
       "3          1  \n",
       "4          1  \n",
       "...      ...  \n",
       "5105       0  \n",
       "5106       0  \n",
       "5107       0  \n",
       "5108       0  \n",
       "5109       0  \n",
       "\n",
       "[5110 rows x 12 columns]"
      ]
     },
     "execution_count": 88,
     "metadata": {},
     "output_type": "execute_result"
    }
   ],
   "source": [
    "data"
   ]
  },
  {
   "cell_type": "markdown",
   "id": "d7e4ecaa",
   "metadata": {},
   "source": [
    "### EDA"
   ]
  },
  {
   "cell_type": "code",
   "execution_count": 89,
   "id": "2455a5ca",
   "metadata": {},
   "outputs": [
    {
     "data": {
      "image/png": "[encoded data removed]",
      "text/plain": [
       "<Figure size 432x288 with 1 Axes>"
      ]
     },
     "metadata": {},
     "output_type": "display_data"
    }
   ],
   "source": [
    "data.gender.value_counts(normalize=True)\n",
    "y = np.array([2994, 2115, 1])\n",
    "mylabels = [\"Female 58%\", \"Male 41%\", \"Other 0.01%\"]\n",
    "plt.pie(y, labels = mylabels, explode=[0.01, 0.01, 0.01])\n",
    "plt.title(\"Gender distribution of the patients\")\n",
    "plt.show() "
   ]
  },
  {
   "cell_type": "code",
   "execution_count": null,
   "id": "f9151d82",
   "metadata": {},
   "outputs": [],
   "source": []
  },
  {
   "cell_type": "code",
   "execution_count": 90,
   "id": "35852431",
   "metadata": {},
   "outputs": [
    {
     "data": {
      "image/png": "[encoded data removed]",
      "text/plain": [
       "<Figure size 432x288 with 1 Axes>"
      ]
     },
     "metadata": {
      "needs_background": "light"
     },
     "output_type": "display_data"
    }
   ],
   "source": [
    "plt.hist(data.age, rwidth=0.8, density=False)\n",
    "plt.title(\"Age distribution of the patients\")\n",
    "plt.show()"
   ]
  },
  {
   "cell_type": "code",
   "execution_count": 91,
   "id": "84ac435c",
   "metadata": {},
   "outputs": [
    {
     "data": {
      "text/plain": [
       "0    0.902544\n",
       "1    0.097456\n",
       "Name: hypertension, dtype: float64"
      ]
     },
     "execution_count": 91,
     "metadata": {},
     "output_type": "execute_result"
    }
   ],
   "source": [
    "data.hypertension.value_counts(normalize=True)"
   ]
  },
  {
   "cell_type": "code",
   "execution_count": 92,
   "id": "99a41375",
   "metadata": {},
   "outputs": [
    {
     "data": {
      "image/png": "[encoded data removed]",
      "text/plain": [
       "<Figure size 432x288 with 1 Axes>"
      ]
     },
     "metadata": {},
     "output_type": "display_data"
    }
   ],
   "source": [
    "y = np.array([4612, 498])\n",
    "mylabels = [\"Do not have Hypertension 90%\", \"Have Hypertension 10%\"]\n",
    "plt.pie(y, labels = mylabels, explode=[0.01, 0.01])\n",
    "plt.title(\"Hypertension distribution of the patients\")\n",
    "plt.show() "
   ]
  },
  {
   "cell_type": "code",
   "execution_count": 93,
   "id": "8316bf7a",
   "metadata": {},
   "outputs": [
    {
     "data": {
      "text/plain": [
       "0    0.945988\n",
       "1    0.054012\n",
       "Name: heart_disease, dtype: float64"
      ]
     },
     "execution_count": 93,
     "metadata": {},
     "output_type": "execute_result"
    }
   ],
   "source": [
    "data.heart_disease.value_counts(normalize=True)"
   ]
  },
  {
   "cell_type": "code",
   "execution_count": 94,
   "id": "2f51b70f",
   "metadata": {},
   "outputs": [
    {
     "data": {
      "image/png": "[encoded data removed]",
      "text/plain": [
       "<Figure size 432x288 with 1 Axes>"
      ]
     },
     "metadata": {},
     "output_type": "display_data"
    }
   ],
   "source": [
    "y = np.array([4834, 276])\n",
    "mylabels = [\"Do not have heart disease 94.59%\", \"Have heart disease 5.4%\"]\n",
    "plt.pie(y, labels = mylabels, explode=[0.01, 0.01])\n",
    "plt.title(\"Heart Disease distribution of the patients\")\n",
    "plt.show() "
   ]
  },
  {
   "cell_type": "code",
   "execution_count": 95,
   "id": "0048afb5",
   "metadata": {},
   "outputs": [
    {
     "data": {
      "text/plain": [
       "Yes    3353\n",
       "No     1757\n",
       "Name: ever_married, dtype: int64"
      ]
     },
     "execution_count": 95,
     "metadata": {},
     "output_type": "execute_result"
    }
   ],
   "source": [
    "data.ever_married.value_counts(dropna=False)"
   ]
  },
  {
   "cell_type": "code",
   "execution_count": 96,
   "id": "b5c06947",
   "metadata": {},
   "outputs": [
    {
     "data": {
      "text/plain": [
       "Private          2925\n",
       "Self-employed     819\n",
       "children          687\n",
       "Govt_job          657\n",
       "Never_worked       22\n",
       "Name: work_type, dtype: int64"
      ]
     },
     "execution_count": 96,
     "metadata": {},
     "output_type": "execute_result"
    }
   ],
   "source": [
    "data.work_type.value_counts(dropna=False)"
   ]
  },
  {
   "cell_type": "code",
   "execution_count": 97,
   "id": "a6499cdb",
   "metadata": {},
   "outputs": [
    {
     "data": {
      "text/plain": [
       "Urban    2596\n",
       "Rural    2514\n",
       "Name: Residence_type, dtype: int64"
      ]
     },
     "execution_count": 97,
     "metadata": {},
     "output_type": "execute_result"
    }
   ],
   "source": [
    "data.Residence_type.value_counts(dropna=False)"
   ]
  },
  {
   "cell_type": "code",
   "execution_count": 98,
   "id": "0b2b2505",
   "metadata": {},
   "outputs": [
    {
     "data": {
      "text/plain": [
       "<AxesSubplot:>"
      ]
     },
     "execution_count": 98,
     "metadata": {},
     "output_type": "execute_result"
    },
    {
     "data": {
      "image/png": "[encoded data removed]",
      "text/plain": [
       "<Figure size 432x288 with 1 Axes>"
      ]
     },
     "metadata": {
      "needs_background": "light"
     },
     "output_type": "display_data"
    }
   ],
   "source": [
    "data.avg_glucose_level.hist()"
   ]
  },
  {
   "cell_type": "code",
   "execution_count": 99,
   "id": "e9242e6f",
   "metadata": {},
   "outputs": [
    {
     "data": {
      "text/plain": [
       "<AxesSubplot:>"
      ]
     },
     "execution_count": 99,
     "metadata": {},
     "output_type": "execute_result"
    },
    {
     "data": {
      "image/png": "[encoded data removed]",
      "text/plain": [
       "<Figure size 432x288 with 1 Axes>"
      ]
     },
     "metadata": {
      "needs_background": "light"
     },
     "output_type": "display_data"
    }
   ],
   "source": [
    "data.bmi.hist()"
   ]
  },
  {
   "cell_type": "code",
   "execution_count": 100,
   "id": "6cc28ba1",
   "metadata": {},
   "outputs": [
    {
     "data": {
      "text/plain": [
       "never smoked       1892\n",
       "Unknown            1544\n",
       "formerly smoked     885\n",
       "smokes              789\n",
       "Name: smoking_status, dtype: int64"
      ]
     },
     "execution_count": 100,
     "metadata": {},
     "output_type": "execute_result"
    }
   ],
   "source": [
    "data.smoking_status.value_counts(dropna=False)"
   ]
  },
  {
   "cell_type": "code",
   "execution_count": 101,
   "id": "02f52271",
   "metadata": {},
   "outputs": [
    {
     "data": {
      "text/plain": [
       "0    4861\n",
       "1     249\n",
       "Name: stroke, dtype: int64"
      ]
     },
     "execution_count": 101,
     "metadata": {},
     "output_type": "execute_result"
    }
   ],
   "source": [
    "data.stroke.value_counts(dropna=False)"
   ]
  },
  {
   "cell_type": "code",
   "execution_count": 102,
   "id": "276a8af6",
   "metadata": {},
   "outputs": [
    {
     "data": {
      "text/html": [
       "<style type=\"text/css\">\n",
       "#T_5de39_row0_col0, #T_5de39_row1_col1, #T_5de39_row2_col2, #T_5de39_row3_col3, #T_5de39_row4_col4, #T_5de39_row5_col5, #T_5de39_row6_col6 {\n",
       "  background-color: #b40426;\n",
       "  color: #f1f1f1;\n",
       "}\n",
       "#T_5de39_row0_col1, #T_5de39_row0_col2, #T_5de39_row0_col3, #T_5de39_row0_col4, #T_5de39_row0_col5, #T_5de39_row0_col6, #T_5de39_row3_col0, #T_5de39_row4_col0 {\n",
       "  background-color: #3b4cc0;\n",
       "  color: #f1f1f1;\n",
       "}\n",
       "#T_5de39_row1_col0, #T_5de39_row2_col0, #T_5de39_row5_col0, #T_5de39_row6_col0 {\n",
       "  background-color: #3c4ec2;\n",
       "  color: #f1f1f1;\n",
       "}\n",
       "#T_5de39_row1_col2, #T_5de39_row2_col1 {\n",
       "  background-color: #96b7ff;\n",
       "  color: #000000;\n",
       "}\n",
       "#T_5de39_row1_col3 {\n",
       "  background-color: #92b4fe;\n",
       "  color: #000000;\n",
       "}\n",
       "#T_5de39_row1_col4, #T_5de39_row4_col1 {\n",
       "  background-color: #88abfd;\n",
       "  color: #000000;\n",
       "}\n",
       "#T_5de39_row1_col5, #T_5de39_row5_col1 {\n",
       "  background-color: #a9c6fd;\n",
       "  color: #000000;\n",
       "}\n",
       "#T_5de39_row1_col6 {\n",
       "  background-color: #89acfd;\n",
       "  color: #000000;\n",
       "}\n",
       "#T_5de39_row2_col3 {\n",
       "  background-color: #5d7ce6;\n",
       "  color: #f1f1f1;\n",
       "}\n",
       "#T_5de39_row2_col4, #T_5de39_row4_col5, #T_5de39_row5_col4 {\n",
       "  background-color: #7295f4;\n",
       "  color: #f1f1f1;\n",
       "}\n",
       "#T_5de39_row2_col5, #T_5de39_row5_col2 {\n",
       "  background-color: #6f92f3;\n",
       "  color: #f1f1f1;\n",
       "}\n",
       "#T_5de39_row2_col6, #T_5de39_row6_col2 {\n",
       "  background-color: #6180e9;\n",
       "  color: #f1f1f1;\n",
       "}\n",
       "#T_5de39_row3_col1 {\n",
       "  background-color: #90b2fe;\n",
       "  color: #000000;\n",
       "}\n",
       "#T_5de39_row3_col2 {\n",
       "  background-color: #5a78e4;\n",
       "  color: #f1f1f1;\n",
       "}\n",
       "#T_5de39_row3_col4, #T_5de39_row4_col3 {\n",
       "  background-color: #6e90f2;\n",
       "  color: #f1f1f1;\n",
       "}\n",
       "#T_5de39_row3_col5, #T_5de39_row5_col6 {\n",
       "  background-color: #455cce;\n",
       "  color: #f1f1f1;\n",
       "}\n",
       "#T_5de39_row3_col6, #T_5de39_row6_col4 {\n",
       "  background-color: #6384eb;\n",
       "  color: #f1f1f1;\n",
       "}\n",
       "#T_5de39_row4_col2 {\n",
       "  background-color: #7093f3;\n",
       "  color: #f1f1f1;\n",
       "}\n",
       "#T_5de39_row4_col6 {\n",
       "  background-color: #6282ea;\n",
       "  color: #f1f1f1;\n",
       "}\n",
       "#T_5de39_row5_col3, #T_5de39_row6_col5 {\n",
       "  background-color: #465ecf;\n",
       "  color: #f1f1f1;\n",
       "}\n",
       "#T_5de39_row6_col1 {\n",
       "  background-color: #8badfd;\n",
       "  color: #000000;\n",
       "}\n",
       "#T_5de39_row6_col3 {\n",
       "  background-color: #6485ec;\n",
       "  color: #f1f1f1;\n",
       "}\n",
       "</style>\n",
       "<table id=\"T_5de39\">\n",
       "  <thead>\n",
       "    <tr>\n",
       "      <th class=\"blank level0\" >&nbsp;</th>\n",
       "      <th id=\"T_5de39_level0_col0\" class=\"col_heading level0 col0\" >id</th>\n",
       "      <th id=\"T_5de39_level0_col1\" class=\"col_heading level0 col1\" >age</th>\n",
       "      <th id=\"T_5de39_level0_col2\" class=\"col_heading level0 col2\" >hypertension</th>\n",
       "      <th id=\"T_5de39_level0_col3\" class=\"col_heading level0 col3\" >heart_disease</th>\n",
       "      <th id=\"T_5de39_level0_col4\" class=\"col_heading level0 col4\" >avg_glucose_level</th>\n",
       "      <th id=\"T_5de39_level0_col5\" class=\"col_heading level0 col5\" >bmi</th>\n",
       "      <th id=\"T_5de39_level0_col6\" class=\"col_heading level0 col6\" >stroke</th>\n",
       "    </tr>\n",
       "  </thead>\n",
       "  <tbody>\n",
       "    <tr>\n",
       "      <th id=\"T_5de39_level0_row0\" class=\"row_heading level0 row0\" >id</th>\n",
       "      <td id=\"T_5de39_row0_col0\" class=\"data row0 col0\" >1.000000</td>\n",
       "      <td id=\"T_5de39_row0_col1\" class=\"data row0 col1\" >0.003538</td>\n",
       "      <td id=\"T_5de39_row0_col2\" class=\"data row0 col2\" >0.003550</td>\n",
       "      <td id=\"T_5de39_row0_col3\" class=\"data row0 col3\" >-0.001296</td>\n",
       "      <td id=\"T_5de39_row0_col4\" class=\"data row0 col4\" >0.001092</td>\n",
       "      <td id=\"T_5de39_row0_col5\" class=\"data row0 col5\" >0.003084</td>\n",
       "      <td id=\"T_5de39_row0_col6\" class=\"data row0 col6\" >0.006388</td>\n",
       "    </tr>\n",
       "    <tr>\n",
       "      <th id=\"T_5de39_level0_row1\" class=\"row_heading level0 row1\" >age</th>\n",
       "      <td id=\"T_5de39_row1_col0\" class=\"data row1 col0\" >0.003538</td>\n",
       "      <td id=\"T_5de39_row1_col1\" class=\"data row1 col1\" >1.000000</td>\n",
       "      <td id=\"T_5de39_row1_col2\" class=\"data row1 col2\" >0.276398</td>\n",
       "      <td id=\"T_5de39_row1_col3\" class=\"data row1 col3\" >0.263796</td>\n",
       "      <td id=\"T_5de39_row1_col4\" class=\"data row1 col4\" >0.238171</td>\n",
       "      <td id=\"T_5de39_row1_col5\" class=\"data row1 col5\" >0.333398</td>\n",
       "      <td id=\"T_5de39_row1_col6\" class=\"data row1 col6\" >0.245257</td>\n",
       "    </tr>\n",
       "    <tr>\n",
       "      <th id=\"T_5de39_level0_row2\" class=\"row_heading level0 row2\" >hypertension</th>\n",
       "      <td id=\"T_5de39_row2_col0\" class=\"data row2 col0\" >0.003550</td>\n",
       "      <td id=\"T_5de39_row2_col1\" class=\"data row2 col1\" >0.276398</td>\n",
       "      <td id=\"T_5de39_row2_col2\" class=\"data row2 col2\" >1.000000</td>\n",
       "      <td id=\"T_5de39_row2_col3\" class=\"data row2 col3\" >0.108306</td>\n",
       "      <td id=\"T_5de39_row2_col4\" class=\"data row2 col4\" >0.174474</td>\n",
       "      <td id=\"T_5de39_row2_col5\" class=\"data row2 col5\" >0.167811</td>\n",
       "      <td id=\"T_5de39_row2_col6\" class=\"data row2 col6\" >0.127904</td>\n",
       "    </tr>\n",
       "    <tr>\n",
       "      <th id=\"T_5de39_level0_row3\" class=\"row_heading level0 row3\" >heart_disease</th>\n",
       "      <td id=\"T_5de39_row3_col0\" class=\"data row3 col0\" >-0.001296</td>\n",
       "      <td id=\"T_5de39_row3_col1\" class=\"data row3 col1\" >0.263796</td>\n",
       "      <td id=\"T_5de39_row3_col2\" class=\"data row3 col2\" >0.108306</td>\n",
       "      <td id=\"T_5de39_row3_col3\" class=\"data row3 col3\" >1.000000</td>\n",
       "      <td id=\"T_5de39_row3_col4\" class=\"data row3 col4\" >0.161857</td>\n",
       "      <td id=\"T_5de39_row3_col5\" class=\"data row3 col5\" >0.041357</td>\n",
       "      <td id=\"T_5de39_row3_col6\" class=\"data row3 col6\" >0.134914</td>\n",
       "    </tr>\n",
       "    <tr>\n",
       "      <th id=\"T_5de39_level0_row4\" class=\"row_heading level0 row4\" >avg_glucose_level</th>\n",
       "      <td id=\"T_5de39_row4_col0\" class=\"data row4 col0\" >0.001092</td>\n",
       "      <td id=\"T_5de39_row4_col1\" class=\"data row4 col1\" >0.238171</td>\n",
       "      <td id=\"T_5de39_row4_col2\" class=\"data row4 col2\" >0.174474</td>\n",
       "      <td id=\"T_5de39_row4_col3\" class=\"data row4 col3\" >0.161857</td>\n",
       "      <td id=\"T_5de39_row4_col4\" class=\"data row4 col4\" >1.000000</td>\n",
       "      <td id=\"T_5de39_row4_col5\" class=\"data row4 col5\" >0.175502</td>\n",
       "      <td id=\"T_5de39_row4_col6\" class=\"data row4 col6\" >0.131945</td>\n",
       "    </tr>\n",
       "    <tr>\n",
       "      <th id=\"T_5de39_level0_row5\" class=\"row_heading level0 row5\" >bmi</th>\n",
       "      <td id=\"T_5de39_row5_col0\" class=\"data row5 col0\" >0.003084</td>\n",
       "      <td id=\"T_5de39_row5_col1\" class=\"data row5 col1\" >0.333398</td>\n",
       "      <td id=\"T_5de39_row5_col2\" class=\"data row5 col2\" >0.167811</td>\n",
       "      <td id=\"T_5de39_row5_col3\" class=\"data row5 col3\" >0.041357</td>\n",
       "      <td id=\"T_5de39_row5_col4\" class=\"data row5 col4\" >0.175502</td>\n",
       "      <td id=\"T_5de39_row5_col5\" class=\"data row5 col5\" >1.000000</td>\n",
       "      <td id=\"T_5de39_row5_col6\" class=\"data row5 col6\" >0.042374</td>\n",
       "    </tr>\n",
       "    <tr>\n",
       "      <th id=\"T_5de39_level0_row6\" class=\"row_heading level0 row6\" >stroke</th>\n",
       "      <td id=\"T_5de39_row6_col0\" class=\"data row6 col0\" >0.006388</td>\n",
       "      <td id=\"T_5de39_row6_col1\" class=\"data row6 col1\" >0.245257</td>\n",
       "      <td id=\"T_5de39_row6_col2\" class=\"data row6 col2\" >0.127904</td>\n",
       "      <td id=\"T_5de39_row6_col3\" class=\"data row6 col3\" >0.134914</td>\n",
       "      <td id=\"T_5de39_row6_col4\" class=\"data row6 col4\" >0.131945</td>\n",
       "      <td id=\"T_5de39_row6_col5\" class=\"data row6 col5\" >0.042374</td>\n",
       "      <td id=\"T_5de39_row6_col6\" class=\"data row6 col6\" >1.000000</td>\n",
       "    </tr>\n",
       "  </tbody>\n",
       "</table>\n"
      ],
      "text/plain": [
       "<pandas.io.formats.style.Styler at 0x1f7724a7790>"
      ]
     },
     "execution_count": 102,
     "metadata": {},
     "output_type": "execute_result"
    }
   ],
   "source": [
    "corr = data.corr()\n",
    "corr.style.background_gradient(cmap='coolwarm')"
   ]
  },
  {
   "cell_type": "code",
   "execution_count": 103,
   "id": "1971ce73",
   "metadata": {},
   "outputs": [],
   "source": [
    "def age_transform(x):\n",
    "    if x < 20:\n",
    "        return '0-20'\n",
    "    elif x < 40:\n",
    "        return '0-40'\n",
    "    elif x < 60:\n",
    "        return '40-60'\n",
    "    elif x < 80:\n",
    "        return '60-80'\n",
    "    else:\n",
    "        return '80+'"
   ]
  },
  {
   "cell_type": "code",
   "execution_count": 104,
   "id": "8fd6ac75",
   "metadata": {},
   "outputs": [],
   "source": [
    "data['age_range'] = data['age'].apply(age_transform)"
   ]
  },
  {
   "cell_type": "code",
   "execution_count": 105,
   "id": "59075cfe",
   "metadata": {},
   "outputs": [],
   "source": [
    "df_summary_table = data.pivot_table(values=['hypertension', 'heart_disease', 'avg_glucose_level', 'bmi'], index=['age_range', 'stroke', 'gender'], aggfunc={\n",
    "    'hypertension': np.mean,\n",
    "    'heart_disease': np.mean,\n",
    "    'avg_glucose_level': np.mean,\n",
    "    'bmi': np.mean\n",
    "})"
   ]
  },
  {
   "cell_type": "code",
   "execution_count": 106,
   "id": "7833a4df",
   "metadata": {},
   "outputs": [
    {
     "data": {
      "text/html": [
       "<style type=\"text/css\">\n",
       "#T_a18b7_row0_col0, #T_a18b7_row0_col1, #T_a18b7_row0_col2, #T_a18b7_row0_col3, #T_a18b7_row1_col0, #T_a18b7_row1_col1, #T_a18b7_row1_col2, #T_a18b7_row1_col3, #T_a18b7_row2_col0, #T_a18b7_row2_col1, #T_a18b7_row2_col2, #T_a18b7_row2_col3, #T_a18b7_row3_col0, #T_a18b7_row3_col1, #T_a18b7_row3_col2, #T_a18b7_row3_col3, #T_a18b7_row4_col0, #T_a18b7_row4_col1, #T_a18b7_row4_col2, #T_a18b7_row4_col3, #T_a18b7_row5_col0, #T_a18b7_row5_col1, #T_a18b7_row5_col2, #T_a18b7_row5_col3, #T_a18b7_row6_col0, #T_a18b7_row6_col1, #T_a18b7_row6_col2, #T_a18b7_row6_col3, #T_a18b7_row7_col0, #T_a18b7_row7_col1, #T_a18b7_row7_col2, #T_a18b7_row7_col3, #T_a18b7_row8_col0, #T_a18b7_row8_col1, #T_a18b7_row8_col2, #T_a18b7_row8_col3, #T_a18b7_row9_col0, #T_a18b7_row9_col2, #T_a18b7_row9_col3, #T_a18b7_row10_col0, #T_a18b7_row10_col2, #T_a18b7_row10_col3, #T_a18b7_row11_col0, #T_a18b7_row11_col1, #T_a18b7_row11_col2, #T_a18b7_row11_col3, #T_a18b7_row12_col0, #T_a18b7_row12_col1, #T_a18b7_row12_col2, #T_a18b7_row12_col3, #T_a18b7_row13_col0, #T_a18b7_row13_col1, #T_a18b7_row13_col2, #T_a18b7_row13_col3, #T_a18b7_row14_col1, #T_a18b7_row15_col0, #T_a18b7_row15_col1, #T_a18b7_row15_col2, #T_a18b7_row15_col3, #T_a18b7_row16_col0, #T_a18b7_row16_col1, #T_a18b7_row16_col2, #T_a18b7_row16_col3, #T_a18b7_row17_col0, #T_a18b7_row17_col1, #T_a18b7_row17_col2, #T_a18b7_row18_col1, #T_a18b7_row18_col3 {\n",
       "  color: black;\n",
       "}\n",
       "#T_a18b7_row9_col1, #T_a18b7_row14_col0, #T_a18b7_row14_col2, #T_a18b7_row14_col3 {\n",
       "  color: orange;\n",
       "}\n",
       "#T_a18b7_row10_col1, #T_a18b7_row17_col3, #T_a18b7_row18_col0, #T_a18b7_row18_col2 {\n",
       "  color: red;\n",
       "}\n",
       "</style>\n",
       "<table id=\"T_a18b7\">\n",
       "  <thead>\n",
       "    <tr>\n",
       "      <th class=\"blank\" >&nbsp;</th>\n",
       "      <th class=\"blank\" >&nbsp;</th>\n",
       "      <th class=\"blank level0\" >&nbsp;</th>\n",
       "      <th id=\"T_a18b7_level0_col0\" class=\"col_heading level0 col0\" >avg_glucose_level</th>\n",
       "      <th id=\"T_a18b7_level0_col1\" class=\"col_heading level0 col1\" >bmi</th>\n",
       "      <th id=\"T_a18b7_level0_col2\" class=\"col_heading level0 col2\" >heart_disease</th>\n",
       "      <th id=\"T_a18b7_level0_col3\" class=\"col_heading level0 col3\" >hypertension</th>\n",
       "    </tr>\n",
       "    <tr>\n",
       "      <th class=\"index_name level0\" >age_range</th>\n",
       "      <th class=\"index_name level1\" >stroke</th>\n",
       "      <th class=\"index_name level2\" >gender</th>\n",
       "      <th class=\"blank col0\" >&nbsp;</th>\n",
       "      <th class=\"blank col1\" >&nbsp;</th>\n",
       "      <th class=\"blank col2\" >&nbsp;</th>\n",
       "      <th class=\"blank col3\" >&nbsp;</th>\n",
       "    </tr>\n",
       "  </thead>\n",
       "  <tbody>\n",
       "    <tr>\n",
       "      <th id=\"T_a18b7_level0_row0\" class=\"row_heading level0 row0\" rowspan=\"3\">0-20</th>\n",
       "      <th id=\"T_a18b7_level1_row0\" class=\"row_heading level1 row0\" rowspan=\"2\">0</th>\n",
       "      <th id=\"T_a18b7_level2_row0\" class=\"row_heading level2 row0\" >Female</th>\n",
       "      <td id=\"T_a18b7_row0_col0\" class=\"data row0 col0\" >93.820272</td>\n",
       "      <td id=\"T_a18b7_row0_col1\" class=\"data row0 col1\" >22.183547</td>\n",
       "      <td id=\"T_a18b7_row0_col2\" class=\"data row0 col2\" >0.000000</td>\n",
       "      <td id=\"T_a18b7_row0_col3\" class=\"data row0 col3\" >0.002092</td>\n",
       "    </tr>\n",
       "    <tr>\n",
       "      <th id=\"T_a18b7_level2_row1\" class=\"row_heading level2 row1\" >Male</th>\n",
       "      <td id=\"T_a18b7_row1_col0\" class=\"data row1 col0\" >95.247181</td>\n",
       "      <td id=\"T_a18b7_row1_col1\" class=\"data row1 col1\" >21.743579</td>\n",
       "      <td id=\"T_a18b7_row1_col2\" class=\"data row1 col2\" >0.002058</td>\n",
       "      <td id=\"T_a18b7_row1_col3\" class=\"data row1 col3\" >0.002058</td>\n",
       "    </tr>\n",
       "    <tr>\n",
       "      <th id=\"T_a18b7_level1_row2\" class=\"row_heading level1 row2\" >1</th>\n",
       "      <th id=\"T_a18b7_level2_row2\" class=\"row_heading level2 row2\" >Female</th>\n",
       "      <td id=\"T_a18b7_row2_col0\" class=\"data row2 col0\" >64.150000</td>\n",
       "      <td id=\"T_a18b7_row2_col1\" class=\"data row2 col1\" >30.900000</td>\n",
       "      <td id=\"T_a18b7_row2_col2\" class=\"data row2 col2\" >0.000000</td>\n",
       "      <td id=\"T_a18b7_row2_col3\" class=\"data row2 col3\" >0.000000</td>\n",
       "    </tr>\n",
       "    <tr>\n",
       "      <th id=\"T_a18b7_level0_row3\" class=\"row_heading level0 row3\" rowspan=\"4\">0-40</th>\n",
       "      <th id=\"T_a18b7_level1_row3\" class=\"row_heading level1 row3\" rowspan=\"3\">0</th>\n",
       "      <th id=\"T_a18b7_level2_row3\" class=\"row_heading level2 row3\" >Female</th>\n",
       "      <td id=\"T_a18b7_row3_col0\" class=\"data row3 col0\" >94.178968</td>\n",
       "      <td id=\"T_a18b7_row3_col1\" class=\"data row3 col1\" >29.687013</td>\n",
       "      <td id=\"T_a18b7_row3_col2\" class=\"data row3 col2\" >0.001274</td>\n",
       "      <td id=\"T_a18b7_row3_col3\" class=\"data row3 col3\" >0.022930</td>\n",
       "    </tr>\n",
       "    <tr>\n",
       "      <th id=\"T_a18b7_level2_row4\" class=\"row_heading level2 row4\" >Male</th>\n",
       "      <td id=\"T_a18b7_row4_col0\" class=\"data row4 col0\" >99.868301</td>\n",
       "      <td id=\"T_a18b7_row4_col1\" class=\"data row4 col1\" >30.015990</td>\n",
       "      <td id=\"T_a18b7_row4_col2\" class=\"data row4 col2\" >0.002427</td>\n",
       "      <td id=\"T_a18b7_row4_col3\" class=\"data row4 col3\" >0.038835</td>\n",
       "    </tr>\n",
       "    <tr>\n",
       "      <th id=\"T_a18b7_level2_row5\" class=\"row_heading level2 row5\" >Other</th>\n",
       "      <td id=\"T_a18b7_row5_col0\" class=\"data row5 col0\" >143.330000</td>\n",
       "      <td id=\"T_a18b7_row5_col1\" class=\"data row5 col1\" >22.400000</td>\n",
       "      <td id=\"T_a18b7_row5_col2\" class=\"data row5 col2\" >0.000000</td>\n",
       "      <td id=\"T_a18b7_row5_col3\" class=\"data row5 col3\" >0.000000</td>\n",
       "    </tr>\n",
       "    <tr>\n",
       "      <th id=\"T_a18b7_level1_row6\" class=\"row_heading level1 row6\" >1</th>\n",
       "      <th id=\"T_a18b7_level2_row6\" class=\"row_heading level2 row6\" >Female</th>\n",
       "      <td id=\"T_a18b7_row6_col0\" class=\"data row6 col0\" >83.158333</td>\n",
       "      <td id=\"T_a18b7_row6_col1\" class=\"data row6 col1\" >29.800000</td>\n",
       "      <td id=\"T_a18b7_row6_col2\" class=\"data row6 col2\" >0.000000</td>\n",
       "      <td id=\"T_a18b7_row6_col3\" class=\"data row6 col3\" >0.166667</td>\n",
       "    </tr>\n",
       "    <tr>\n",
       "      <th id=\"T_a18b7_level0_row7\" class=\"row_heading level0 row7\" rowspan=\"4\">40-60</th>\n",
       "      <th id=\"T_a18b7_level1_row7\" class=\"row_heading level1 row7\" rowspan=\"2\">0</th>\n",
       "      <th id=\"T_a18b7_level2_row7\" class=\"row_heading level2 row7\" >Female</th>\n",
       "      <td id=\"T_a18b7_row7_col0\" class=\"data row7 col0\" >105.316629</td>\n",
       "      <td id=\"T_a18b7_row7_col1\" class=\"data row7 col1\" >31.356372</td>\n",
       "      <td id=\"T_a18b7_row7_col2\" class=\"data row7 col2\" >0.022472</td>\n",
       "      <td id=\"T_a18b7_row7_col3\" class=\"data row7 col3\" >0.085393</td>\n",
       "    </tr>\n",
       "    <tr>\n",
       "      <th id=\"T_a18b7_level2_row8\" class=\"row_heading level2 row8\" >Male</th>\n",
       "      <td id=\"T_a18b7_row8_col0\" class=\"data row8 col0\" >108.103176</td>\n",
       "      <td id=\"T_a18b7_row8_col1\" class=\"data row8 col1\" >31.820990</td>\n",
       "      <td id=\"T_a18b7_row8_col2\" class=\"data row8 col2\" >0.057003</td>\n",
       "      <td id=\"T_a18b7_row8_col3\" class=\"data row8 col3\" >0.125407</td>\n",
       "    </tr>\n",
       "    <tr>\n",
       "      <th id=\"T_a18b7_level1_row9\" class=\"row_heading level1 row9\" rowspan=\"2\">1</th>\n",
       "      <th id=\"T_a18b7_level2_row9\" class=\"row_heading level2 row9\" >Female</th>\n",
       "      <td id=\"T_a18b7_row9_col0\" class=\"data row9 col0\" >125.959688</td>\n",
       "      <td id=\"T_a18b7_row9_col1\" class=\"data row9 col1\" >32.803333</td>\n",
       "      <td id=\"T_a18b7_row9_col2\" class=\"data row9 col2\" >0.062500</td>\n",
       "      <td id=\"T_a18b7_row9_col3\" class=\"data row9 col3\" >0.250000</td>\n",
       "    </tr>\n",
       "    <tr>\n",
       "      <th id=\"T_a18b7_level2_row10\" class=\"row_heading level2 row10\" >Male</th>\n",
       "      <td id=\"T_a18b7_row10_col0\" class=\"data row10 col0\" >127.197143</td>\n",
       "      <td id=\"T_a18b7_row10_col1\" class=\"data row10 col1\" >34.173913</td>\n",
       "      <td id=\"T_a18b7_row10_col2\" class=\"data row10 col2\" >0.071429</td>\n",
       "      <td id=\"T_a18b7_row10_col3\" class=\"data row10 col3\" >0.142857</td>\n",
       "    </tr>\n",
       "    <tr>\n",
       "      <th id=\"T_a18b7_level0_row11\" class=\"row_heading level0 row11\" rowspan=\"4\">60-80</th>\n",
       "      <th id=\"T_a18b7_level1_row11\" class=\"row_heading level1 row11\" rowspan=\"2\">0</th>\n",
       "      <th id=\"T_a18b7_level2_row11\" class=\"row_heading level2 row11\" >Female</th>\n",
       "      <td id=\"T_a18b7_row11_col0\" class=\"data row11 col0\" >117.014368</td>\n",
       "      <td id=\"T_a18b7_row11_col1\" class=\"data row11 col1\" >30.201207</td>\n",
       "      <td id=\"T_a18b7_row11_col2\" class=\"data row11 col2\" >0.090312</td>\n",
       "      <td id=\"T_a18b7_row11_col3\" class=\"data row11 col3\" >0.192118</td>\n",
       "    </tr>\n",
       "    <tr>\n",
       "      <th id=\"T_a18b7_level2_row12\" class=\"row_heading level2 row12\" >Male</th>\n",
       "      <td id=\"T_a18b7_row12_col0\" class=\"data row12 col0\" >122.490455</td>\n",
       "      <td id=\"T_a18b7_row12_col1\" class=\"data row12 col1\" >30.377427</td>\n",
       "      <td id=\"T_a18b7_row12_col2\" class=\"data row12 col2\" >0.190909</td>\n",
       "      <td id=\"T_a18b7_row12_col3\" class=\"data row12 col3\" >0.202273</td>\n",
       "    </tr>\n",
       "    <tr>\n",
       "      <th id=\"T_a18b7_level1_row13\" class=\"row_heading level1 row13\" rowspan=\"2\">1</th>\n",
       "      <th id=\"T_a18b7_level2_row13\" class=\"row_heading level2 row13\" >Female</th>\n",
       "      <td id=\"T_a18b7_row13_col0\" class=\"data row13 col0\" >136.928861</td>\n",
       "      <td id=\"T_a18b7_row13_col1\" class=\"data row13 col1\" >30.044444</td>\n",
       "      <td id=\"T_a18b7_row13_col2\" class=\"data row13 col2\" >0.164557</td>\n",
       "      <td id=\"T_a18b7_row13_col3\" class=\"data row13 col3\" >0.253165</td>\n",
       "    </tr>\n",
       "    <tr>\n",
       "      <th id=\"T_a18b7_level2_row14\" class=\"row_heading level2 row14\" >Male</th>\n",
       "      <td id=\"T_a18b7_row14_col0\" class=\"data row14 col0\" >145.730645</td>\n",
       "      <td id=\"T_a18b7_row14_col1\" class=\"data row14 col1\" >29.966667</td>\n",
       "      <td id=\"T_a18b7_row14_col2\" class=\"data row14 col2\" >0.290323</td>\n",
       "      <td id=\"T_a18b7_row14_col3\" class=\"data row14 col3\" >0.322581</td>\n",
       "    </tr>\n",
       "    <tr>\n",
       "      <th id=\"T_a18b7_level0_row15\" class=\"row_heading level0 row15\" rowspan=\"4\">80+</th>\n",
       "      <th id=\"T_a18b7_level1_row15\" class=\"row_heading level1 row15\" rowspan=\"2\">0</th>\n",
       "      <th id=\"T_a18b7_level2_row15\" class=\"row_heading level2 row15\" >Female</th>\n",
       "      <td id=\"T_a18b7_row15_col0\" class=\"data row15 col0\" >112.489231</td>\n",
       "      <td id=\"T_a18b7_row15_col1\" class=\"data row15 col1\" >28.503409</td>\n",
       "      <td id=\"T_a18b7_row15_col2\" class=\"data row15 col2\" >0.197802</td>\n",
       "      <td id=\"T_a18b7_row15_col3\" class=\"data row15 col3\" >0.274725</td>\n",
       "    </tr>\n",
       "    <tr>\n",
       "      <th id=\"T_a18b7_level2_row16\" class=\"row_heading level2 row16\" >Male</th>\n",
       "      <td id=\"T_a18b7_row16_col0\" class=\"data row16 col0\" >137.345273</td>\n",
       "      <td id=\"T_a18b7_row16_col1\" class=\"data row16 col1\" >28.210909</td>\n",
       "      <td id=\"T_a18b7_row16_col2\" class=\"data row16 col2\" >0.254545</td>\n",
       "      <td id=\"T_a18b7_row16_col3\" class=\"data row16 col3\" >0.218182</td>\n",
       "    </tr>\n",
       "    <tr>\n",
       "      <th id=\"T_a18b7_level1_row17\" class=\"row_heading level1 row17\" rowspan=\"2\">1</th>\n",
       "      <th id=\"T_a18b7_level2_row17\" class=\"row_heading level2 row17\" >Female</th>\n",
       "      <td id=\"T_a18b7_row17_col0\" class=\"data row17 col0\" >93.958636</td>\n",
       "      <td id=\"T_a18b7_row17_col1\" class=\"data row17 col1\" >27.114286</td>\n",
       "      <td id=\"T_a18b7_row17_col2\" class=\"data row17 col2\" >0.181818</td>\n",
       "      <td id=\"T_a18b7_row17_col3\" class=\"data row17 col3\" >0.454545</td>\n",
       "    </tr>\n",
       "    <tr>\n",
       "      <th id=\"T_a18b7_level2_row18\" class=\"row_heading level2 row18\" >Male</th>\n",
       "      <td id=\"T_a18b7_row18_col0\" class=\"data row18 col0\" >159.132778</td>\n",
       "      <td id=\"T_a18b7_row18_col1\" class=\"data row18 col1\" >28.772222</td>\n",
       "      <td id=\"T_a18b7_row18_col2\" class=\"data row18 col2\" >0.444444</td>\n",
       "      <td id=\"T_a18b7_row18_col3\" class=\"data row18 col3\" >0.166667</td>\n",
       "    </tr>\n",
       "  </tbody>\n",
       "</table>\n"
      ],
      "text/plain": [
       "<pandas.io.formats.style.Styler at 0x1f771860df0>"
      ]
     },
     "execution_count": 106,
     "metadata": {},
     "output_type": "execute_result"
    }
   ],
   "source": [
    "def color_negative_red(val):\n",
    "    if round(val, 2) == 159.13:\n",
    "        color = 'red'\n",
    "    elif round(val,2) == 34.17:\n",
    "        color = 'red'\n",
    "    elif round(val, 2) == 0.44:\n",
    "        color = 'red'\n",
    "    elif round(val, 2) == 0.45:\n",
    "        color = 'red'\n",
    "    elif round(val, 2) == 145.73:\n",
    "        color = 'orange'\n",
    "    elif round(val, 2) == 32.80:\n",
    "        color = 'orange'\n",
    "    elif round(val, 4) == 0.2903:\n",
    "        color = 'orange'\n",
    "    elif round(val, 4) == 0.3226:\n",
    "        color = 'orange'\n",
    "    else:\n",
    "        color = 'black'\n",
    "    return 'color: %s' % color\n",
    "\n",
    "s = df_summary_table.style.applymap(color_negative_red)\n",
    "s"
   ]
  },
  {
   "cell_type": "markdown",
   "id": "60c01e6f",
   "metadata": {},
   "source": [
    "### Data Preprocessing"
   ]
  },
  {
   "cell_type": "code",
   "execution_count": 107,
   "id": "a1e01649",
   "metadata": {},
   "outputs": [
    {
     "data": {
      "text/html": [
       "<div>\n",
       "<style scoped>\n",
       "    .dataframe tbody tr th:only-of-type {\n",
       "        vertical-align: middle;\n",
       "    }\n",
       "\n",
       "    .dataframe tbody tr th {\n",
       "        vertical-align: top;\n",
       "    }\n",
       "\n",
       "    .dataframe thead th {\n",
       "        text-align: right;\n",
       "    }\n",
       "</style>\n",
       "<table border=\"1\" class=\"dataframe\">\n",
       "  <thead>\n",
       "    <tr style=\"text-align: right;\">\n",
       "      <th></th>\n",
       "      <th>id</th>\n",
       "      <th>gender</th>\n",
       "      <th>age</th>\n",
       "      <th>hypertension</th>\n",
       "      <th>heart_disease</th>\n",
       "      <th>ever_married</th>\n",
       "      <th>work_type</th>\n",
       "      <th>Residence_type</th>\n",
       "      <th>avg_glucose_level</th>\n",
       "      <th>bmi</th>\n",
       "      <th>smoking_status</th>\n",
       "      <th>stroke</th>\n",
       "      <th>age_range</th>\n",
       "    </tr>\n",
       "  </thead>\n",
       "  <tbody>\n",
       "    <tr>\n",
       "      <th>0</th>\n",
       "      <td>9046</td>\n",
       "      <td>Male</td>\n",
       "      <td>67.0</td>\n",
       "      <td>0</td>\n",
       "      <td>1</td>\n",
       "      <td>Yes</td>\n",
       "      <td>Private</td>\n",
       "      <td>Urban</td>\n",
       "      <td>228.69</td>\n",
       "      <td>36.6</td>\n",
       "      <td>formerly smoked</td>\n",
       "      <td>1</td>\n",
       "      <td>60-80</td>\n",
       "    </tr>\n",
       "    <tr>\n",
       "      <th>1</th>\n",
       "      <td>51676</td>\n",
       "      <td>Female</td>\n",
       "      <td>61.0</td>\n",
       "      <td>0</td>\n",
       "      <td>0</td>\n",
       "      <td>Yes</td>\n",
       "      <td>Self-employed</td>\n",
       "      <td>Rural</td>\n",
       "      <td>202.21</td>\n",
       "      <td>NaN</td>\n",
       "      <td>never smoked</td>\n",
       "      <td>1</td>\n",
       "      <td>60-80</td>\n",
       "    </tr>\n",
       "    <tr>\n",
       "      <th>2</th>\n",
       "      <td>31112</td>\n",
       "      <td>Male</td>\n",
       "      <td>80.0</td>\n",
       "      <td>0</td>\n",
       "      <td>1</td>\n",
       "      <td>Yes</td>\n",
       "      <td>Private</td>\n",
       "      <td>Rural</td>\n",
       "      <td>105.92</td>\n",
       "      <td>32.5</td>\n",
       "      <td>never smoked</td>\n",
       "      <td>1</td>\n",
       "      <td>80+</td>\n",
       "    </tr>\n",
       "    <tr>\n",
       "      <th>3</th>\n",
       "      <td>60182</td>\n",
       "      <td>Female</td>\n",
       "      <td>49.0</td>\n",
       "      <td>0</td>\n",
       "      <td>0</td>\n",
       "      <td>Yes</td>\n",
       "      <td>Private</td>\n",
       "      <td>Urban</td>\n",
       "      <td>171.23</td>\n",
       "      <td>34.4</td>\n",
       "      <td>smokes</td>\n",
       "      <td>1</td>\n",
       "      <td>40-60</td>\n",
       "    </tr>\n",
       "    <tr>\n",
       "      <th>4</th>\n",
       "      <td>1665</td>\n",
       "      <td>Female</td>\n",
       "      <td>79.0</td>\n",
       "      <td>1</td>\n",
       "      <td>0</td>\n",
       "      <td>Yes</td>\n",
       "      <td>Self-employed</td>\n",
       "      <td>Rural</td>\n",
       "      <td>174.12</td>\n",
       "      <td>24.0</td>\n",
       "      <td>never smoked</td>\n",
       "      <td>1</td>\n",
       "      <td>60-80</td>\n",
       "    </tr>\n",
       "  </tbody>\n",
       "</table>\n",
       "</div>"
      ],
      "text/plain": [
       "      id  gender   age  hypertension  heart_disease ever_married  \\\n",
       "0   9046    Male  67.0             0              1          Yes   \n",
       "1  51676  Female  61.0             0              0          Yes   \n",
       "2  31112    Male  80.0             0              1          Yes   \n",
       "3  60182  Female  49.0             0              0          Yes   \n",
       "4   1665  Female  79.0             1              0          Yes   \n",
       "\n",
       "       work_type Residence_type  avg_glucose_level   bmi   smoking_status  \\\n",
       "0        Private          Urban             228.69  36.6  formerly smoked   \n",
       "1  Self-employed          Rural             202.21   NaN     never smoked   \n",
       "2        Private          Rural             105.92  32.5     never smoked   \n",
       "3        Private          Urban             171.23  34.4           smokes   \n",
       "4  Self-employed          Rural             174.12  24.0     never smoked   \n",
       "\n",
       "   stroke age_range  \n",
       "0       1     60-80  \n",
       "1       1     60-80  \n",
       "2       1       80+  \n",
       "3       1     40-60  \n",
       "4       1     60-80  "
      ]
     },
     "execution_count": 107,
     "metadata": {},
     "output_type": "execute_result"
    }
   ],
   "source": [
    "data.head()"
   ]
  },
  {
   "cell_type": "code",
   "execution_count": 108,
   "id": "1518446b",
   "metadata": {},
   "outputs": [],
   "source": [
    "numeric_features = [\"age\", \"avg_glucose_level\", \"bmi\"]\n",
    "\n",
    "numeric_transformer = Pipeline(\n",
    "    steps=[(\"imputer\", SimpleImputer(strategy=\"median\")),  \n",
    "           (\"scaler\", StandardScaler())] #z-score\n",
    ")\n",
    "\n",
    "categorical_features = [\"gender\", \"hypertension\", \"heart_disease\", \"ever_married\", \"work_type\", \"Residence_type\", \"smoking_status\"]\n",
    "\n",
    "categorical_transformer = OneHotEncoder(handle_unknown=\"ignore\")\n",
    "\n",
    "preprocessor = ColumnTransformer(\n",
    "    transformers=[\n",
    "        (\"num\", numeric_transformer, numeric_features),\n",
    "        (\"cat\", categorical_transformer, categorical_features),\n",
    "    ]\n",
    ")\n"
   ]
  },
  {
   "cell_type": "markdown",
   "id": "775d8c03",
   "metadata": {},
   "source": [
    "### Model Training"
   ]
  },
  {
   "cell_type": "code",
   "execution_count": 109,
   "id": "6844c5da",
   "metadata": {},
   "outputs": [],
   "source": [
    "clf = Pipeline(\n",
    "    steps=[(\"preprocessor\", preprocessor), \n",
    "           (\"classifier\", LogisticRegression())]\n",
    ")"
   ]
  },
  {
   "cell_type": "code",
   "execution_count": 110,
   "id": "57a4c496",
   "metadata": {},
   "outputs": [],
   "source": [
    "X = data.iloc[:, 1:-1]"
   ]
  },
  {
   "cell_type": "code",
   "execution_count": 111,
   "id": "05f9f18d",
   "metadata": {},
   "outputs": [],
   "source": [
    "y = data.iloc[:, -1]"
   ]
  },
  {
   "cell_type": "code",
   "execution_count": 112,
   "id": "676d0bd1",
   "metadata": {},
   "outputs": [],
   "source": [
    "X_train, X_test, y_train, y_test = train_test_split(X, y, test_size=0.2, random_state=0)"
   ]
  },
  {
   "cell_type": "code",
   "execution_count": 113,
   "id": "25569634",
   "metadata": {},
   "outputs": [
    {
     "name": "stdout",
     "output_type": "stream",
     "text": [
      "model score: 0.966\n"
     ]
    },
    {
     "name": "stderr",
     "output_type": "stream",
     "text": [
      "C:\\Users\\tony_\\anaconda3\\lib\\site-packages\\sklearn\\linear_model\\_logistic.py:763: ConvergenceWarning: lbfgs failed to converge (status=1):\n",
      "STOP: TOTAL NO. of ITERATIONS REACHED LIMIT.\n",
      "\n",
      "Increase the number of iterations (max_iter) or scale the data as shown in:\n",
      "    https://scikit-learn.org/stable/modules/preprocessing.html\n",
      "Please also refer to the documentation for alternative solver options:\n",
      "    https://scikit-learn.org/stable/modules/linear_model.html#logistic-regression\n",
      "  n_iter_i = _check_optimize_result(\n"
     ]
    }
   ],
   "source": [
    "clf.fit(X_train, y_train)\n",
    "print(\"model score: %.3f\" % clf.score(X_test, y_test))"
   ]
  },
  {
   "cell_type": "markdown",
   "id": "6495b6fe",
   "metadata": {},
   "source": [
    "### PCA"
   ]
  },
  {
   "cell_type": "code",
   "execution_count": 114,
   "id": "88fb35f3",
   "metadata": {},
   "outputs": [],
   "source": [
    "one_hot_encoder = OneHotEncoder(handle_unknown='ignore')"
   ]
  },
  {
   "cell_type": "code",
   "execution_count": 115,
   "id": "8c2fc23d",
   "metadata": {},
   "outputs": [],
   "source": [
    "cat_col_df = data[categorical_features]"
   ]
  },
  {
   "cell_type": "code",
   "execution_count": 116,
   "id": "f5f59584",
   "metadata": {},
   "outputs": [
    {
     "data": {
      "text/plain": [
       "OneHotEncoder(handle_unknown='ignore')"
      ]
     },
     "execution_count": 116,
     "metadata": {},
     "output_type": "execute_result"
    }
   ],
   "source": [
    "one_hot_encoder.fit(cat_col_df)"
   ]
  },
  {
   "cell_type": "code",
   "execution_count": 117,
   "id": "b3d29340",
   "metadata": {},
   "outputs": [
    {
     "data": {
      "text/plain": [
       "[array(['Female', 'Male', 'Other'], dtype=object),\n",
       " array([0, 1], dtype=int64),\n",
       " array([0, 1], dtype=int64),\n",
       " array(['No', 'Yes'], dtype=object),\n",
       " array(['Govt_job', 'Never_worked', 'Private', 'Self-employed', 'children'],\n",
       "       dtype=object),\n",
       " array(['Rural', 'Urban'], dtype=object),\n",
       " array(['Unknown', 'formerly smoked', 'never smoked', 'smokes'],\n",
       "       dtype=object)]"
      ]
     },
     "execution_count": 117,
     "metadata": {},
     "output_type": "execute_result"
    }
   ],
   "source": [
    "one_hot_encoder.categories_"
   ]
  },
  {
   "cell_type": "code",
   "execution_count": 118,
   "id": "0870c940",
   "metadata": {},
   "outputs": [],
   "source": [
    "one_hot_df = pd.DataFrame(one_hot_encoder.transform(data[categorical_features]).toarray())"
   ]
  },
  {
   "cell_type": "code",
   "execution_count": 119,
   "id": "fe9a48e9",
   "metadata": {},
   "outputs": [
    {
     "data": {
      "text/plain": [
       "(5110, 20)"
      ]
     },
     "execution_count": 119,
     "metadata": {},
     "output_type": "execute_result"
    }
   ],
   "source": [
    "one_hot_df.shape"
   ]
  },
  {
   "cell_type": "code",
   "execution_count": 120,
   "id": "f79626a0",
   "metadata": {},
   "outputs": [],
   "source": [
    "one_hot_df.columns=['Female', 'Male', 'Other', 'hypertension_0', 'hypertension_1', 'heart_disease_0', 'heart_disease_1', 'not_married', 'married', 'Govt_job',\n",
    "                  'Never_worked', 'Private', 'Self-employed', 'children', 'Rural', 'Urban', 'Unknown', 'formerly_smoked', 'never_smoked', 'smokes']"
   ]
  },
  {
   "cell_type": "code",
   "execution_count": 121,
   "id": "b422cfb2",
   "metadata": {},
   "outputs": [
    {
     "data": {
      "text/html": [
       "<div>\n",
       "<style scoped>\n",
       "    .dataframe tbody tr th:only-of-type {\n",
       "        vertical-align: middle;\n",
       "    }\n",
       "\n",
       "    .dataframe tbody tr th {\n",
       "        vertical-align: top;\n",
       "    }\n",
       "\n",
       "    .dataframe thead th {\n",
       "        text-align: right;\n",
       "    }\n",
       "</style>\n",
       "<table border=\"1\" class=\"dataframe\">\n",
       "  <thead>\n",
       "    <tr style=\"text-align: right;\">\n",
       "      <th></th>\n",
       "      <th>Female</th>\n",
       "      <th>Male</th>\n",
       "      <th>Other</th>\n",
       "      <th>hypertension_0</th>\n",
       "      <th>hypertension_1</th>\n",
       "      <th>heart_disease_0</th>\n",
       "      <th>heart_disease_1</th>\n",
       "      <th>not_married</th>\n",
       "      <th>married</th>\n",
       "      <th>Govt_job</th>\n",
       "      <th>Never_worked</th>\n",
       "      <th>Private</th>\n",
       "      <th>Self-employed</th>\n",
       "      <th>children</th>\n",
       "      <th>Rural</th>\n",
       "      <th>Urban</th>\n",
       "      <th>Unknown</th>\n",
       "      <th>formerly_smoked</th>\n",
       "      <th>never_smoked</th>\n",
       "      <th>smokes</th>\n",
       "    </tr>\n",
       "  </thead>\n",
       "  <tbody>\n",
       "    <tr>\n",
       "      <th>0</th>\n",
       "      <td>0.0</td>\n",
       "      <td>1.0</td>\n",
       "      <td>0.0</td>\n",
       "      <td>1.0</td>\n",
       "      <td>0.0</td>\n",
       "      <td>0.0</td>\n",
       "      <td>1.0</td>\n",
       "      <td>0.0</td>\n",
       "      <td>1.0</td>\n",
       "      <td>0.0</td>\n",
       "      <td>0.0</td>\n",
       "      <td>1.0</td>\n",
       "      <td>0.0</td>\n",
       "      <td>0.0</td>\n",
       "      <td>0.0</td>\n",
       "      <td>1.0</td>\n",
       "      <td>0.0</td>\n",
       "      <td>1.0</td>\n",
       "      <td>0.0</td>\n",
       "      <td>0.0</td>\n",
       "    </tr>\n",
       "    <tr>\n",
       "      <th>1</th>\n",
       "      <td>1.0</td>\n",
       "      <td>0.0</td>\n",
       "      <td>0.0</td>\n",
       "      <td>1.0</td>\n",
       "      <td>0.0</td>\n",
       "      <td>1.0</td>\n",
       "      <td>0.0</td>\n",
       "      <td>0.0</td>\n",
       "      <td>1.0</td>\n",
       "      <td>0.0</td>\n",
       "      <td>0.0</td>\n",
       "      <td>0.0</td>\n",
       "      <td>1.0</td>\n",
       "      <td>0.0</td>\n",
       "      <td>1.0</td>\n",
       "      <td>0.0</td>\n",
       "      <td>0.0</td>\n",
       "      <td>0.0</td>\n",
       "      <td>1.0</td>\n",
       "      <td>0.0</td>\n",
       "    </tr>\n",
       "    <tr>\n",
       "      <th>2</th>\n",
       "      <td>0.0</td>\n",
       "      <td>1.0</td>\n",
       "      <td>0.0</td>\n",
       "      <td>1.0</td>\n",
       "      <td>0.0</td>\n",
       "      <td>0.0</td>\n",
       "      <td>1.0</td>\n",
       "      <td>0.0</td>\n",
       "      <td>1.0</td>\n",
       "      <td>0.0</td>\n",
       "      <td>0.0</td>\n",
       "      <td>1.0</td>\n",
       "      <td>0.0</td>\n",
       "      <td>0.0</td>\n",
       "      <td>1.0</td>\n",
       "      <td>0.0</td>\n",
       "      <td>0.0</td>\n",
       "      <td>0.0</td>\n",
       "      <td>1.0</td>\n",
       "      <td>0.0</td>\n",
       "    </tr>\n",
       "    <tr>\n",
       "      <th>3</th>\n",
       "      <td>1.0</td>\n",
       "      <td>0.0</td>\n",
       "      <td>0.0</td>\n",
       "      <td>1.0</td>\n",
       "      <td>0.0</td>\n",
       "      <td>1.0</td>\n",
       "      <td>0.0</td>\n",
       "      <td>0.0</td>\n",
       "      <td>1.0</td>\n",
       "      <td>0.0</td>\n",
       "      <td>0.0</td>\n",
       "      <td>1.0</td>\n",
       "      <td>0.0</td>\n",
       "      <td>0.0</td>\n",
       "      <td>0.0</td>\n",
       "      <td>1.0</td>\n",
       "      <td>0.0</td>\n",
       "      <td>0.0</td>\n",
       "      <td>0.0</td>\n",
       "      <td>1.0</td>\n",
       "    </tr>\n",
       "    <tr>\n",
       "      <th>4</th>\n",
       "      <td>1.0</td>\n",
       "      <td>0.0</td>\n",
       "      <td>0.0</td>\n",
       "      <td>0.0</td>\n",
       "      <td>1.0</td>\n",
       "      <td>1.0</td>\n",
       "      <td>0.0</td>\n",
       "      <td>0.0</td>\n",
       "      <td>1.0</td>\n",
       "      <td>0.0</td>\n",
       "      <td>0.0</td>\n",
       "      <td>0.0</td>\n",
       "      <td>1.0</td>\n",
       "      <td>0.0</td>\n",
       "      <td>1.0</td>\n",
       "      <td>0.0</td>\n",
       "      <td>0.0</td>\n",
       "      <td>0.0</td>\n",
       "      <td>1.0</td>\n",
       "      <td>0.0</td>\n",
       "    </tr>\n",
       "    <tr>\n",
       "      <th>...</th>\n",
       "      <td>...</td>\n",
       "      <td>...</td>\n",
       "      <td>...</td>\n",
       "      <td>...</td>\n",
       "      <td>...</td>\n",
       "      <td>...</td>\n",
       "      <td>...</td>\n",
       "      <td>...</td>\n",
       "      <td>...</td>\n",
       "      <td>...</td>\n",
       "      <td>...</td>\n",
       "      <td>...</td>\n",
       "      <td>...</td>\n",
       "      <td>...</td>\n",
       "      <td>...</td>\n",
       "      <td>...</td>\n",
       "      <td>...</td>\n",
       "      <td>...</td>\n",
       "      <td>...</td>\n",
       "      <td>...</td>\n",
       "    </tr>\n",
       "    <tr>\n",
       "      <th>5105</th>\n",
       "      <td>1.0</td>\n",
       "      <td>0.0</td>\n",
       "      <td>0.0</td>\n",
       "      <td>0.0</td>\n",
       "      <td>1.0</td>\n",
       "      <td>1.0</td>\n",
       "      <td>0.0</td>\n",
       "      <td>0.0</td>\n",
       "      <td>1.0</td>\n",
       "      <td>0.0</td>\n",
       "      <td>0.0</td>\n",
       "      <td>1.0</td>\n",
       "      <td>0.0</td>\n",
       "      <td>0.0</td>\n",
       "      <td>0.0</td>\n",
       "      <td>1.0</td>\n",
       "      <td>0.0</td>\n",
       "      <td>0.0</td>\n",
       "      <td>1.0</td>\n",
       "      <td>0.0</td>\n",
       "    </tr>\n",
       "    <tr>\n",
       "      <th>5106</th>\n",
       "      <td>1.0</td>\n",
       "      <td>0.0</td>\n",
       "      <td>0.0</td>\n",
       "      <td>1.0</td>\n",
       "      <td>0.0</td>\n",
       "      <td>1.0</td>\n",
       "      <td>0.0</td>\n",
       "      <td>0.0</td>\n",
       "      <td>1.0</td>\n",
       "      <td>0.0</td>\n",
       "      <td>0.0</td>\n",
       "      <td>0.0</td>\n",
       "      <td>1.0</td>\n",
       "      <td>0.0</td>\n",
       "      <td>0.0</td>\n",
       "      <td>1.0</td>\n",
       "      <td>0.0</td>\n",
       "      <td>0.0</td>\n",
       "      <td>1.0</td>\n",
       "      <td>0.0</td>\n",
       "    </tr>\n",
       "    <tr>\n",
       "      <th>5107</th>\n",
       "      <td>1.0</td>\n",
       "      <td>0.0</td>\n",
       "      <td>0.0</td>\n",
       "      <td>1.0</td>\n",
       "      <td>0.0</td>\n",
       "      <td>1.0</td>\n",
       "      <td>0.0</td>\n",
       "      <td>0.0</td>\n",
       "      <td>1.0</td>\n",
       "      <td>0.0</td>\n",
       "      <td>0.0</td>\n",
       "      <td>0.0</td>\n",
       "      <td>1.0</td>\n",
       "      <td>0.0</td>\n",
       "      <td>1.0</td>\n",
       "      <td>0.0</td>\n",
       "      <td>0.0</td>\n",
       "      <td>0.0</td>\n",
       "      <td>1.0</td>\n",
       "      <td>0.0</td>\n",
       "    </tr>\n",
       "    <tr>\n",
       "      <th>5108</th>\n",
       "      <td>0.0</td>\n",
       "      <td>1.0</td>\n",
       "      <td>0.0</td>\n",
       "      <td>1.0</td>\n",
       "      <td>0.0</td>\n",
       "      <td>1.0</td>\n",
       "      <td>0.0</td>\n",
       "      <td>0.0</td>\n",
       "      <td>1.0</td>\n",
       "      <td>0.0</td>\n",
       "      <td>0.0</td>\n",
       "      <td>1.0</td>\n",
       "      <td>0.0</td>\n",
       "      <td>0.0</td>\n",
       "      <td>1.0</td>\n",
       "      <td>0.0</td>\n",
       "      <td>0.0</td>\n",
       "      <td>1.0</td>\n",
       "      <td>0.0</td>\n",
       "      <td>0.0</td>\n",
       "    </tr>\n",
       "    <tr>\n",
       "      <th>5109</th>\n",
       "      <td>1.0</td>\n",
       "      <td>0.0</td>\n",
       "      <td>0.0</td>\n",
       "      <td>1.0</td>\n",
       "      <td>0.0</td>\n",
       "      <td>1.0</td>\n",
       "      <td>0.0</td>\n",
       "      <td>0.0</td>\n",
       "      <td>1.0</td>\n",
       "      <td>1.0</td>\n",
       "      <td>0.0</td>\n",
       "      <td>0.0</td>\n",
       "      <td>0.0</td>\n",
       "      <td>0.0</td>\n",
       "      <td>0.0</td>\n",
       "      <td>1.0</td>\n",
       "      <td>1.0</td>\n",
       "      <td>0.0</td>\n",
       "      <td>0.0</td>\n",
       "      <td>0.0</td>\n",
       "    </tr>\n",
       "  </tbody>\n",
       "</table>\n",
       "<p>5110 rows × 20 columns</p>\n",
       "</div>"
      ],
      "text/plain": [
       "      Female  Male  Other  hypertension_0  hypertension_1  heart_disease_0  \\\n",
       "0        0.0   1.0    0.0             1.0             0.0              0.0   \n",
       "1        1.0   0.0    0.0             1.0             0.0              1.0   \n",
       "2        0.0   1.0    0.0             1.0             0.0              0.0   \n",
       "3        1.0   0.0    0.0             1.0             0.0              1.0   \n",
       "4        1.0   0.0    0.0             0.0             1.0              1.0   \n",
       "...      ...   ...    ...             ...             ...              ...   \n",
       "5105     1.0   0.0    0.0             0.0             1.0              1.0   \n",
       "5106     1.0   0.0    0.0             1.0             0.0              1.0   \n",
       "5107     1.0   0.0    0.0             1.0             0.0              1.0   \n",
       "5108     0.0   1.0    0.0             1.0             0.0              1.0   \n",
       "5109     1.0   0.0    0.0             1.0             0.0              1.0   \n",
       "\n",
       "      heart_disease_1  not_married  married  Govt_job  Never_worked  Private  \\\n",
       "0                 1.0          0.0      1.0       0.0           0.0      1.0   \n",
       "1                 0.0          0.0      1.0       0.0           0.0      0.0   \n",
       "2                 1.0          0.0      1.0       0.0           0.0      1.0   \n",
       "3                 0.0          0.0      1.0       0.0           0.0      1.0   \n",
       "4                 0.0          0.0      1.0       0.0           0.0      0.0   \n",
       "...               ...          ...      ...       ...           ...      ...   \n",
       "5105              0.0          0.0      1.0       0.0           0.0      1.0   \n",
       "5106              0.0          0.0      1.0       0.0           0.0      0.0   \n",
       "5107              0.0          0.0      1.0       0.0           0.0      0.0   \n",
       "5108              0.0          0.0      1.0       0.0           0.0      1.0   \n",
       "5109              0.0          0.0      1.0       1.0           0.0      0.0   \n",
       "\n",
       "      Self-employed  children  Rural  Urban  Unknown  formerly_smoked  \\\n",
       "0               0.0       0.0    0.0    1.0      0.0              1.0   \n",
       "1               1.0       0.0    1.0    0.0      0.0              0.0   \n",
       "2               0.0       0.0    1.0    0.0      0.0              0.0   \n",
       "3               0.0       0.0    0.0    1.0      0.0              0.0   \n",
       "4               1.0       0.0    1.0    0.0      0.0              0.0   \n",
       "...             ...       ...    ...    ...      ...              ...   \n",
       "5105            0.0       0.0    0.0    1.0      0.0              0.0   \n",
       "5106            1.0       0.0    0.0    1.0      0.0              0.0   \n",
       "5107            1.0       0.0    1.0    0.0      0.0              0.0   \n",
       "5108            0.0       0.0    1.0    0.0      0.0              1.0   \n",
       "5109            0.0       0.0    0.0    1.0      1.0              0.0   \n",
       "\n",
       "      never_smoked  smokes  \n",
       "0              0.0     0.0  \n",
       "1              1.0     0.0  \n",
       "2              1.0     0.0  \n",
       "3              0.0     1.0  \n",
       "4              1.0     0.0  \n",
       "...            ...     ...  \n",
       "5105           1.0     0.0  \n",
       "5106           1.0     0.0  \n",
       "5107           1.0     0.0  \n",
       "5108           0.0     0.0  \n",
       "5109           0.0     0.0  \n",
       "\n",
       "[5110 rows x 20 columns]"
      ]
     },
     "execution_count": 121,
     "metadata": {},
     "output_type": "execute_result"
    }
   ],
   "source": [
    "one_hot_df"
   ]
  },
  {
   "cell_type": "code",
   "execution_count": 122,
   "id": "4ffb299e",
   "metadata": {},
   "outputs": [],
   "source": [
    "num_col_df = data[numeric_features]"
   ]
  },
  {
   "cell_type": "code",
   "execution_count": 123,
   "id": "3ea93dc1",
   "metadata": {},
   "outputs": [
    {
     "data": {
      "text/html": [
       "<div>\n",
       "<style scoped>\n",
       "    .dataframe tbody tr th:only-of-type {\n",
       "        vertical-align: middle;\n",
       "    }\n",
       "\n",
       "    .dataframe tbody tr th {\n",
       "        vertical-align: top;\n",
       "    }\n",
       "\n",
       "    .dataframe thead th {\n",
       "        text-align: right;\n",
       "    }\n",
       "</style>\n",
       "<table border=\"1\" class=\"dataframe\">\n",
       "  <thead>\n",
       "    <tr style=\"text-align: right;\">\n",
       "      <th></th>\n",
       "      <th>age</th>\n",
       "      <th>avg_glucose_level</th>\n",
       "      <th>bmi</th>\n",
       "    </tr>\n",
       "  </thead>\n",
       "  <tbody>\n",
       "    <tr>\n",
       "      <th>0</th>\n",
       "      <td>67.0</td>\n",
       "      <td>228.69</td>\n",
       "      <td>36.6</td>\n",
       "    </tr>\n",
       "    <tr>\n",
       "      <th>1</th>\n",
       "      <td>61.0</td>\n",
       "      <td>202.21</td>\n",
       "      <td>NaN</td>\n",
       "    </tr>\n",
       "    <tr>\n",
       "      <th>2</th>\n",
       "      <td>80.0</td>\n",
       "      <td>105.92</td>\n",
       "      <td>32.5</td>\n",
       "    </tr>\n",
       "    <tr>\n",
       "      <th>3</th>\n",
       "      <td>49.0</td>\n",
       "      <td>171.23</td>\n",
       "      <td>34.4</td>\n",
       "    </tr>\n",
       "    <tr>\n",
       "      <th>4</th>\n",
       "      <td>79.0</td>\n",
       "      <td>174.12</td>\n",
       "      <td>24.0</td>\n",
       "    </tr>\n",
       "    <tr>\n",
       "      <th>...</th>\n",
       "      <td>...</td>\n",
       "      <td>...</td>\n",
       "      <td>...</td>\n",
       "    </tr>\n",
       "    <tr>\n",
       "      <th>5105</th>\n",
       "      <td>80.0</td>\n",
       "      <td>83.75</td>\n",
       "      <td>NaN</td>\n",
       "    </tr>\n",
       "    <tr>\n",
       "      <th>5106</th>\n",
       "      <td>81.0</td>\n",
       "      <td>125.20</td>\n",
       "      <td>40.0</td>\n",
       "    </tr>\n",
       "    <tr>\n",
       "      <th>5107</th>\n",
       "      <td>35.0</td>\n",
       "      <td>82.99</td>\n",
       "      <td>30.6</td>\n",
       "    </tr>\n",
       "    <tr>\n",
       "      <th>5108</th>\n",
       "      <td>51.0</td>\n",
       "      <td>166.29</td>\n",
       "      <td>25.6</td>\n",
       "    </tr>\n",
       "    <tr>\n",
       "      <th>5109</th>\n",
       "      <td>44.0</td>\n",
       "      <td>85.28</td>\n",
       "      <td>26.2</td>\n",
       "    </tr>\n",
       "  </tbody>\n",
       "</table>\n",
       "<p>5110 rows × 3 columns</p>\n",
       "</div>"
      ],
      "text/plain": [
       "       age  avg_glucose_level   bmi\n",
       "0     67.0             228.69  36.6\n",
       "1     61.0             202.21   NaN\n",
       "2     80.0             105.92  32.5\n",
       "3     49.0             171.23  34.4\n",
       "4     79.0             174.12  24.0\n",
       "...    ...                ...   ...\n",
       "5105  80.0              83.75   NaN\n",
       "5106  81.0             125.20  40.0\n",
       "5107  35.0              82.99  30.6\n",
       "5108  51.0             166.29  25.6\n",
       "5109  44.0              85.28  26.2\n",
       "\n",
       "[5110 rows x 3 columns]"
      ]
     },
     "execution_count": 123,
     "metadata": {},
     "output_type": "execute_result"
    }
   ],
   "source": [
    "num_col_df"
   ]
  },
  {
   "cell_type": "code",
   "execution_count": 124,
   "id": "605d3655",
   "metadata": {},
   "outputs": [],
   "source": [
    "scaler = StandardScaler()\n",
    "median_imputer = SimpleImputer(strategy=\"median\")\n",
    "median_imputer.fit(num_col_df)\n",
    "imputed_df = pd.DataFrame(median_imputer.transform(num_col_df))\n",
    "scaler.fit(imputed_df)\n",
    "scaler_df = pd.DataFrame(scaler.transform(imputed_df))"
   ]
  },
  {
   "cell_type": "code",
   "execution_count": 125,
   "id": "ddf67082",
   "metadata": {},
   "outputs": [],
   "source": [
    "scaler_df.columns = ['age_std', 'avg_glucose_level_std', 'bmi_std']"
   ]
  },
  {
   "cell_type": "code",
   "execution_count": 126,
   "id": "59cda354",
   "metadata": {},
   "outputs": [],
   "source": [
    "full_data = one_hot_df.merge(scaler_df, left_index=True, right_index=True)"
   ]
  },
  {
   "cell_type": "code",
   "execution_count": 127,
   "id": "43ae6026",
   "metadata": {},
   "outputs": [],
   "source": [
    "pca = PCA()\n",
    "X_pca = pca.fit_transform(full_data)\n",
    "total_explained_variance = pca.explained_variance_ratio_.cumsum()\n",
    "n_over_95 = len(total_explained_variance[total_explained_variance >= .95])\n",
    "n_to_reach_95 = X_pca.shape[1] - n_over_95 + 1"
   ]
  },
  {
   "cell_type": "code",
   "execution_count": 128,
   "id": "6c14e59e",
   "metadata": {},
   "outputs": [
    {
     "name": "stdout",
     "output_type": "stream",
     "text": [
      "Number features: 11, Total Variance Explained: 0.9526782238274881\n"
     ]
    }
   ],
   "source": [
    "print(\"Number features: {0}, Total Variance Explained: {1}\".format(n_to_reach_95, total_explained_variance[n_to_reach_95-1]))"
   ]
  },
  {
   "cell_type": "code",
   "execution_count": 129,
   "id": "9ba457e1",
   "metadata": {},
   "outputs": [
    {
     "data": {
      "image/png": "[encoded data removed]",
      "text/plain": [
       "<Figure size 432x288 with 1 Axes>"
      ]
     },
     "metadata": {
      "needs_background": "light"
     },
     "output_type": "display_data"
    }
   ],
   "source": [
    "pca = PCA(n_components=11)\n",
    "pca_fit = pca.fit(full_data)\n",
    "PC_values = np.arange(pca.n_components_) + 1\n",
    "plt.plot(PC_values, pca.explained_variance_ratio_, 'o-', linewidth=2, color='blue')\n",
    "plt.title('Scree Plot')\n",
    "plt.xlabel('Principal Component')\n",
    "plt.ylabel('Variance Explained')\n",
    "plt.show()"
   ]
  },
  {
   "cell_type": "code",
   "execution_count": 130,
   "id": "45761258",
   "metadata": {},
   "outputs": [
    {
     "name": "stdout",
     "output_type": "stream",
     "text": [
      "[0.30214532 0.14754053 0.12097061 0.08280621 0.08063472 0.05532417\n",
      " 0.04758203 0.0332673  0.03070709 0.02678073 0.02491951]\n"
     ]
    }
   ],
   "source": [
    "print(pca.explained_variance_ratio_)"
   ]
  },
  {
   "cell_type": "code",
   "execution_count": 387,
   "id": "d94031ae",
   "metadata": {},
   "outputs": [],
   "source": [
    "X_pca = full_data"
   ]
  },
  {
   "cell_type": "code",
   "execution_count": 388,
   "id": "1531e9b6",
   "metadata": {},
   "outputs": [],
   "source": [
    "y_pca = data.iloc[:, -1]"
   ]
  },
  {
   "cell_type": "code",
   "execution_count": 389,
   "id": "ed918fbf",
   "metadata": {},
   "outputs": [],
   "source": [
    "X_train_pca, X_test_pca, y_train_pca, y_test_pca = train_test_split(X_pca, y_pca, test_size=0.2, random_state=0)"
   ]
  },
  {
   "cell_type": "code",
   "execution_count": 390,
   "id": "f26a00f9",
   "metadata": {},
   "outputs": [
    {
     "data": {
      "text/plain": [
       "Pipeline(steps=[('scaler', StandardScaler()), ('pca', PCA(n_components=11)),\n",
       "                ('clf', RandomForestClassifier())])"
      ]
     },
     "execution_count": 390,
     "metadata": {},
     "output_type": "execute_result"
    }
   ],
   "source": [
    "pipe = Pipeline([('scaler', StandardScaler()),\n",
    "                 ('pca', PCA(n_components=n_to_reach_95)),\n",
    "                 ('clf', RandomForestClassifier())])\n",
    "\n",
    "pipe.fit(X_train_pca,y_train_pca)"
   ]
  },
  {
   "cell_type": "code",
   "execution_count": 391,
   "id": "2b2e92a3",
   "metadata": {},
   "outputs": [],
   "source": [
    "model = pipe.steps[1][1]\n",
    "n_pcs= model.components_.shape[0]\n",
    "initial_feature_names = X_train_pca.columns\n",
    "most_important = [np.abs(model.components_[i]).argmax() for i in range(n_pcs)]"
   ]
  },
  {
   "cell_type": "code",
   "execution_count": 392,
   "id": "f7717fb5",
   "metadata": {},
   "outputs": [],
   "source": [
    "most_important_names = [initial_feature_names[most_important[i]] for i in range(n_pcs)]"
   ]
  },
  {
   "cell_type": "code",
   "execution_count": 393,
   "id": "b5acf670",
   "metadata": {},
   "outputs": [
    {
     "data": {
      "image/png": "[encoded data removed]",
      "text/plain": [
       "<Figure size 432x288 with 1 Axes>"
      ]
     },
     "metadata": {
      "needs_background": "light"
     },
     "output_type": "display_data"
    }
   ],
   "source": [
    "zipped_feats = zip(most_important_names, pipe.steps[2][1].feature_importances_)\n",
    "zipped_feats = sorted(zipped_feats, key=lambda x: x[1], reverse=True)\n",
    "features, importances = zip(*zipped_feats)\n",
    "top_features = features[:5]\n",
    "top_importances = importances[:5]\n",
    "plt.title('Feature Importances')\n",
    "plt.barh(range(len(top_importances)), top_importances, color='b', align='center')\n",
    "plt.yticks(range(len(top_importances)), top_features)\n",
    "plt.xlabel('Relative Importance')\n",
    "plt.show()"
   ]
  },
  {
   "cell_type": "code",
   "execution_count": 394,
   "id": "ef4e0d9e",
   "metadata": {},
   "outputs": [
    {
     "name": "stdout",
     "output_type": "stream",
     "text": [
      "model score: 0.945\n"
     ]
    }
   ],
   "source": [
    "print(\"model score: %.3f\" % pipe.score(X_test_pca,y_test_pca))"
   ]
  }
 ],
 "metadata": {
  "kernelspec": {
   "display_name": "Python 3",
   "language": "python",
   "name": "python3"
  },
  "language_info": {
   "codemirror_mode": {
    "name": "ipython",
    "version": 3
   },
   "file_extension": ".py",
   "mimetype": "text/x-python",
   "name": "python",
   "nbconvert_exporter": "python",
   "pygments_lexer": "ipython3",
   "version": "3.8.8"
  }
 },
 "nbformat": 4,
 "nbformat_minor": 5
}
